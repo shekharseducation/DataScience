{
 "cells": [
  {
   "cell_type": "code",
   "execution_count": 1,
   "metadata": {},
   "outputs": [
    {
     "name": "stdout",
     "output_type": "stream",
     "text": [
      "[ 4  8 10 12]\n"
     ]
    }
   ],
   "source": [
    "import numpy as np\n",
    "list1 = [4,8,10,12]\n",
    "ar1 = np.array(list1)\n",
    "print(ar1)\n"
   ]
  },
  {
   "cell_type": "code",
   "execution_count": 2,
   "metadata": {},
   "outputs": [
    {
     "name": "stdout",
     "output_type": "stream",
     "text": [
      "[100   4  25  10  12  15]\n",
      "Length of array = 6\n"
     ]
    }
   ],
   "source": [
    "import numpy as np\n",
    "list1 = [1,4,8,10,12,15]\n",
    "ar1 = np.array(list1)\n",
    "ar1[0] = 100\n",
    "ar1[2] = 25\n",
    "print(ar1)\n",
    "print(\"Length of array = {}\".format(len(ar1)))\n"
   ]
  },
  {
   "cell_type": "code",
   "execution_count": 3,
   "metadata": {},
   "outputs": [
    {
     "name": "stdout",
     "output_type": "stream",
     "text": [
      "[100  13  25]\n",
      "Length of array = 3\n"
     ]
    }
   ],
   "source": [
    "import numpy as np\n",
    "list1 = [12,13,14]\n",
    "ar1 = np.array(list1)\n",
    "ar1[0] = 100\n",
    "ar1[2] = 25\n",
    "print(ar1)\n",
    "print(\"Length of array = {}\".format(len(ar1)))"
   ]
  },
  {
   "cell_type": "code",
   "execution_count": 5,
   "metadata": {},
   "outputs": [
    {
     "name": "stdout",
     "output_type": "stream",
     "text": [
      "[100  20  25  30  35  40  45  50]\n",
      "Length of array = 8\n"
     ]
    }
   ],
   "source": [
    "import numpy as np\n",
    "list1 = [10,20,25,30,35,40,45,50]\n",
    "ar1 = np.array(list1)\n",
    "ar1[0] = 100\n",
    "ar1[2] = 25\n",
    "print(ar1)\n",
    "print(\"Length of array = {}\".format(len(ar1)))"
   ]
  },
  {
   "cell_type": "code",
   "execution_count": 8,
   "metadata": {},
   "outputs": [
    {
     "name": "stdout",
     "output_type": "stream",
     "text": [
      "18\n"
     ]
    }
   ],
   "source": [
    "import numpy as np\n",
    "list1 = [3,4,5,6]\n",
    "arr = np.array(list1)\n",
    "x=0\n",
    "for m in arr:\n",
    "    x=x+m\n",
    "print(x)"
   ]
  },
  {
   "cell_type": "code",
   "execution_count": 9,
   "metadata": {},
   "outputs": [
    {
     "name": "stdout",
     "output_type": "stream",
     "text": [
      "10\n"
     ]
    }
   ],
   "source": [
    "import numpy as np\n",
    "list1 = [10]\n",
    "arr = np.array(list1)\n",
    "x=0\n",
    "for m in arr:\n",
    "    x=x+m\n",
    "print(x)"
   ]
  },
  {
   "cell_type": "code",
   "execution_count": 10,
   "metadata": {},
   "outputs": [
    {
     "name": "stdout",
     "output_type": "stream",
     "text": [
      "15\n"
     ]
    }
   ],
   "source": [
    "import numpy as np\n",
    "list1 = [1,2,3,4,5]\n",
    "arr = np.array(list1)\n",
    "x=0\n",
    "for m in arr:\n",
    "    x=x+m\n",
    "print(x)"
   ]
  },
  {
   "cell_type": "code",
   "execution_count": 11,
   "metadata": {},
   "outputs": [
    {
     "name": "stdout",
     "output_type": "stream",
     "text": [
      "Sum of array = 34\n"
     ]
    }
   ],
   "source": [
    "import numpy as np\n",
    "list1 = [4,8,10,12]\n",
    "ar1=np.array(list1)\n",
    "ar1=np.array(list1)\n",
    "sum_ar1 = np.sum(ar1)\n",
    "print(\"Sum of array = {}\".format(sum_ar1))\n"
   ]
  },
  {
   "cell_type": "code",
   "execution_count": 12,
   "metadata": {},
   "outputs": [
    {
     "name": "stdout",
     "output_type": "stream",
     "text": [
      "Sum of array = 10\n"
     ]
    }
   ],
   "source": [
    "import numpy as np\n",
    "list1 = [1,2,3,4]\n",
    "ar1=np.array(list1)\n",
    "ar1=np.array(list1)\n",
    "sum_ar1 = np.sum(ar1)\n",
    "print(\"Sum of array = {}\".format(sum_ar1))"
   ]
  },
  {
   "cell_type": "code",
   "execution_count": 13,
   "metadata": {},
   "outputs": [
    {
     "name": "stdout",
     "output_type": "stream",
     "text": [
      "Sum of array = 10\n"
     ]
    }
   ],
   "source": [
    "import numpy as np\n",
    "list1 = [10]\n",
    "ar1=np.array(list1)\n",
    "ar1=np.array(list1)\n",
    "sum_ar1 = np.sum(ar1)\n",
    "print(\"Sum of array = {}\".format(sum_ar1))"
   ]
  },
  {
   "cell_type": "code",
   "execution_count": 14,
   "metadata": {},
   "outputs": [
    {
     "name": "stdout",
     "output_type": "stream",
     "text": [
      "Mean of array=7.0\n"
     ]
    }
   ],
   "source": [
    "import numpy as np\n",
    "list1 = [3,6,12]\n",
    "ar1 = np.array(list1)\n",
    "mean_ar1 = np.mean(ar1)\n",
    "print(\"Mean of array={}\".format(mean_ar1))"
   ]
  },
  {
   "cell_type": "code",
   "execution_count": 15,
   "metadata": {},
   "outputs": [
    {
     "name": "stdout",
     "output_type": "stream",
     "text": [
      "Mean of array=14.0\n"
     ]
    }
   ],
   "source": [
    "import numpy as np\n",
    "list1 = [12,13,14,17]\n",
    "ar1 = np.array(list1)\n",
    "mean_ar1 = np.mean(ar1)\n",
    "print(\"Mean of array={}\".format(mean_ar1))"
   ]
  },
  {
   "cell_type": "code",
   "execution_count": 16,
   "metadata": {},
   "outputs": [
    {
     "name": "stdout",
     "output_type": "stream",
     "text": [
      "Mean of array=30.0\n"
     ]
    }
   ],
   "source": [
    "import numpy as np\n",
    "list1 = [10,20,30,40,50]\n",
    "ar1 = np.array(list1)\n",
    "mean_ar1 = np.mean(ar1)\n",
    "print(\"Mean of array={}\".format(mean_ar1))"
   ]
  },
  {
   "cell_type": "code",
   "execution_count": 17,
   "metadata": {},
   "outputs": [
    {
     "name": "stdout",
     "output_type": "stream",
     "text": [
      "Min of array = 3\n",
      "Max of array = 12\n"
     ]
    }
   ],
   "source": [
    "import numpy as np\n",
    "list1 = [3,6,12]\n",
    "nums=np.array(list1)\n",
    "min1 = np.min(nums)\n",
    "max1= np.max(nums)\n",
    "print(\"Min of array = {}\".format(min1))\n",
    "print(\"Max of array = {}\".format(max1))"
   ]
  },
  {
   "cell_type": "code",
   "execution_count": 18,
   "metadata": {},
   "outputs": [
    {
     "name": "stdout",
     "output_type": "stream",
     "text": [
      "Min of array = 12\n",
      "Max of array = 30\n"
     ]
    }
   ],
   "source": [
    "import numpy as np\n",
    "list1 = [20,30,12,13,14,17]\n",
    "nums=np.array(list1)\n",
    "min1 = np.min(nums)\n",
    "max1= np.max(nums)\n",
    "print(\"Min of array = {}\".format(min1))\n",
    "print(\"Max of array = {}\".format(max1))"
   ]
  },
  {
   "cell_type": "code",
   "execution_count": 19,
   "metadata": {},
   "outputs": [
    {
     "name": "stdout",
     "output_type": "stream",
     "text": [
      "Min of array = 2\n",
      "Max of array = 8\n"
     ]
    }
   ],
   "source": [
    "import numpy as np\n",
    "list1 = [4,8,2,4,6,7]\n",
    "nums=np.array(list1)\n",
    "min1 = np.min(nums)\n",
    "max1= np.max(nums)\n",
    "print(\"Min of array = {}\".format(min1))\n",
    "print(\"Max of array = {}\".format(max1))"
   ]
  },
  {
   "cell_type": "code",
   "execution_count": 22,
   "metadata": {},
   "outputs": [
    {
     "name": "stdout",
     "output_type": "stream",
     "text": [
      "[[ 3  6 11]]\n"
     ]
    }
   ],
   "source": [
    "import numpy as np\n",
    "list2=[2,5,10]\n",
    "b=1\n",
    "a=np.array([list2])\n",
    "a=a+b\n",
    "print(a)"
   ]
  },
  {
   "cell_type": "code",
   "execution_count": 23,
   "metadata": {},
   "outputs": [
    {
     "name": "stdout",
     "output_type": "stream",
     "text": [
      "[[4 5 6 7]]\n"
     ]
    }
   ],
   "source": [
    "import numpy as np\n",
    "list2=[1,2,3,4]\n",
    "b=3\n",
    "a=np.array([list2])\n",
    "a=a+b\n",
    "print(a)"
   ]
  },
  {
   "cell_type": "code",
   "execution_count": 24,
   "metadata": {},
   "outputs": [
    {
     "name": "stdout",
     "output_type": "stream",
     "text": [
      "[[26]]\n"
     ]
    }
   ],
   "source": [
    "import numpy as np\n",
    "list2=[20]\n",
    "b=6\n",
    "a=np.array([list2])\n",
    "a=a+b\n",
    "print(a)"
   ]
  },
  {
   "cell_type": "code",
   "execution_count": 25,
   "metadata": {},
   "outputs": [
    {
     "name": "stdout",
     "output_type": "stream",
     "text": [
      "[[6 7 8 9]]\n"
     ]
    }
   ],
   "source": [
    "import numpy as np\n",
    "list2=[3,4,5,6]\n",
    "b=1\n",
    "a=np.array([list2])\n",
    "a=a+3*b\n",
    "print(a)"
   ]
  },
  {
   "cell_type": "code",
   "execution_count": 26,
   "metadata": {},
   "outputs": [
    {
     "name": "stdout",
     "output_type": "stream",
     "text": [
      "[[10 11 12 13]]\n"
     ]
    }
   ],
   "source": [
    "import numpy as np\n",
    "list2=[1,2,3,4]\n",
    "b=3\n",
    "a=np.array([list2])\n",
    "a=a+3*b\n",
    "print(a)"
   ]
  },
  {
   "cell_type": "code",
   "execution_count": 27,
   "metadata": {},
   "outputs": [
    {
     "name": "stdout",
     "output_type": "stream",
     "text": [
      "[[38]]\n"
     ]
    }
   ],
   "source": [
    "import numpy as np\n",
    "list2=[20]\n",
    "b=6\n",
    "a=np.array([list2])\n",
    "a=a+3*b\n",
    "print(a)"
   ]
  },
  {
   "cell_type": "code",
   "execution_count": 28,
   "metadata": {},
   "outputs": [
    {
     "name": "stdout",
     "output_type": "stream",
     "text": [
      "[[ 4  8 12 16]]\n"
     ]
    }
   ],
   "source": [
    "import numpy as np\n",
    "list2=[1,2,3,4]\n",
    "a=np.array([list2])\n",
    "a=a*4\n",
    "print(a)"
   ]
  },
  {
   "cell_type": "code",
   "execution_count": 29,
   "metadata": {},
   "outputs": [
    {
     "name": "stdout",
     "output_type": "stream",
     "text": [
      "[[ 8 20]]\n"
     ]
    }
   ],
   "source": [
    "import numpy as np\n",
    "list2=[2,5]\n",
    "a=np.array([list2])\n",
    "a=a*4\n",
    "print(a)"
   ]
  },
  {
   "cell_type": "code",
   "execution_count": 30,
   "metadata": {},
   "outputs": [
    {
     "name": "stdout",
     "output_type": "stream",
     "text": [
      "[[44]]\n"
     ]
    }
   ],
   "source": [
    "import numpy as np\n",
    "list2=[11]\n",
    "a=np.array([list2])\n",
    "a=a*4\n",
    "print(a)"
   ]
  },
  {
   "cell_type": "code",
   "execution_count": 31,
   "metadata": {},
   "outputs": [
    {
     "name": "stdout",
     "output_type": "stream",
     "text": [
      "[[1. 2. 3.]]\n"
     ]
    }
   ],
   "source": [
    "import numpy as np\n",
    "list2=[3,6,9]\n",
    "x=3\n",
    "a=np.array([list2])\n",
    "a=a/x\n",
    "print(a)"
   ]
  },
  {
   "cell_type": "code",
   "execution_count": 32,
   "metadata": {},
   "outputs": [
    {
     "name": "stdout",
     "output_type": "stream",
     "text": [
      "[[1. 2. 4. 5.]]\n"
     ]
    }
   ],
   "source": [
    "import numpy as np\n",
    "list2=[2,4,8,10]\n",
    "x=2\n",
    "a=np.array([list2])\n",
    "a=a/x\n",
    "print(a)"
   ]
  },
  {
   "cell_type": "code",
   "execution_count": 33,
   "metadata": {},
   "outputs": [
    {
     "name": "stdout",
     "output_type": "stream",
     "text": [
      "[[5. 2. 2. 4. 6.]]\n"
     ]
    }
   ],
   "source": [
    "import numpy as np\n",
    "list2=[25,10,10,20,30]\n",
    "x=5\n",
    "a=np.array([list2])\n",
    "a=a/x\n",
    "print(a)"
   ]
  },
  {
   "cell_type": "code",
   "execution_count": 35,
   "metadata": {},
   "outputs": [
    {
     "name": "stdout",
     "output_type": "stream",
     "text": [
      "[[ 1  4  9 16]]\n"
     ]
    }
   ],
   "source": [
    "import numpy as np\n",
    "list2=[1,2,3,4]\n",
    "a=np.array([list2])\n",
    "a=a**2\n",
    "print(a)"
   ]
  },
  {
   "cell_type": "code",
   "execution_count": 36,
   "metadata": {},
   "outputs": [
    {
     "name": "stdout",
     "output_type": "stream",
     "text": [
      "[[ 4 25]]\n"
     ]
    }
   ],
   "source": [
    "import numpy as np\n",
    "list2=[2,5]\n",
    "a=np.array([list2])\n",
    "a=a**2\n",
    "print(a)"
   ]
  },
  {
   "cell_type": "code",
   "execution_count": 37,
   "metadata": {},
   "outputs": [
    {
     "name": "stdout",
     "output_type": "stream",
     "text": [
      "[[121]]\n"
     ]
    }
   ],
   "source": [
    "import numpy as np\n",
    "list2=[11]\n",
    "a=np.array([list2])\n",
    "a=a**2\n",
    "print(a)"
   ]
  },
  {
   "cell_type": "code",
   "execution_count": 42,
   "metadata": {},
   "outputs": [
    {
     "name": "stdout",
     "output_type": "stream",
     "text": [
      "[[5 7 9 6]]\n",
      "[[25 35 45 30]]\n",
      "[[19 29 39 24]]\n"
     ]
    }
   ],
   "source": [
    "import numpy as np\n",
    "list2=[1,3,5,2]\n",
    "a=np.array([list2])\n",
    "m=2\n",
    "n=6\n",
    "p=5\n",
    "a=a+2*m\n",
    "print(a)\n",
    "a=a*p\n",
    "print(a)\n",
    "a=a-n\n",
    "print(a)"
   ]
  },
  {
   "cell_type": "code",
   "execution_count": 41,
   "metadata": {},
   "outputs": [
    {
     "name": "stdout",
     "output_type": "stream",
     "text": [
      "[[34]]\n"
     ]
    }
   ],
   "source": [
    "import numpy as np\n",
    "list2=[4]\n",
    "a=np.array([list2])\n",
    "m=2\n",
    "n=6\n",
    "p=5\n",
    "a=a+2*m\n",
    "a=a*p\n",
    "a=a-n\n",
    "print(a)"
   ]
  },
  {
   "cell_type": "code",
   "execution_count": 1,
   "metadata": {},
   "outputs": [
    {
     "name": "stdout",
     "output_type": "stream",
     "text": [
      "[3 5 5 7]\n"
     ]
    }
   ],
   "source": [
    "import numpy as np\n",
    "list1=[2,3,4,5]\n",
    "list2=[1,2,1,2]\n",
    "x1=np.array(list1)\n",
    "x2=np.array(list2)\n",
    "x3=x1+x2\n",
    "print(x3)"
   ]
  },
  {
   "cell_type": "code",
   "execution_count": 2,
   "metadata": {},
   "outputs": [
    {
     "name": "stdout",
     "output_type": "stream",
     "text": [
      "[3 9]\n"
     ]
    }
   ],
   "source": [
    "import numpy as np\n",
    "list1=[2,5]\n",
    "list2=[1,4]\n",
    "x1=np.array(list1)\n",
    "x2=np.array(list2)\n",
    "x3=x1+x2\n",
    "print(x3)"
   ]
  },
  {
   "cell_type": "code",
   "execution_count": 3,
   "metadata": {},
   "outputs": [
    {
     "name": "stdout",
     "output_type": "stream",
     "text": [
      "[9]\n"
     ]
    }
   ],
   "source": [
    "import numpy as np\n",
    "list1=[6]\n",
    "list2=[3]\n",
    "x1=np.array(list1)\n",
    "x2=np.array(list2)\n",
    "x3=x1+x2\n",
    "print(x3)"
   ]
  },
  {
   "cell_type": "code",
   "execution_count": 4,
   "metadata": {},
   "outputs": [
    {
     "name": "stdout",
     "output_type": "stream",
     "text": [
      "[1 1 3 3]\n"
     ]
    }
   ],
   "source": [
    "import numpy as np\n",
    "list1=[2,3,4,5]\n",
    "list2=[1,2,1,2]\n",
    "x1=np.array(list1)\n",
    "x2=np.array(list2)\n",
    "x3=x1-x2\n",
    "print(x3)"
   ]
  },
  {
   "cell_type": "code",
   "execution_count": 5,
   "metadata": {},
   "outputs": [
    {
     "name": "stdout",
     "output_type": "stream",
     "text": [
      "[1 1]\n"
     ]
    }
   ],
   "source": [
    "import numpy as np\n",
    "list1=[2,5]\n",
    "list2=[1,4]\n",
    "x1=np.array(list1)\n",
    "x2=np.array(list2)\n",
    "x3=x1-x2\n",
    "print(x3)"
   ]
  },
  {
   "cell_type": "code",
   "execution_count": 6,
   "metadata": {},
   "outputs": [
    {
     "name": "stdout",
     "output_type": "stream",
     "text": [
      "[3]\n"
     ]
    }
   ],
   "source": [
    "import numpy as np\n",
    "list1=[6]\n",
    "list2=[3]\n",
    "x1=np.array(list1)\n",
    "x2=np.array(list2)\n",
    "x3=x1-x2\n",
    "print(x3)"
   ]
  },
  {
   "cell_type": "code",
   "execution_count": 7,
   "metadata": {},
   "outputs": [
    {
     "name": "stdout",
     "output_type": "stream",
     "text": [
      "[4 3 4 5]\n"
     ]
    }
   ],
   "source": [
    "import numpy as np\n",
    "list1=[2,3,4,5]\n",
    "list2=[2,1,1,1]\n",
    "x1=np.array(list1)\n",
    "x2=np.array(list2)\n",
    "x3=x1*x2\n",
    "print(x3)"
   ]
  },
  {
   "cell_type": "code",
   "execution_count": 8,
   "metadata": {},
   "outputs": [
    {
     "name": "stdout",
     "output_type": "stream",
     "text": [
      "[ 8 15]\n"
     ]
    }
   ],
   "source": [
    "import numpy as np\n",
    "list1=[2,3]\n",
    "list2=[4,5]\n",
    "x1=np.array(list1)\n",
    "x2=np.array(list2)\n",
    "x3=x1*x2\n",
    "print(x3)"
   ]
  },
  {
   "cell_type": "code",
   "execution_count": 9,
   "metadata": {},
   "outputs": [
    {
     "name": "stdout",
     "output_type": "stream",
     "text": [
      "[18]\n"
     ]
    }
   ],
   "source": [
    "import numpy as np\n",
    "list1=[6]\n",
    "list2=[3]\n",
    "x1=np.array(list1)\n",
    "x2=np.array(list2)\n",
    "x3=x1*x2\n",
    "print(x3)"
   ]
  },
  {
   "cell_type": "code",
   "execution_count": 10,
   "metadata": {},
   "outputs": [
    {
     "name": "stdout",
     "output_type": "stream",
     "text": [
      "[2. 4. 4. 6.]\n"
     ]
    }
   ],
   "source": [
    "import numpy as np\n",
    "list1=[2,8,4,12]\n",
    "list2=[1,2,1,2]\n",
    "x1=np.array(list1)\n",
    "x2=np.array(list2)\n",
    "x3=x1/x2\n",
    "print(x3)"
   ]
  },
  {
   "cell_type": "code",
   "execution_count": 11,
   "metadata": {},
   "outputs": [
    {
     "name": "stdout",
     "output_type": "stream",
     "text": [
      "[2. 3.]\n"
     ]
    }
   ],
   "source": [
    "import numpy as np\n",
    "list1=[2,12]\n",
    "list2=[1,4]\n",
    "x1=np.array(list1)\n",
    "x2=np.array(list2)\n",
    "x3=x1/x2\n",
    "print(x3)"
   ]
  },
  {
   "cell_type": "code",
   "execution_count": 12,
   "metadata": {},
   "outputs": [
    {
     "name": "stdout",
     "output_type": "stream",
     "text": [
      "[2.]\n"
     ]
    }
   ],
   "source": [
    "import numpy as np\n",
    "list1=[6]\n",
    "list2=[3]\n",
    "x1=np.array(list1)\n",
    "x2=np.array(list2)\n",
    "x3=x1/x2\n",
    "print(x3)"
   ]
  },
  {
   "cell_type": "code",
   "execution_count": 13,
   "metadata": {},
   "outputs": [
    {
     "name": "stdout",
     "output_type": "stream",
     "text": [
      "[ 2  9  4 25]\n"
     ]
    }
   ],
   "source": [
    "import numpy as np\n",
    "list1=[2,3,4,5]\n",
    "list2=[1,2,1,2]\n",
    "x1=np.array(list1)\n",
    "x2=np.array(list2)\n",
    "x3=x1**x2\n",
    "print(x3)"
   ]
  },
  {
   "cell_type": "code",
   "execution_count": 14,
   "metadata": {},
   "outputs": [
    {
     "name": "stdout",
     "output_type": "stream",
     "text": [
      "[  2 625]\n"
     ]
    }
   ],
   "source": [
    "import numpy as np\n",
    "list1=[2,5]\n",
    "list2=[1,4]\n",
    "x1=np.array(list1)\n",
    "x2=np.array(list2)\n",
    "x3=x1**x2\n",
    "print(x3)"
   ]
  },
  {
   "cell_type": "code",
   "execution_count": 15,
   "metadata": {},
   "outputs": [
    {
     "name": "stdout",
     "output_type": "stream",
     "text": [
      "[216]\n"
     ]
    }
   ],
   "source": [
    "import numpy as np\n",
    "list1=[6]\n",
    "list2=[3]\n",
    "x1=np.array(list1)\n",
    "x2=np.array(list2)\n",
    "x3=x1**x2\n",
    "print(x3)"
   ]
  },
  {
   "cell_type": "code",
   "execution_count": 16,
   "metadata": {},
   "outputs": [
    {
     "name": "stdout",
     "output_type": "stream",
     "text": [
      "[3 6 5 8 7]\n",
      "[1 3 1 3 1]\n",
      "[ 1  6  3 12  5]\n",
      "[  1  36   3 144   5]\n"
     ]
    }
   ],
   "source": [
    "import numpy as np\n",
    "list1=[1,2,3,4,5]\n",
    "list2=[1,2,1,2,1]\n",
    "list3=[2,3,4,5,6]\n",
    "x1=np.array(list1)\n",
    "x2=np.array(list2)\n",
    "x3=np.array(list3)\n",
    "y1=x1+2*x2\n",
    "print(y1)\n",
    "y2=y1-x3\n",
    "print(y2)\n",
    "y3=y2*x1\n",
    "print(y3)\n",
    "y4=y3**x2\n",
    "print(y4)"
   ]
  },
  {
   "cell_type": "code",
   "execution_count": 2,
   "metadata": {},
   "outputs": [
    {
     "name": "stdout",
     "output_type": "stream",
     "text": [
      "[1, 2, 3, 4, 5]\n",
      "mean of numbers = 3.0\n",
      "Standard deviation of numbers = 1.4142135623730951\n"
     ]
    }
   ],
   "source": [
    "import numpy as np \n",
    "n = 5\n",
    "list1 = []\n",
    "for i in range(1,n+1):\n",
    "    list1.append(i)\n",
    "print(list1)\n",
    "ar1 = np.array(list1)\n",
    "mean_ar1 = np.mean(ar1)\n",
    "print(\"mean of numbers = {}\".format(mean_ar1))\n",
    "std_ar1 = np.std(ar1)\n",
    "print(\"Standard deviation of numbers = {}\".format(std_ar1))"
   ]
  },
  {
   "cell_type": "code",
   "execution_count": 3,
   "metadata": {},
   "outputs": [
    {
     "name": "stdout",
     "output_type": "stream",
     "text": [
      "[1, 2, 3, 4, 5, 6, 7, 8, 9, 10]\n",
      "mean of numbers = 5.5\n",
      "Standard deviation of numbers = 2.8722813232690143\n"
     ]
    }
   ],
   "source": [
    "import numpy as np \n",
    "n = 10\n",
    "list1 = []\n",
    "for i in range(1,n+1):\n",
    "    list1.append(i)\n",
    "print(list1)\n",
    "ar1 = np.array(list1)\n",
    "mean_ar1 = np.mean(ar1)\n",
    "print(\"mean of numbers = {}\".format(mean_ar1))\n",
    "std_ar1 = np.std(ar1)\n",
    "print(\"Standard deviation of numbers = {}\".format(std_ar1))\n"
   ]
  },
  {
   "cell_type": "code",
   "execution_count": 4,
   "metadata": {},
   "outputs": [
    {
     "name": "stdout",
     "output_type": "stream",
     "text": [
      "[1, 2, 3]\n",
      "mean of numbers = 2.0\n",
      "Standard deviation of numbers = 0.816496580927726\n"
     ]
    }
   ],
   "source": [
    "import numpy as np \n",
    "n = 3\n",
    "list1 = []\n",
    "for i in range(1,n+1):\n",
    "    list1.append(i)\n",
    "print(list1)\n",
    "ar1 = np.array(list1)\n",
    "mean_ar1 = np.mean(ar1)\n",
    "print(\"mean of numbers = {}\".format(mean_ar1))\n",
    "std_ar1 = np.std(ar1)\n",
    "print(\"Standard deviation of numbers = {}\".format(std_ar1))"
   ]
  },
  {
   "cell_type": "code",
   "execution_count": 5,
   "metadata": {},
   "outputs": [
    {
     "name": "stdout",
     "output_type": "stream",
     "text": [
      "[24, 23, 19, 41, 34]\n"
     ]
    }
   ],
   "source": [
    "import numpy as np \n",
    "list1=[34,33,29,51,44]\n",
    "list2=[]\n",
    "n=len(list1)\n",
    "for i in range(0,n):\n",
    "    b=list1[i]\n",
    "    c=b-10\n",
    "    list2.append(c)\n",
    "print(list2)"
   ]
  },
  {
   "cell_type": "code",
   "execution_count": 6,
   "metadata": {
    "scrolled": true
   },
   "outputs": [
    {
     "name": "stdout",
     "output_type": "stream",
     "text": [
      "[24 23 19 41 34]\n"
     ]
    }
   ],
   "source": [
    "import numpy as np \n",
    "list1=[34,33,29,51,44]\n",
    "x1=np.array(list1)\n",
    "y1=x1-10\n",
    "print(y1)\n"
   ]
  },
  {
   "cell_type": "code",
   "execution_count": 7,
   "metadata": {},
   "outputs": [
    {
     "name": "stdout",
     "output_type": "stream",
     "text": [
      "[34]\n"
     ]
    }
   ],
   "source": [
    "import numpy as np \n",
    "list1=[44]\n",
    "x1=np.array(list1)\n",
    "y1=x1-10\n",
    "print(y1)\n"
   ]
  },
  {
   "cell_type": "code",
   "execution_count": 8,
   "metadata": {},
   "outputs": [
    {
     "name": "stdout",
     "output_type": "stream",
     "text": [
      "[1 1 1 1]\n"
     ]
    }
   ],
   "source": [
    "import numpy as np \n",
    "list1=[11,11,11,11]\n",
    "x1=np.array(list1)\n",
    "y1=x1-10\n",
    "print(y1)"
   ]
  },
  {
   "cell_type": "code",
   "execution_count": 11,
   "metadata": {},
   "outputs": [
    {
     "name": "stdout",
     "output_type": "stream",
     "text": [
      "Value = 215\n",
      "Number of products sold = 10\n"
     ]
    }
   ],
   "source": [
    "import numpy as np \n",
    "list1=[2,3,5]\n",
    "list2=[10,15,30]\n",
    "l=0\n",
    "p=0\n",
    "n=len(list1)\n",
    "for i in range(0,n):\n",
    "    b=list1[i]\n",
    "    l=b+l\n",
    "    m=list1[i]*list2[i]\n",
    "    p=p+m\n",
    "print(\"Value = {}\".format(p))\n",
    "print(\"Number of products sold = {}\".format(l))"
   ]
  },
  {
   "cell_type": "code",
   "execution_count": 10,
   "metadata": {},
   "outputs": [
    {
     "name": "stdout",
     "output_type": "stream",
     "text": [
      "Value = 70\n",
      "Number of products sold = 12\n"
     ]
    }
   ],
   "source": [
    "import numpy as np \n",
    "list1=[2,10]\n",
    "list2=[5,6]\n",
    "l=0\n",
    "p=0\n",
    "n=len(list1)\n",
    "for i in range(0,n):\n",
    "    b=list1[i]\n",
    "    l=b+l\n",
    "    m=list1[i]*list2[i]\n",
    "    p=p+m\n",
    "print(\"Value = {}\".format(p))\n",
    "print(\"Number of products sold = {}\".format(l))"
   ]
  },
  {
   "cell_type": "code",
   "execution_count": 12,
   "metadata": {},
   "outputs": [
    {
     "name": "stdout",
     "output_type": "stream",
     "text": [
      "Value = 35\n",
      "Number of products sold = 8\n"
     ]
    }
   ],
   "source": [
    "import numpy as np \n",
    "list1=[1,1,2,2,2]\n",
    "list2=[2,3,4,5,6]\n",
    "l=0\n",
    "p=0\n",
    "n=len(list1)\n",
    "for i in range(0,n):\n",
    "    b=list1[i]\n",
    "    l=b+l\n",
    "    m=list1[i]*list2[i]\n",
    "    p=p+m\n",
    "print(\"Value = {}\".format(p))\n",
    "print(\"Number of products sold = {}\".format(l))"
   ]
  },
  {
   "cell_type": "code",
   "execution_count": 1,
   "metadata": {},
   "outputs": [
    {
     "name": "stdout",
     "output_type": "stream",
     "text": [
      "[False  True False False  True]\n",
      "[False  True False False  True]\n"
     ]
    }
   ],
   "source": [
    "import numpy as np \n",
    "list2=[3,6,2,1,15]\n",
    "a=np.array(list2)\n",
    "b=4\n",
    "a1=a>b\n",
    "a2=a>=b\n",
    "print(a1)\n",
    "print(a2)"
   ]
  },
  {
   "cell_type": "code",
   "execution_count": 2,
   "metadata": {},
   "outputs": [
    {
     "name": "stdout",
     "output_type": "stream",
     "text": [
      "[False False False False  True]\n",
      "[False  True False False  True]\n"
     ]
    }
   ],
   "source": [
    "import numpy as np \n",
    "list2=[3,6,2,1,15]\n",
    "a=np.array(list2)\n",
    "b=6\n",
    "a1=a>b\n",
    "a2=a>=b\n",
    "print(a1)\n",
    "print(a2)"
   ]
  },
  {
   "cell_type": "code",
   "execution_count": 3,
   "metadata": {},
   "outputs": [
    {
     "name": "stdout",
     "output_type": "stream",
     "text": [
      "[False  True]\n",
      "[ True  True]\n"
     ]
    }
   ],
   "source": [
    "import numpy as np \n",
    "list2=[4,8]\n",
    "a=np.array(list2)\n",
    "b=4\n",
    "a1=a>b\n",
    "a2=a>=b\n",
    "print(a1)\n",
    "print(a2)"
   ]
  },
  {
   "cell_type": "code",
   "execution_count": 4,
   "metadata": {},
   "outputs": [
    {
     "name": "stdout",
     "output_type": "stream",
     "text": [
      "[ True False False False False  True False]\n",
      "[ True  True False False False  True False]\n",
      "[False  True False False False False False]\n",
      "[ True False  True  True  True  True  True]\n"
     ]
    }
   ],
   "source": [
    "import numpy as np \n",
    "list2=[1,4,8,10,5,2,7]\n",
    "a=np.array(list2)\n",
    "b=4\n",
    "a1=a<b\n",
    "a2=a<=b\n",
    "a3=a==b\n",
    "a4=a!=b\n",
    "print(a1)\n",
    "print(a2)\n",
    "print(a3)\n",
    "print(a4)"
   ]
  },
  {
   "cell_type": "code",
   "execution_count": 5,
   "metadata": {},
   "outputs": [
    {
     "name": "stdout",
     "output_type": "stream",
     "text": [
      "[ True  True False False  True  True  True]\n",
      "[ True  True  True False  True  True  True]\n",
      "[False False  True False False False False]\n",
      "[ True  True False  True  True  True  True]\n"
     ]
    }
   ],
   "source": [
    "import numpy as np \n",
    "list2=[1,4,8,10,5,2,7]\n",
    "a=np.array(list2)\n",
    "b=8\n",
    "a1=a<b\n",
    "a2=a<=b\n",
    "a3=a==b\n",
    "a4=a!=b\n",
    "print(a1)\n",
    "print(a2)\n",
    "print(a3)\n",
    "print(a4)"
   ]
  },
  {
   "cell_type": "code",
   "execution_count": 6,
   "metadata": {},
   "outputs": [
    {
     "name": "stdout",
     "output_type": "stream",
     "text": [
      "[ True False False False False]\n",
      "[ True  True False False  True]\n",
      "[False  True False False  True]\n",
      "[ True False  True  True False]\n"
     ]
    }
   ],
   "source": [
    "import numpy as np \n",
    "list2=[2,4,8,5,4]\n",
    "a=np.array(list2)\n",
    "b=4\n",
    "a1=a<b\n",
    "a2=a<=b\n",
    "a3=a==b\n",
    "a4=a!=b\n",
    "print(a1)\n",
    "print(a2)\n",
    "print(a3)\n",
    "print(a4)"
   ]
  },
  {
   "cell_type": "code",
   "execution_count": 7,
   "metadata": {},
   "outputs": [
    {
     "name": "stdout",
     "output_type": "stream",
     "text": [
      "[False False False  True]\n",
      "[False  True False  True]\n"
     ]
    }
   ],
   "source": [
    "import numpy as np \n",
    "list1=[2,3,4,5]\n",
    "list2=[5,3,6,2]\n",
    "x1=np.array(list1)\n",
    "x2=np.array(list2)\n",
    "y1=x1>x2\n",
    "print(y1)\n",
    "y2=x1>=x2\n",
    "print(y2)"
   ]
  },
  {
   "cell_type": "code",
   "execution_count": 8,
   "metadata": {},
   "outputs": [
    {
     "name": "stdout",
     "output_type": "stream",
     "text": [
      "[ True False False False  True]\n",
      "[ True  True False  True  True]\n"
     ]
    }
   ],
   "source": [
    "import numpy as np \n",
    "list1=[2,5,7,4,11]\n",
    "list2=[1,5,10,4,6]\n",
    "x1=np.array(list1)\n",
    "x2=np.array(list2)\n",
    "y1=x1>x2\n",
    "print(y1)\n",
    "y2=x1>=x2\n",
    "print(y2)"
   ]
  },
  {
   "cell_type": "code",
   "execution_count": 9,
   "metadata": {},
   "outputs": [
    {
     "name": "stdout",
     "output_type": "stream",
     "text": [
      "[ True]\n",
      "[ True]\n"
     ]
    }
   ],
   "source": [
    "import numpy as np \n",
    "list1=[6]\n",
    "list2=[3]\n",
    "x1=np.array(list1)\n",
    "x2=np.array(list2)\n",
    "y1=x1>x2\n",
    "print(y1)\n",
    "y2=x1>=x2\n",
    "print(y2)"
   ]
  },
  {
   "cell_type": "code",
   "execution_count": 10,
   "metadata": {},
   "outputs": [
    {
     "name": "stdout",
     "output_type": "stream",
     "text": [
      "[ True False  True False]\n",
      "[ True  True  True False]\n"
     ]
    }
   ],
   "source": [
    "import numpy as np \n",
    "list1=[2,3,4,5]\n",
    "list2=[5,3,6,2]\n",
    "x1=np.array(list1)\n",
    "x2=np.array(list2)\n",
    "y1=x1<x2\n",
    "print(y1)\n",
    "y2=x1<=x2\n",
    "print(y2)"
   ]
  },
  {
   "cell_type": "code",
   "execution_count": 11,
   "metadata": {},
   "outputs": [
    {
     "name": "stdout",
     "output_type": "stream",
     "text": [
      "[False False  True False False]\n",
      "[False  True  True  True False]\n"
     ]
    }
   ],
   "source": [
    "import numpy as np \n",
    "list1=[2,5,7,4,11]\n",
    "list2=[1,5,10,4,6]\n",
    "x1=np.array(list1)\n",
    "x2=np.array(list2)\n",
    "y1=x1<x2\n",
    "print(y1)\n",
    "y2=x1<=x2\n",
    "print(y2)"
   ]
  },
  {
   "cell_type": "code",
   "execution_count": 12,
   "metadata": {},
   "outputs": [
    {
     "name": "stdout",
     "output_type": "stream",
     "text": [
      "[False]\n",
      "[False]\n"
     ]
    }
   ],
   "source": [
    "import numpy as np \n",
    "list1=[6]\n",
    "list2=[3]\n",
    "x1=np.array(list1)\n",
    "x2=np.array(list2)\n",
    "y1=x1<x2\n",
    "print(y1)\n",
    "y2=x1<=x2\n",
    "print(y2)"
   ]
  },
  {
   "cell_type": "code",
   "execution_count": 13,
   "metadata": {},
   "outputs": [
    {
     "name": "stdout",
     "output_type": "stream",
     "text": [
      "[False  True False False]\n",
      "[ True False  True  True]\n"
     ]
    }
   ],
   "source": [
    "import numpy as np \n",
    "list1=[2,3,4,5]\n",
    "list2=[5,3,6,2]\n",
    "x1=np.array(list1)\n",
    "x2=np.array(list2)\n",
    "y1=x1==x2\n",
    "print(y1)\n",
    "y2=x1!=x2\n",
    "print(y2)"
   ]
  },
  {
   "cell_type": "code",
   "execution_count": 14,
   "metadata": {},
   "outputs": [
    {
     "name": "stdout",
     "output_type": "stream",
     "text": [
      "[False  True False  True False]\n",
      "[ True False  True False  True]\n"
     ]
    }
   ],
   "source": [
    "import numpy as np \n",
    "list1=[2,5,7,4,11]\n",
    "list2=[1,5,10,4,6]\n",
    "x1=np.array(list1)\n",
    "x2=np.array(list2)\n",
    "y1=x1==x2\n",
    "print(y1)\n",
    "y2=x1!=x2\n",
    "print(y2)"
   ]
  },
  {
   "cell_type": "code",
   "execution_count": 15,
   "metadata": {},
   "outputs": [
    {
     "name": "stdout",
     "output_type": "stream",
     "text": [
      "[False]\n",
      "[ True]\n"
     ]
    }
   ],
   "source": [
    "import numpy as np \n",
    "list1=[6]\n",
    "list2=[3]\n",
    "x1=np.array(list1)\n",
    "x2=np.array(list2)\n",
    "y1=x1==x2\n",
    "print(y1)\n",
    "y2=x1!=x2\n",
    "print(y2)"
   ]
  },
  {
   "cell_type": "code",
   "execution_count": 1,
   "metadata": {},
   "outputs": [
    {
     "name": "stdout",
     "output_type": "stream",
     "text": [
      "[ 2  3 10]\n"
     ]
    }
   ],
   "source": [
    "import numpy as np \n",
    "list1 = [2,3,4,5,10]\n",
    "list2 = [True,True,False,False,True]\n",
    "x1=np.array(list1)\n",
    "y1=np.array(list2)\n",
    "z1=x1[y1]\n",
    "print(z1)"
   ]
  },
  {
   "cell_type": "code",
   "execution_count": 2,
   "metadata": {},
   "outputs": [
    {
     "name": "stdout",
     "output_type": "stream",
     "text": [
      "[2 3 1 5]\n"
     ]
    }
   ],
   "source": [
    "import numpy as np \n",
    "list1 = [2,3,1,5]\n",
    "list2 = [True,True,True,True]\n",
    "x1=np.array(list1)\n",
    "y1=np.array(list2)\n",
    "z1=x1[y1]\n",
    "print(z1)"
   ]
  },
  {
   "cell_type": "code",
   "execution_count": 3,
   "metadata": {},
   "outputs": [
    {
     "name": "stdout",
     "output_type": "stream",
     "text": [
      "[]\n"
     ]
    }
   ],
   "source": [
    "import numpy as np \n",
    "list1 = [2,3,1,5]\n",
    "list2 = [False,False,False,False]\n",
    "x1=np.array(list1)\n",
    "y1=np.array(list2)\n",
    "z1=x1[y1]\n",
    "print(z1)"
   ]
  },
  {
   "cell_type": "code",
   "execution_count": 4,
   "metadata": {},
   "outputs": [
    {
     "name": "stdout",
     "output_type": "stream",
     "text": [
      "[2 1]\n"
     ]
    }
   ],
   "source": [
    "import numpy as np \n",
    "list1 = [2,3,1,5]\n",
    "list2 = [True,False,True,False]\n",
    "x1=np.array(list1)\n",
    "y1=np.array(list2)\n",
    "z1=x1[y1]\n",
    "print(z1)"
   ]
  },
  {
   "cell_type": "code",
   "execution_count": 5,
   "metadata": {},
   "outputs": [
    {
     "name": "stdout",
     "output_type": "stream",
     "text": [
      "[10]\n"
     ]
    }
   ],
   "source": [
    "import numpy as np \n",
    "list1 = [10]\n",
    "list2 = [True]\n",
    "x1=np.array(list1)\n",
    "y1=np.array(list2)\n",
    "z1=x1[y1]\n",
    "print(z1)"
   ]
  },
  {
   "cell_type": "code",
   "execution_count": 6,
   "metadata": {},
   "outputs": [
    {
     "name": "stdout",
     "output_type": "stream",
     "text": [
      "[]\n"
     ]
    }
   ],
   "source": [
    "import numpy as np \n",
    "list1 = [6]\n",
    "list2 = [False]\n",
    "x1=np.array(list1)\n",
    "y1=np.array(list2)\n",
    "z1=x1[y1]\n",
    "print(z1)"
   ]
  },
  {
   "cell_type": "code",
   "execution_count": 7,
   "metadata": {},
   "outputs": [
    {
     "name": "stdout",
     "output_type": "stream",
     "text": [
      "[10 15  6]\n",
      "[2 3]\n",
      "[4]\n"
     ]
    }
   ],
   "source": [
    "import numpy as np \n",
    "list1=[4,10,2,15,6,3]\n",
    "y=4\n",
    "x1=np.array(list1)\n",
    "y1=x1>y\n",
    "z1=x1[y1]\n",
    "print(z1)\n",
    "y2=x1<y\n",
    "z2=x1[y2]\n",
    "print(z2)\n",
    "y3=x1==y\n",
    "z3=x1[y3]\n",
    "print(z3)"
   ]
  },
  {
   "cell_type": "code",
   "execution_count": 8,
   "metadata": {},
   "outputs": [
    {
     "name": "stdout",
     "output_type": "stream",
     "text": [
      "[5 4 5 6]\n",
      "[]\n",
      "[3 3]\n"
     ]
    }
   ],
   "source": [
    "import numpy as np \n",
    "list1=[3,5,4,5,3,6]\n",
    "y=3\n",
    "x1=np.array(list1)\n",
    "y1=x1>y\n",
    "z1=x1[y1]\n",
    "print(z1)\n",
    "y2=x1<y\n",
    "z2=x1[y2]\n",
    "print(z2)\n",
    "y3=x1==y\n",
    "z3=x1[y3]\n",
    "print(z3)"
   ]
  },
  {
   "cell_type": "code",
   "execution_count": 9,
   "metadata": {},
   "outputs": [
    {
     "name": "stdout",
     "output_type": "stream",
     "text": [
      "[5 5 6]\n",
      "[3 3]\n",
      "[4]\n"
     ]
    }
   ],
   "source": [
    "import numpy as np \n",
    "list1=[3,5,4,5,3,6]\n",
    "y=4\n",
    "x1=np.array(list1)\n",
    "y1=x1>y\n",
    "z1=x1[y1]\n",
    "print(z1)\n",
    "y2=x1<y\n",
    "z2=x1[y2]\n",
    "print(z2)\n",
    "y3=x1==y\n",
    "z3=x1[y3]\n",
    "print(z3)"
   ]
  },
  {
   "cell_type": "code",
   "execution_count": 10,
   "metadata": {},
   "outputs": [
    {
     "name": "stdout",
     "output_type": "stream",
     "text": [
      "[6]\n",
      "[3 4 3]\n",
      "[5 5]\n"
     ]
    }
   ],
   "source": [
    "import numpy as np \n",
    "list1=[3,5,4,5,3,6]\n",
    "y=5\n",
    "x1=np.array(list1)\n",
    "y1=x1>y\n",
    "z1=x1[y1]\n",
    "print(z1)\n",
    "y2=x1<y\n",
    "z2=x1[y2]\n",
    "print(z2)\n",
    "y3=x1==y\n",
    "z3=x1[y3]\n",
    "print(z3)"
   ]
  },
  {
   "cell_type": "code",
   "execution_count": 11,
   "metadata": {},
   "outputs": [
    {
     "name": "stdout",
     "output_type": "stream",
     "text": [
      "[4 4]\n",
      "[]\n",
      "[]\n"
     ]
    }
   ],
   "source": [
    "import numpy as np \n",
    "list1=[4,4]\n",
    "y=3\n",
    "x1=np.array(list1)\n",
    "y1=x1>y\n",
    "z1=x1[y1]\n",
    "print(z1)\n",
    "y2=x1<y\n",
    "z2=x1[y2]\n",
    "print(z2)\n",
    "y3=x1==y\n",
    "z3=x1[y3]\n",
    "print(z3)"
   ]
  },
  {
   "cell_type": "code",
   "execution_count": 12,
   "metadata": {},
   "outputs": [
    {
     "name": "stdout",
     "output_type": "stream",
     "text": [
      "[]\n",
      "[]\n",
      "[4 4]\n"
     ]
    }
   ],
   "source": [
    "import numpy as np \n",
    "list1=[4,4]\n",
    "y=4\n",
    "x1=np.array(list1)\n",
    "y1=x1>y\n",
    "z1=x1[y1]\n",
    "print(z1)\n",
    "y2=x1<y\n",
    "z2=x1[y2]\n",
    "print(z2)\n",
    "y3=x1==y\n",
    "z3=x1[y3]\n",
    "print(z3)"
   ]
  },
  {
   "cell_type": "code",
   "execution_count": 9,
   "metadata": {},
   "outputs": [
    {
     "name": "stdout",
     "output_type": "stream",
     "text": [
      "A : 5 , B : 2 , C :2\n"
     ]
    }
   ],
   "source": [
    "import numpy as np \n",
    "list1=[50,70,80,90,55,65,75,80,85]\n",
    "x1=np.array(list1)\n",
    "y1 = x1>=75\n",
    "z1 = x1[y1]\n",
    "y2 = (x1>=60) & (x1<75)\n",
    "z2 = x1[y2]\n",
    "y3 = x1<60\n",
    "z3 = x1[y3]\n",
    "print(\"A : {}\".format(len(z1)),\", B : {}\".format(len(z2)),\", C :{}\".format(len(z3)))"
   ]
  },
  {
   "cell_type": "code",
   "execution_count": 2,
   "metadata": {},
   "outputs": [
    {
     "name": "stdout",
     "output_type": "stream",
     "text": [
      "A : 5 , B : 4\n"
     ]
    }
   ],
   "source": [
    "import numpy as np \n",
    "list1=[50,70,80,90,55,65,75,80,85]\n",
    "m1 = np.mean(list1)\n",
    "x1=np.array(list1)\n",
    "y1 = x1>m1\n",
    "z1 = x1[y1]\n",
    "y2 = x1<=m1 \n",
    "z2 = x1[y2]\n",
    "print(\"A : {}\".format(len(z1)),\", B : {}\".format(len(z2)))\n"
   ]
  },
  {
   "cell_type": "code",
   "execution_count": 3,
   "metadata": {},
   "outputs": [
    {
     "name": "stdout",
     "output_type": "stream",
     "text": [
      "A : 2 , B : 3\n"
     ]
    }
   ],
   "source": [
    "import numpy as np \n",
    "list1=[51,52,61,65,50]\n",
    "m1 = np.mean(list1)\n",
    "x1=np.array(list1)\n",
    "y1 = x1>m1\n",
    "z1 = x1[y1]\n",
    "y2 = x1<=m1 \n",
    "z2 = x1[y2]\n",
    "print(\"A : {}\".format(len(z1)),\", B : {}\".format(len(z2)))"
   ]
  },
  {
   "cell_type": "code",
   "execution_count": 4,
   "metadata": {},
   "outputs": [
    {
     "name": "stdout",
     "output_type": "stream",
     "text": [
      "A : 4 , B : 1\n"
     ]
    }
   ],
   "source": [
    "import numpy as np \n",
    "list1=[81,90,88,87,55]\n",
    "m1 = np.mean(list1)\n",
    "x1=np.array(list1)\n",
    "y1 = x1>m1\n",
    "z1 = x1[y1]\n",
    "y2 = x1<=m1 \n",
    "z2 = x1[y2]\n",
    "print(\"A : {}\".format(len(z1)),\", B : {}\".format(len(z2)))"
   ]
  },
  {
   "cell_type": "code",
   "execution_count": 5,
   "metadata": {},
   "outputs": [
    {
     "name": "stdout",
     "output_type": "stream",
     "text": [
      "Week1 more : 3\n",
      "Week2 more : 2\n",
      "Equal : 2\n"
     ]
    }
   ],
   "source": [
    "import numpy as np \n",
    "list1=[45,47,50,41,55,61,66]\n",
    "list2=[37,48,44,41,57,61,64]\n",
    "x1=np.array(list1)\n",
    "x2=np.array(list2)\n",
    "y1 = x1>x2\n",
    "z1 = x1[y1]\n",
    "y2 = x2>x1 \n",
    "z2 = x1[y2]\n",
    "y3 = x2==x1 \n",
    "z3 = x1[y3]\n",
    "print(\"Week1 more : {}\".format(len(z1)))\n",
    "print(\"Week2 more : {}\".format(len(z2)))\n",
    "print(\"Equal : {}\".format(len(z3)))"
   ]
  },
  {
   "cell_type": "code",
   "execution_count": 6,
   "metadata": {},
   "outputs": [
    {
     "name": "stdout",
     "output_type": "stream",
     "text": [
      "Week1 more : 0\n",
      "Week2 more : 0\n",
      "Equal : 7\n"
     ]
    }
   ],
   "source": [
    "import numpy as np \n",
    "list1=[12,15,12,15,21,22,14]\n",
    "list2=[12,15,12,15,21,22,14]\n",
    "x1=np.array(list1)\n",
    "x2=np.array(list2)\n",
    "y1 = x1>x2\n",
    "z1 = x1[y1]\n",
    "y2 = x2>x1 \n",
    "z2 = x1[y2]\n",
    "y3 = x2==x1 \n",
    "z3 = x1[y3]\n",
    "print(\"Week1 more : {}\".format(len(z1)))\n",
    "print(\"Week2 more : {}\".format(len(z2)))\n",
    "print(\"Equal : {}\".format(len(z3)))"
   ]
  },
  {
   "cell_type": "code",
   "execution_count": 10,
   "metadata": {},
   "outputs": [
    {
     "name": "stdout",
     "output_type": "stream",
     "text": [
      "A : 0 , B : 2 , C :3\n"
     ]
    }
   ],
   "source": [
    "import numpy as np \n",
    "list1=[51,52,61,65,50]\n",
    "x1=np.array(list1)\n",
    "y1 = x1>=75\n",
    "z1 = x1[y1]\n",
    "y2 = (x1>=60) & (x1<75)\n",
    "z2 = x1[y2]\n",
    "y3 = x1<60\n",
    "z3 = x1[y3]\n",
    "print(\"A : {}\".format(len(z1)),\", B : {}\".format(len(z2)),\", C :{}\".format(len(z3)))"
   ]
  },
  {
   "cell_type": "code",
   "execution_count": 11,
   "metadata": {},
   "outputs": [
    {
     "name": "stdout",
     "output_type": "stream",
     "text": [
      "A : 1 , B : 0 , C :0\n"
     ]
    }
   ],
   "source": [
    "import numpy as np \n",
    "list1=[81]\n",
    "x1=np.array(list1)\n",
    "y1 = x1>=75\n",
    "z1 = x1[y1]\n",
    "y2 = (x1>=60) & (x1<75)\n",
    "z2 = x1[y2]\n",
    "y3 = x1<60\n",
    "z3 = x1[y3]\n",
    "print(\"A : {}\".format(len(z1)),\", B : {}\".format(len(z2)),\", C :{}\".format(len(z3)))"
   ]
  },
  {
   "cell_type": "code",
   "execution_count": 12,
   "metadata": {},
   "outputs": [
    {
     "name": "stdout",
     "output_type": "stream",
     "text": [
      "A : 5 , B : 9 , C :2\n"
     ]
    }
   ],
   "source": [
    "import numpy as np \n",
    "list1=[50,70,80,90,55,65,75,80,85]\n",
    "x1=np.array(list1)\n",
    "y1 = x1>=75\n",
    "z1 = x1[y1]\n",
    "y2 = (x1>=60) | (x1<75)\n",
    "z2 = x1[y2]\n",
    "y3 = x1<60\n",
    "z3 = x1[y3]\n",
    "print(\"A : {}\".format(len(z1)),\", B : {}\".format(len(z2)),\", C :{}\".format(len(z3)))"
   ]
  },
  {
   "cell_type": "code",
   "execution_count": 13,
   "metadata": {},
   "outputs": [
    {
     "name": "stdout",
     "output_type": "stream",
     "text": [
      "[80 90 75 80 85]\n",
      "[70 65]\n"
     ]
    }
   ],
   "source": [
    "import numpy as np\n",
    "list1 = [50,70,80,90,55,65,75,80,85]\n",
    "x1 = np.array(list1)\n",
    "y1 = x1>=75\n",
    "z1 = x1[y1]\n",
    "print(z1)\n",
    "y2 = x1>=60\n",
    "p1 = np.where(y2 ^ y1)\n",
    "z2 = x1[p1]\n",
    "print(z2)"
   ]
  },
  {
   "cell_type": "code",
   "execution_count": 15,
   "metadata": {},
   "outputs": [
    {
     "name": "stdout",
     "output_type": "stream",
     "text": [
      "A : 5 , B : 2 , C :2\n"
     ]
    }
   ],
   "source": [
    "import numpy as np\n",
    "list1 = [50,70,80,90,55,65,75,80,85]\n",
    "x1 = np.array(list1)\n",
    "y1 = x1>=75\n",
    "z1 = x1[y1]\n",
    "y2 = x1>=60\n",
    "p1 = np.where(y2 ^ y1)\n",
    "z2 = x1[p1]\n",
    "y3 = x1<60\n",
    "z3 = x1[y3]\n",
    "print(\"A : {}\".format(len(z1)),\", B : {}\".format(len(z2)),\", C :{}\".format(len(z3)))"
   ]
  },
  {
   "cell_type": "code",
   "execution_count": 1,
   "metadata": {},
   "outputs": [
    {
     "name": "stdout",
     "output_type": "stream",
     "text": [
      "[ True  True  True False  True]\n",
      "[False  True False False False]\n"
     ]
    }
   ],
   "source": [
    "import numpy as np\n",
    "list1=[False,True,True,False,False]\n",
    "list2=[True,True,False,False,True]\n",
    "x1=np.array(list1)\n",
    "y1=np.array(list2)\n",
    "z1=x1|y1\n",
    "print(z1)\n",
    "z2 = x1 & y1\n",
    "print(z2)"
   ]
  },
  {
   "cell_type": "code",
   "execution_count": 2,
   "metadata": {},
   "outputs": [
    {
     "name": "stdout",
     "output_type": "stream",
     "text": [
      "[ True  True  True  True]\n",
      "[ True  True  True  True]\n"
     ]
    }
   ],
   "source": [
    "import numpy as np\n",
    "list1=[True,True,True,True]\n",
    "list2=[True,True,True,True]\n",
    "x1=np.array(list1)\n",
    "y1=np.array(list2)\n",
    "z1=x1|y1\n",
    "print(z1)\n",
    "z2 = x1 & y1\n",
    "print(z2)"
   ]
  },
  {
   "cell_type": "code",
   "execution_count": 3,
   "metadata": {},
   "outputs": [
    {
     "name": "stdout",
     "output_type": "stream",
     "text": [
      "[ True  True  True  True]\n",
      "[False False False False]\n"
     ]
    }
   ],
   "source": [
    "import numpy as np\n",
    "list1=[False,False,False,False]\n",
    "list2=[True,True,True,True]\n",
    "x1=np.array(list1)\n",
    "y1=np.array(list2)\n",
    "z1=x1|y1\n",
    "print(z1)\n",
    "z2 = x1 & y1\n",
    "print(z2)"
   ]
  },
  {
   "cell_type": "code",
   "execution_count": 4,
   "metadata": {},
   "outputs": [
    {
     "name": "stdout",
     "output_type": "stream",
     "text": [
      "[ True  True  True  True]\n",
      "[False False False False]\n"
     ]
    }
   ],
   "source": [
    "import numpy as np\n",
    "list1= [True,True,True,True]\n",
    "list2=[False,False,False,False]\n",
    "x1=np.array(list1)\n",
    "y1=np.array(list2)\n",
    "z1=x1|y1\n",
    "print(z1)\n",
    "z2 = x1 & y1\n",
    "print(z2)"
   ]
  },
  {
   "cell_type": "code",
   "execution_count": 5,
   "metadata": {},
   "outputs": [
    {
     "name": "stdout",
     "output_type": "stream",
     "text": [
      "[False False False False]\n",
      "[False False False False]\n"
     ]
    }
   ],
   "source": [
    "import numpy as np\n",
    "list1= [False,False,False,False]\n",
    "list2=[False,False,False,False]\n",
    "x1=np.array(list1)\n",
    "y1=np.array(list2)\n",
    "z1=x1|y1\n",
    "print(z1)\n",
    "z2 = x1 & y1\n",
    "print(z2)"
   ]
  },
  {
   "cell_type": "code",
   "execution_count": 6,
   "metadata": {},
   "outputs": [
    {
     "name": "stdout",
     "output_type": "stream",
     "text": [
      "[ True]\n",
      "[False]\n"
     ]
    }
   ],
   "source": [
    "import numpy as np\n",
    "list1= [False]\n",
    "list2=[True]\n",
    "x1=np.array(list1)\n",
    "y1=np.array(list2)\n",
    "z1=x1|y1\n",
    "print(z1)\n",
    "z2 = x1 & y1\n",
    "print(z2)"
   ]
  },
  {
   "cell_type": "code",
   "execution_count": 7,
   "metadata": {},
   "outputs": [
    {
     "name": "stdout",
     "output_type": "stream",
     "text": [
      "[ True]\n",
      "[False]\n"
     ]
    }
   ],
   "source": [
    "import numpy as np\n",
    "list1= [True]\n",
    "list2=[False]\n",
    "x1=np.array(list1)\n",
    "y1=np.array(list2)\n",
    "z1=x1|y1\n",
    "print(z1)\n",
    "z2 = x1 & y1\n",
    "print(z2)"
   ]
  },
  {
   "cell_type": "code",
   "execution_count": 1,
   "metadata": {},
   "outputs": [
    {
     "name": "stdout",
     "output_type": "stream",
     "text": [
      "[ 7  8 10 15  6  9 15 11]\n",
      "[7 8 4 2 6 3 9]\n",
      "[ True  True False False False False  True False  True False False]\n",
      "[7 8 6 9]\n"
     ]
    }
   ],
   "source": [
    "import numpy as np\n",
    "list1= [7,8,4,10,2,15,6,3,9,15,11]\n",
    "x1=np.array(list1)\n",
    "m1=4\n",
    "m2=10\n",
    "y1=x1>m1\n",
    "z2=x1[y1]\n",
    "print(z2)\n",
    "y2=x1<m2\n",
    "z3=x1[y2]\n",
    "print(z3)\n",
    "y3=y1&y2\n",
    "print(y3)\n",
    "z1=x1[y3]\n",
    "print(z1)"
   ]
  },
  {
   "cell_type": "code",
   "execution_count": 2,
   "metadata": {},
   "outputs": [
    {
     "name": "stdout",
     "output_type": "stream",
     "text": [
      "[ True  True False False False False  True False  True False False]\n",
      "[ 7  8 10 15  6  9 15 11]\n"
     ]
    }
   ],
   "source": [
    "import numpy as np\n",
    "list1= [7,8,4,10,2,15,6,3,9,15,11]\n",
    "x1=np.array(list1)\n",
    "m1=4\n",
    "m2=10\n",
    "y1=x1>m1\n",
    "y2=x1<m2\n",
    "y3=y1&y2\n",
    "print(y3)\n",
    "z1=x1[y1]\n",
    "print(z1)"
   ]
  },
  {
   "cell_type": "code",
   "execution_count": 3,
   "metadata": {},
   "outputs": [
    {
     "name": "stdout",
     "output_type": "stream",
     "text": [
      "[ True  True False  True  True False]\n",
      "[10 15  6  8]\n"
     ]
    }
   ],
   "source": [
    "import numpy as np\n",
    "list1= [10,15,2,6,8,1]\n",
    "x1=np.array(list1)\n",
    "m1=3\n",
    "m2=20\n",
    "y1=x1>m1\n",
    "y2=x1<m2\n",
    "y3=y1&y2\n",
    "print(y3)\n",
    "z1=x1[y1]\n",
    "print(z1)"
   ]
  },
  {
   "cell_type": "code",
   "execution_count": 4,
   "metadata": {},
   "outputs": [
    {
     "name": "stdout",
     "output_type": "stream",
     "text": [
      "[False]\n",
      "[20]\n"
     ]
    }
   ],
   "source": [
    "import numpy as np\n",
    "list1= [20]\n",
    "x1=np.array(list1)\n",
    "m1=5\n",
    "m2=15\n",
    "y1=x1>m1\n",
    "y2=x1<m2\n",
    "y3=y1&y2\n",
    "print(y3)\n",
    "z1=x1[y1]\n",
    "print(z1)"
   ]
  },
  {
   "cell_type": "code",
   "execution_count": 5,
   "metadata": {},
   "outputs": [
    {
     "name": "stdout",
     "output_type": "stream",
     "text": [
      "[70 55 65 75]\n"
     ]
    }
   ],
   "source": [
    "import numpy as np\n",
    "list1= [50,70,80,90,55,65,75,80,85]\n",
    "x1=np.array(list1)\n",
    "m1=52\n",
    "m2=77\n",
    "y1=x1>m1\n",
    "y2=x1<m2\n",
    "y3=y1&y2\n",
    "z1=x1[y3]\n",
    "print(z1)"
   ]
  },
  {
   "cell_type": "code",
   "execution_count": 6,
   "metadata": {},
   "outputs": [
    {
     "name": "stdout",
     "output_type": "stream",
     "text": [
      "[61 65]\n"
     ]
    }
   ],
   "source": [
    "import numpy as np\n",
    "list1= [51,52,61,65,50]\n",
    "x1=np.array(list1)\n",
    "m1=52\n",
    "m2=77\n",
    "y1=x1>m1\n",
    "y2=x1<m2\n",
    "y3=y1&y2\n",
    "z1=x1[y3]\n",
    "print(z1)"
   ]
  },
  {
   "cell_type": "code",
   "execution_count": 7,
   "metadata": {},
   "outputs": [
    {
     "name": "stdout",
     "output_type": "stream",
     "text": [
      "[]\n"
     ]
    }
   ],
   "source": [
    "import numpy as np\n",
    "list1= [81]\n",
    "x1=np.array(list1)\n",
    "m1=52\n",
    "m2=77\n",
    "y1=x1>m1\n",
    "y2=x1<m2\n",
    "y3=y1&y2\n",
    "z1=x1[y3]\n",
    "print(z1)"
   ]
  },
  {
   "cell_type": "code",
   "execution_count": 8,
   "metadata": {},
   "outputs": [
    {
     "name": "stdout",
     "output_type": "stream",
     "text": [
      "[57 61 73 66 59]\n"
     ]
    }
   ],
   "source": [
    "import numpy as np\n",
    "list1= [57,61,73,66,59]\n",
    "x1=np.array(list1)\n",
    "m1=52\n",
    "m2=77\n",
    "y1=x1>m1\n",
    "y2=x1<m2\n",
    "y3=y1&y2\n",
    "z1=x1[y3]\n",
    "print(z1)"
   ]
  },
  {
   "cell_type": "code",
   "execution_count": 9,
   "metadata": {},
   "outputs": [
    {
     "name": "stdout",
     "output_type": "stream",
     "text": [
      "More than 60 in both : 3\n"
     ]
    }
   ],
   "source": [
    "import numpy as np\n",
    "list1= [65,47,50,77,55,61,66]\n",
    "list2 = [57,48,64,82,57,65,63]\n",
    "x1=np.array(list1)\n",
    "x2=np.array(list2)\n",
    "y1=x1>60\n",
    "y2=x2>60\n",
    "y3=y1&y2\n",
    "z1=x1[y3]\n",
    "print(\"More than 60 in both : {}\".format(len(z1)))"
   ]
  },
  {
   "cell_type": "code",
   "execution_count": 10,
   "metadata": {},
   "outputs": [
    {
     "name": "stdout",
     "output_type": "stream",
     "text": [
      "More than 60 in both : 0\n"
     ]
    }
   ],
   "source": [
    "import numpy as np\n",
    "list1= [51,52,61,65,50]\n",
    "list2 = [71,66,49,58,77]\n",
    "x1=np.array(list1)\n",
    "x2=np.array(list2)\n",
    "y1=x1>60\n",
    "y2=x2>60\n",
    "y3=y1&y2\n",
    "z1=x1[y3]\n",
    "print(\"More than 60 in both : {}\".format(len(z1)))"
   ]
  },
  {
   "cell_type": "code",
   "execution_count": 11,
   "metadata": {},
   "outputs": [
    {
     "name": "stdout",
     "output_type": "stream",
     "text": [
      "More than 60 in both : 6\n"
     ]
    }
   ],
   "source": [
    "import numpy as np\n",
    "list1= [81,90,88,87,75,91]\n",
    "list2 = [84,93,80,74,85,66]\n",
    "x1=np.array(list1)\n",
    "x2=np.array(list2)\n",
    "y1=x1>60\n",
    "y2=x2>60\n",
    "y3=y1&y2\n",
    "z1=x1[y3]\n",
    "print(\"More than 60 in both : {}\".format(len(z1)))"
   ]
  },
  {
   "cell_type": "code",
   "execution_count": 12,
   "metadata": {},
   "outputs": [
    {
     "name": "stdout",
     "output_type": "stream",
     "text": [
      "More than 60 in exactly one : 2\n"
     ]
    }
   ],
   "source": [
    "import numpy as np\n",
    "list1= [65,47,50,77,55,61,66]\n",
    "list2 = [57,48,64,82,57,65,63]\n",
    "x1=np.array(list1)\n",
    "x2=np.array(list2)\n",
    "y1=(x1>60)&(x2<60)|(x1<60)&(x2>60)\n",
    "\n",
    "z1=x1[y1]\n",
    "print(\"More than 60 in exactly one : {}\".format(len(z1)))"
   ]
  },
  {
   "cell_type": "code",
   "execution_count": 13,
   "metadata": {},
   "outputs": [
    {
     "name": "stdout",
     "output_type": "stream",
     "text": [
      "More than 60 in exactly one : 5\n"
     ]
    }
   ],
   "source": [
    "import numpy as np\n",
    "list1= [51,52,61,65,50]\n",
    "list2 = [71,66,49,58,77]\n",
    "x1=np.array(list1)\n",
    "x2=np.array(list2)\n",
    "y1=(x1>60)&(x2<60)|(x1<60)&(x2>60)\n",
    "\n",
    "z1=x1[y1]\n",
    "print(\"More than 60 in exactly one : {}\".format(len(z1)))"
   ]
  },
  {
   "cell_type": "code",
   "execution_count": 14,
   "metadata": {},
   "outputs": [
    {
     "name": "stdout",
     "output_type": "stream",
     "text": [
      "More than 60 in exactly one : 0\n"
     ]
    }
   ],
   "source": [
    "import numpy as np\n",
    "list1= [81,90,88,87,75,91]\n",
    "list2 = [84,93,80,74,85,66]\n",
    "x1=np.array(list1)\n",
    "x2=np.array(list2)\n",
    "y1=(x1>60)&(x2<60)|(x1<60)&(x2>60)\n",
    "\n",
    "z1=x1[y1]\n",
    "print(\"More than 60 in exactly one : {}\".format(len(z1)))"
   ]
  },
  {
   "cell_type": "code",
   "execution_count": 19,
   "metadata": {},
   "outputs": [
    {
     "name": "stdout",
     "output_type": "stream",
     "text": [
      "More than 60 in exactly one : 3\n"
     ]
    }
   ],
   "source": [
    "import numpy as np\n",
    "list1= [45,47,50,41,55,61,66]\n",
    "list2 = [37,48,44,41,57,61,64]\n",
    "x1=np.array(list1)\n",
    "x2=np.array(list2)\n",
    "x3 = x1+x2\n",
    "\n",
    "mean_list1 = np.mean(list1)\n",
    "\n",
    "mean_list2 = np.mean(list2)\n",
    "\n",
    "meanTotal_x3 = np.mean(x3)\n",
    "\n",
    "y1=x1>mean_list1\n",
    "y2=x2>mean_list2\n",
    "y3=x3>meanTotal_x3\n",
    "\n",
    "y4=y1&y2&y3\n",
    "z1=x1[y4]\n",
    "print(\"More than 60 in exactly one : {}\".format(len(z1)))"
   ]
  },
  {
   "cell_type": "code",
   "execution_count": 18,
   "metadata": {},
   "outputs": [
    {
     "name": "stdout",
     "output_type": "stream",
     "text": [
      "More than 60 in exactly one : 2\n"
     ]
    }
   ],
   "source": [
    "import numpy as np\n",
    "list1= [12,15,12,15,21,22,14]\n",
    "list2 =[12,15,12,15,21,22,14]\n",
    "x1=np.array(list1)\n",
    "x2=np.array(list2)\n",
    "x3 = x1+x2\n",
    "\n",
    "mean_list1 = np.mean(list1)\n",
    "\n",
    "mean_list2 = np.mean(list2)\n",
    "\n",
    "meanTotal_x3 = np.mean(x3)\n",
    "\n",
    "y1=x1>mean_list1\n",
    "y2=x2>mean_list2\n",
    "y3=x3>meanTotal_x3\n",
    "\n",
    "y4=y1&y2&y3\n",
    "z1=x1[y4]\n",
    "print(\"More than 60 in exactly one : {}\".format(len(z1)))"
   ]
  },
  {
   "cell_type": "code",
   "execution_count": 17,
   "metadata": {},
   "outputs": [
    {
     "name": "stdout",
     "output_type": "stream",
     "text": [
      "More than 60 in exactly one : 1\n"
     ]
    }
   ],
   "source": [
    "import numpy as np\n",
    "list1= [55,57,53,58,64,55,54]\n",
    "list2 =[8,10,9,11,10,12,11]\n",
    "x1=np.array(list1)\n",
    "x2=np.array(list2)\n",
    "x3 = x1+x2\n",
    "\n",
    "mean_list1 = np.mean(list1)\n",
    "\n",
    "mean_list2 = np.mean(list2)\n",
    "\n",
    "meanTotal_x3 = np.mean(x3)\n",
    "\n",
    "y1=x1>mean_list1\n",
    "y2=x2>mean_list2\n",
    "y3=x3>meanTotal_x3\n",
    "\n",
    "y4=y1&y2&y3\n",
    "z1=x1[y4]\n",
    "print(\"More than 60 in exactly one : {}\".format(len(z1)))"
   ]
  },
  {
   "cell_type": "code",
   "execution_count": 1,
   "metadata": {},
   "outputs": [
    {
     "name": "stdout",
     "output_type": "stream",
     "text": [
      "a=[ 2  4  6  8 10],b=[ 2  4  6  8 10]\n",
      "a=[ 1  4  6  8 10],b=[ 1  4  6  8 10]\n",
      "a=[ 1  3  6  8 10],b=[ 1  3  6  8 10]\n"
     ]
    }
   ],
   "source": [
    "import numpy as np\n",
    "a=np.array([2,4,6,8,10])\n",
    "b=a\n",
    "print(\"a={},b={}\".format(a,b))\n",
    "b[0]=1\n",
    "print(\"a={},b={}\".format(a,b))\n",
    "a[1]=3\n",
    "print(\"a={},b={}\".format(a,b))"
   ]
  },
  {
   "cell_type": "code",
   "execution_count": 2,
   "metadata": {},
   "outputs": [
    {
     "name": "stdout",
     "output_type": "stream",
     "text": [
      "a=[ 2  4  6  8 10],b=[ 2  4  6  8 10]\n",
      "a=[ 2  4  6  8 10],b=[ 4  4  6  8 10]\n",
      "a=[ 2  8  6  8 10],b=[ 4  4  6  8 10]\n"
     ]
    }
   ],
   "source": [
    "import numpy as np\n",
    "a=np.array([2,4,6,8,10])\n",
    "b=np.copy(a)\n",
    "print(\"a={},b={}\".format(a,b))\n",
    "b[0]=4\n",
    "print(\"a={},b={}\".format(a,b))\n",
    "a[1]=8\n",
    "print(\"a={},b={}\".format(a,b))"
   ]
  },
  {
   "cell_type": "code",
   "execution_count": 3,
   "metadata": {},
   "outputs": [
    {
     "name": "stdout",
     "output_type": "stream",
     "text": [
      "a=[ 7 17 27],b=[10 20 30]\n"
     ]
    }
   ],
   "source": [
    "import numpy as np\n",
    "a=np.array([7,17,27])\n",
    "b=np.copy(a)\n",
    "lenb=len(b)\n",
    "for x in range(0,lenb):\n",
    "  b[x]=b[x]+3\n",
    "print(\"a={},b={}\".format(a,b))"
   ]
  },
  {
   "cell_type": "code",
   "execution_count": 4,
   "metadata": {},
   "outputs": [
    {
     "name": "stdout",
     "output_type": "stream",
     "text": [
      "[ 1  5 10 14],[ 2 10 20 28]\n"
     ]
    }
   ],
   "source": [
    "import numpy as np\n",
    "a=np.array([1,5,10,14])\n",
    "b=np.copy(a)\n",
    "lenb=len(b)\n",
    "for x in range(0,lenb):\n",
    "  b[x]=b[x]*2\n",
    "print(\"{},{}\".format(a,b))"
   ]
  },
  {
   "cell_type": "code",
   "execution_count": 5,
   "metadata": {},
   "outputs": [
    {
     "name": "stdout",
     "output_type": "stream",
     "text": [
      "[3 4],[6 8]\n"
     ]
    }
   ],
   "source": [
    "import numpy as np\n",
    "a=np.array([3,4])\n",
    "b=np.copy(a)\n",
    "lenb=len(b)\n",
    "for x in range(0,lenb):\n",
    "  b[x]=b[x]*2\n",
    "print(\"{},{}\".format(a,b))"
   ]
  },
  {
   "cell_type": "code",
   "execution_count": 6,
   "metadata": {},
   "outputs": [
    {
     "name": "stdout",
     "output_type": "stream",
     "text": [
      "[7],[14]\n"
     ]
    }
   ],
   "source": [
    "import numpy as np\n",
    "a=np.array([7])\n",
    "b=np.copy(a)\n",
    "lenb=len(b)\n",
    "for x in range(0,lenb):\n",
    "  b[x]=b[x]*2\n",
    "print(\"{},{}\".format(a,b))"
   ]
  },
  {
   "cell_type": "code",
   "execution_count": 7,
   "metadata": {},
   "outputs": [
    {
     "name": "stdout",
     "output_type": "stream",
     "text": [
      "[  1  10 100],[  2  20 200]\n"
     ]
    }
   ],
   "source": [
    "import numpy as np\n",
    "a=np.array([1,10,100])\n",
    "b=np.copy(a)\n",
    "lenb=len(b)\n",
    "for x in range(0,lenb):\n",
    "  b[x]=b[x]*2\n",
    "print(\"{},{}\".format(a,b))"
   ]
  },
  {
   "cell_type": "code",
   "execution_count": 8,
   "metadata": {},
   "outputs": [
    {
     "name": "stdout",
     "output_type": "stream",
     "text": [
      "arr_a1=[1 2 3 4 5 6],b1=[2 3 4]\n",
      "arr_a1=[1 2 3 4 5 6],b2=[2 3 4 5 6]\n",
      "arr_a1=[1 2 3 4 5 6],b3=[1 2 3 4]\n"
     ]
    }
   ],
   "source": [
    "import numpy as np\n",
    "a1=[1,2,3,4,5,6]\n",
    "arr_a1=np.array(a1)\n",
    "b1=arr_a1[1:4]\n",
    "print(\"arr_a1={},b1={}\".format(arr_a1,b1))\n",
    "b2=arr_a1[1:]\n",
    "print(\"arr_a1={},b2={}\".format(arr_a1,b2))\n",
    "b3=arr_a1[:4]\n",
    "print(\"arr_a1={},b3={}\".format(arr_a1,b3))"
   ]
  },
  {
   "cell_type": "code",
   "execution_count": 9,
   "metadata": {},
   "outputs": [
    {
     "name": "stdout",
     "output_type": "stream",
     "text": [
      "arr_a1=[1 2 3 4 5 6],b1=[2 3 4]\n",
      "arr_a1=[1 2 3 4 5 6],b2=[1 2 3]\n",
      "arr_a1=[1 2 3 4 5 6],b3=[1 2]\n"
     ]
    }
   ],
   "source": [
    "import numpy as np\n",
    "a1=[1,2,3,4,5,6]\n",
    "num=4\n",
    "arr_a1=np.array(a1)\n",
    "b1=arr_a1[1:num]\n",
    "print(\"arr_a1={},b1={}\".format(arr_a1,b1))\n",
    "num=num-1\n",
    "b2=arr_a1[:num]\n",
    "print(\"arr_a1={},b2={}\".format(arr_a1,b2))\n",
    "num=num-1\n",
    "b3=arr_a1[:num]\n",
    "print(\"arr_a1={},b3={}\".format(arr_a1,b3))"
   ]
  },
  {
   "cell_type": "code",
   "execution_count": 10,
   "metadata": {},
   "outputs": [
    {
     "name": "stdout",
     "output_type": "stream",
     "text": [
      "b1=[ 3  4  5  6  7  8  9 10]\n",
      "b2=[ 5  6  7  8  9 10]\n",
      "b3=[ 7  8  9 10]\n"
     ]
    }
   ],
   "source": [
    "import numpy as np\n",
    "a1=[1,2,3,4,5,6,7,8,9,10]\n",
    "num=2\n",
    "arr_a1=np.array(a1)\n",
    "b1=arr_a1[num:]\n",
    "print(\"b1={}\".format(b1))\n",
    "b2=b1[num:]\n",
    "print(\"b2={}\".format(b2))\n",
    "b3=b2[num:]\n",
    "print(\"b3={}\".format(b3))\n"
   ]
  },
  {
   "cell_type": "code",
   "execution_count": 11,
   "metadata": {},
   "outputs": [
    {
     "name": "stdout",
     "output_type": "stream",
     "text": [
      "a1=[11 12 13  4  5  6  7  8  9],b1=[11 12 13  4  5  6],b2=[11 12 13  4  5]\n"
     ]
    }
   ],
   "source": [
    "import numpy as np\n",
    "a0=[1,2,3,4,5,6,7,8,9]\n",
    "a1=np.array(a0)\n",
    "b1=a1[:6]\n",
    "b2=b1[:5]\n",
    "a1[0]=11\n",
    "b1[1]=12\n",
    "b2[2]=13\n",
    "print(\"a1={},b1={},b2={}\".format(a1,b1,b2))"
   ]
  },
  {
   "cell_type": "code",
   "execution_count": 12,
   "metadata": {},
   "outputs": [
    {
     "name": "stdout",
     "output_type": "stream",
     "text": [
      "a1=[11 12 13  4  5],b1=[12 13  4  5],b2=[13  4  5]\n"
     ]
    }
   ],
   "source": [
    "import numpy as np\n",
    "a0=[1,2,3,4,5]\n",
    "a1=np.array(a0)\n",
    "b1=a1[1:]\n",
    "b2=b1[1:]\n",
    "a1[0]=11\n",
    "b1[0]=12\n",
    "b2[0]=13\n",
    "print(\"a1={},b1={},b2={}\".format(a1,b1,b2))"
   ]
  },
  {
   "cell_type": "code",
   "execution_count": 13,
   "metadata": {},
   "outputs": [
    {
     "name": "stdout",
     "output_type": "stream",
     "text": [
      "[1 2 3 4 5 6 7 8 9]\n",
      "[1 2 3 4 5 6]\n",
      "[1 2 3 4 5]\n",
      "a1=[11 12 13  4  5  6  7  8  9],b1=[11 12 13  4  5  6],b2=[11 12 13  4  5]\n"
     ]
    }
   ],
   "source": [
    "import numpy as np\n",
    "a0=[1,2,3,4,5,6,7,8,9]\n",
    "a1=np.array(a0)\n",
    "print(a1)\n",
    "b1=a1[:6]\n",
    "print(b1)\n",
    "b2=b1[:5]\n",
    "print(b2)\n",
    "a1[0]=11\n",
    "b1[1]=12\n",
    "b2[2]=13\n",
    "print(\"a1={},b1={},b2={}\".format(a1,b1,b2))"
   ]
  },
  {
   "cell_type": "code",
   "execution_count": 14,
   "metadata": {},
   "outputs": [
    {
     "name": "stdout",
     "output_type": "stream",
     "text": [
      "[1 2 3 4 5]\n",
      "[2 3 4 5]\n",
      "[3 4 5]\n",
      "a1=[11 12 13  4  5],b1=[12 13  4  5],b2=[13  4  5]\n"
     ]
    }
   ],
   "source": [
    "import numpy as np\n",
    "a0=[1,2,3,4,5]\n",
    "a1=np.array(a0)\n",
    "print(a1)\n",
    "b1=a1[1:]\n",
    "print(b1)\n",
    "b2=b1[1:]\n",
    "print(b2)\n",
    "a1[0]=11\n",
    "b1[0]=12\n",
    "b2[0]=13\n",
    "print(\"a1={},b1={},b2={}\".format(a1,b1,b2))"
   ]
  },
  {
   "cell_type": "code",
   "execution_count": 1,
   "metadata": {},
   "outputs": [
    {
     "name": "stdout",
     "output_type": "stream",
     "text": [
      "[OrderedDict([('CartId', '121'), ('ProdCount', '2'), ('ItemCount', '5'), ('TotalPrice', '110'), ('Discount', '15'), ('NetPrice', '95')]), OrderedDict([('CartId', '122'), ('ProdCount', '3'), ('ItemCount', '10'), ('TotalPrice', '88'), ('Discount', '6'), ('NetPrice', '82')]), OrderedDict([('CartId', '123'), ('ProdCount', '1'), ('ItemCount', '1'), ('TotalPrice', '5'), ('Discount', '0'), ('NetPrice', '5')]), OrderedDict([('CartId', '124'), ('ProdCount', '4'), ('ItemCount', '7'), ('TotalPrice', '30'), ('Discount', '2'), ('NetPrice', '28')]), OrderedDict([('CartId', '125'), ('ProdCount', '2'), ('ItemCount', '6'), ('TotalPrice', '62'), ('Discount', '11'), ('NetPrice', '51')]), OrderedDict([('CartId', '126'), ('ProdCount', '3'), ('ItemCount', '3'), ('TotalPrice', '18'), ('Discount', '2'), ('NetPrice', '16')]), OrderedDict([('CartId', '127'), ('ProdCount', '1'), ('ItemCount', '5'), ('TotalPrice', '22'), ('Discount', '4'), ('NetPrice', '18')]), OrderedDict([('CartId', '128'), ('ProdCount', '4'), ('ItemCount', '6'), ('TotalPrice', '42'), ('Discount', '5'), ('NetPrice', '37')]), OrderedDict([('CartId', '129'), ('ProdCount', '2'), ('ItemCount', '4'), ('TotalPrice', '33'), ('Discount', '6'), ('NetPrice', '27')]), OrderedDict([('CartId', '130'), ('ProdCount', '3'), ('ItemCount', '11'), ('TotalPrice', '29'), ('Discount', '8'), ('NetPrice', '21')]), OrderedDict([('CartId', '131'), ('ProdCount', '1'), ('ItemCount', '2'), ('TotalPrice', '8'), ('Discount', '1'), ('NetPrice', '7')]), OrderedDict([('CartId', '132'), ('ProdCount', '4'), ('ItemCount', '4'), ('TotalPrice', '38'), ('Discount', '4'), ('NetPrice', '34')]), OrderedDict([('CartId', '133'), ('ProdCount', '2'), ('ItemCount', '12'), ('TotalPrice', '12'), ('Discount', '1'), ('NetPrice', '11')]), OrderedDict([('CartId', '134'), ('ProdCount', '3'), ('ItemCount', '9'), ('TotalPrice', '27'), ('Discount', '3'), ('NetPrice', '24')]), OrderedDict([('CartId', '135'), ('ProdCount', '5'), ('ItemCount', '8'), ('TotalPrice', '128'), ('Discount', '15'), ('NetPrice', '113')]), OrderedDict([('CartId', '136'), ('ProdCount', '6'), ('ItemCount', '7'), ('TotalPrice', '41'), ('Discount', '5'), ('NetPrice', '36')]), OrderedDict([('CartId', '137'), ('ProdCount', '2'), ('ItemCount', '2'), ('TotalPrice', '8'), ('Discount', '0'), ('NetPrice', '8')]), OrderedDict([('CartId', '138'), ('ProdCount', '3'), ('ItemCount', '3'), ('TotalPrice', '9'), ('Discount', '0'), ('NetPrice', '9')]), OrderedDict([('CartId', '139'), ('ProdCount', '5'), ('ItemCount', '6'), ('TotalPrice', '6'), ('Discount', '0'), ('NetPrice', '6')]), OrderedDict([('CartId', '140'), ('ProdCount', '4'), ('ItemCount', '18'), ('TotalPrice', '47'), ('Discount', '3'), ('NetPrice', '44')]), OrderedDict([('CartId', '141'), ('ProdCount', '2'), ('ItemCount', '11'), ('TotalPrice', '75'), ('Discount', '8'), ('NetPrice', '67')]), OrderedDict([('CartId', '142'), ('ProdCount', '3'), ('ItemCount', '3'), ('TotalPrice', '12'), ('Discount', '1'), ('NetPrice', '11')]), OrderedDict([('CartId', '143'), ('ProdCount', '5'), ('ItemCount', '8'), ('TotalPrice', '16'), ('Discount', '0'), ('NetPrice', '16')]), OrderedDict([('CartId', '144'), ('ProdCount', '6'), ('ItemCount', '25'), ('TotalPrice', '33'), ('Discount', '1'), ('NetPrice', '32')])]\n"
     ]
    }
   ],
   "source": [
    "import unicodecsv\n",
    "def read_csv(filename):\n",
    "    with open(filename,'rb') as f:\n",
    "        reader = unicodecsv.DictReader(f)\n",
    "        return list(reader)\n",
    "fname='F:/DataScience/3 Handling CSV Files/1 shoping-cart.csv'\n",
    "salesdata=read_csv(fname)\n",
    "print(salesdata)"
   ]
  },
  {
   "cell_type": "code",
   "execution_count": 2,
   "metadata": {},
   "outputs": [
    {
     "name": "stdout",
     "output_type": "stream",
     "text": [
      "[OrderedDict([('CartId', 121), ('ProdCount', 2), ('ItemCount', 5), ('TotalPrice', 110), ('Discount', 15), ('NetPrice', 95)]), OrderedDict([('CartId', 122), ('ProdCount', 3), ('ItemCount', 10), ('TotalPrice', 88), ('Discount', 6), ('NetPrice', 82)]), OrderedDict([('CartId', 123), ('ProdCount', 1), ('ItemCount', 1), ('TotalPrice', 5), ('Discount', 0), ('NetPrice', 5)]), OrderedDict([('CartId', 124), ('ProdCount', 4), ('ItemCount', 7), ('TotalPrice', 30), ('Discount', 2), ('NetPrice', 28)]), OrderedDict([('CartId', 125), ('ProdCount', 2), ('ItemCount', 6), ('TotalPrice', 62), ('Discount', 11), ('NetPrice', 51)]), OrderedDict([('CartId', 126), ('ProdCount', 3), ('ItemCount', 3), ('TotalPrice', 18), ('Discount', 2), ('NetPrice', 16)]), OrderedDict([('CartId', 127), ('ProdCount', 1), ('ItemCount', 5), ('TotalPrice', 22), ('Discount', 4), ('NetPrice', 18)]), OrderedDict([('CartId', 128), ('ProdCount', 4), ('ItemCount', 6), ('TotalPrice', 42), ('Discount', 5), ('NetPrice', 37)]), OrderedDict([('CartId', 129), ('ProdCount', 2), ('ItemCount', 4), ('TotalPrice', 33), ('Discount', 6), ('NetPrice', 27)]), OrderedDict([('CartId', 130), ('ProdCount', 3), ('ItemCount', 11), ('TotalPrice', 29), ('Discount', 8), ('NetPrice', 21)]), OrderedDict([('CartId', 131), ('ProdCount', 1), ('ItemCount', 2), ('TotalPrice', 8), ('Discount', 1), ('NetPrice', 7)]), OrderedDict([('CartId', 132), ('ProdCount', 4), ('ItemCount', 4), ('TotalPrice', 38), ('Discount', 4), ('NetPrice', 34)]), OrderedDict([('CartId', 133), ('ProdCount', 2), ('ItemCount', 12), ('TotalPrice', 12), ('Discount', 1), ('NetPrice', 11)]), OrderedDict([('CartId', 134), ('ProdCount', 3), ('ItemCount', 9), ('TotalPrice', 27), ('Discount', 3), ('NetPrice', 24)]), OrderedDict([('CartId', 135), ('ProdCount', 5), ('ItemCount', 8), ('TotalPrice', 128), ('Discount', 15), ('NetPrice', 113)]), OrderedDict([('CartId', 136), ('ProdCount', 6), ('ItemCount', 7), ('TotalPrice', 41), ('Discount', 5), ('NetPrice', 36)]), OrderedDict([('CartId', 137), ('ProdCount', 2), ('ItemCount', 2), ('TotalPrice', 8), ('Discount', 0), ('NetPrice', 8)]), OrderedDict([('CartId', 138), ('ProdCount', 3), ('ItemCount', 3), ('TotalPrice', 9), ('Discount', 0), ('NetPrice', 9)]), OrderedDict([('CartId', 139), ('ProdCount', 5), ('ItemCount', 6), ('TotalPrice', 6), ('Discount', 0), ('NetPrice', 6)]), OrderedDict([('CartId', 140), ('ProdCount', 4), ('ItemCount', 18), ('TotalPrice', 47), ('Discount', 3), ('NetPrice', 44)]), OrderedDict([('CartId', 141), ('ProdCount', 2), ('ItemCount', 11), ('TotalPrice', 75), ('Discount', 8), ('NetPrice', 67)]), OrderedDict([('CartId', 142), ('ProdCount', 3), ('ItemCount', 3), ('TotalPrice', 12), ('Discount', 1), ('NetPrice', 11)]), OrderedDict([('CartId', 143), ('ProdCount', 5), ('ItemCount', 8), ('TotalPrice', 16), ('Discount', 0), ('NetPrice', 16)]), OrderedDict([('CartId', 144), ('ProdCount', 6), ('ItemCount', 25), ('TotalPrice', 33), ('Discount', 1), ('NetPrice', 32)])]\n"
     ]
    }
   ],
   "source": [
    "import unicodecsv\n",
    "def read_csv(filename):\n",
    "    with open(filename,'rb') as f:\n",
    "        reader = unicodecsv.DictReader(f)\n",
    "        return list(reader)\n",
    "fname='F:/DataScience/3 Handling CSV Files/1 shoping-cart.csv'\n",
    "salesdata=read_csv(fname)\n",
    "\n",
    "for data in salesdata:\n",
    "    data['CartId'] = int(data['CartId'])\n",
    "    data['ProdCount'] = int(data['ProdCount'])\n",
    "    data['ItemCount'] = int(data['ItemCount'])\n",
    "    data['TotalPrice'] = int(data['TotalPrice'])\n",
    "    data['Discount'] = int(data['Discount'])\n",
    "    data['NetPrice'] = int(data['NetPrice'])\n",
    "print(salesdata)"
   ]
  },
  {
   "cell_type": "code",
   "execution_count": 11,
   "metadata": {},
   "outputs": [
    {
     "name": "stdout",
     "output_type": "stream",
     "text": [
      "{121: 2, 122: 3, 123: 1, 124: 4, 125: 2, 126: 3, 127: 1, 128: 4, 129: 2, 130: 3, 131: 1, 132: 4, 133: 2, 134: 3, 135: 5, 136: 6, 137: 2, 138: 3, 139: 5, 140: 4, 141: 2, 142: 3, 143: 5, 144: 6}\n"
     ]
    }
   ],
   "source": [
    "prodWiseSales = dict()\n",
    "prodWiseSales['CartId'] = dict()\n",
    "prodWiseSales['ProdCount'] = dict()\n",
    "prodWiseSales['ItemCount'] = dict()\n",
    "prodWiseSales['TotalPrice'] = dict()\n",
    "prodWiseSales['Discount'] = dict()\n",
    "prodWiseSales['NetPrice'] = dict()\n",
    "\n",
    "for data in salesdata:\n",
    "    dayno = data['CartId']\n",
    "    prodWiseSales['ProdCount'][dayno]=data['ProdCount']\n",
    "    prodWiseSales['ItemCount'][dayno]=data['ItemCount']\n",
    "    prodWiseSales['TotalPrice'][dayno]=data['TotalPrice']\n",
    "    prodWiseSales['Discount'][dayno]=data['Discount']\n",
    "    prodWiseSales['NetPrice'][dayno]=data['NetPrice']\n",
    "    \n",
    "print(prodWiseSales['ProdCount'])\n"
   ]
  },
  {
   "cell_type": "code",
   "execution_count": 4,
   "metadata": {},
   "outputs": [
    {
     "name": "stdout",
     "output_type": "stream",
     "text": [
      "{'CartId': {}, 'ProdCount': {121: 2, 122: 3, 123: 1, 124: 4, 125: 2, 126: 3, 127: 1, 128: 4, 129: 2, 130: 3, 131: 1, 132: 4, 133: 2, 134: 3, 135: 5, 136: 6, 137: 2, 138: 3, 139: 5, 140: 4, 141: 2, 142: 3, 143: 5, 144: 6}, 'ItemCount': {121: 5, 122: 10, 123: 1, 124: 7, 125: 6, 126: 3, 127: 5, 128: 6, 129: 4, 130: 11, 131: 2, 132: 4, 133: 12, 134: 9, 135: 8, 136: 7, 137: 2, 138: 3, 139: 6, 140: 18, 141: 11, 142: 3, 143: 8, 144: 25}, 'TotalPrice': {121: 110, 122: 88, 123: 5, 124: 30, 125: 62, 126: 18, 127: 22, 128: 42, 129: 33, 130: 29, 131: 8, 132: 38, 133: 12, 134: 27, 135: 128, 136: 41, 137: 8, 138: 9, 139: 6, 140: 47, 141: 75, 142: 12, 143: 16, 144: 33}, 'Discount': {121: 15, 122: 6, 123: 0, 124: 2, 125: 11, 126: 2, 127: 4, 128: 5, 129: 6, 130: 8, 131: 1, 132: 4, 133: 1, 134: 3, 135: 15, 136: 5, 137: 0, 138: 0, 139: 0, 140: 3, 141: 8, 142: 1, 143: 0, 144: 1}, 'NetPrice': {121: 95, 122: 82, 123: 5, 124: 28, 125: 51, 126: 16, 127: 18, 128: 37, 129: 27, 130: 21, 131: 7, 132: 34, 133: 11, 134: 24, 135: 113, 136: 36, 137: 8, 138: 9, 139: 6, 140: 44, 141: 67, 142: 11, 143: 16, 144: 32}}\n"
     ]
    }
   ],
   "source": [
    "prodWiseSales = dict()\n",
    "prodWiseSales['CartId'] = dict()\n",
    "prodWiseSales['ProdCount'] = dict()\n",
    "prodWiseSales['ItemCount'] = dict()\n",
    "prodWiseSales['TotalPrice'] = dict()\n",
    "prodWiseSales['Discount'] = dict()\n",
    "prodWiseSales['NetPrice'] = dict()\n",
    "\n",
    "for data in salesdata:\n",
    "    dayno = data['CartId']\n",
    "    prodWiseSales['ProdCount'][dayno]=data['ProdCount']\n",
    "    prodWiseSales['ItemCount'][dayno]=data['ItemCount']\n",
    "    prodWiseSales['TotalPrice'][dayno]=data['TotalPrice']\n",
    "    prodWiseSales['Discount'][dayno]=data['Discount']\n",
    "    prodWiseSales['NetPrice'][dayno]=data['NetPrice']\n",
    "    \n",
    "print(prodWiseSales)"
   ]
  },
  {
   "cell_type": "code",
   "execution_count": 1,
   "metadata": {},
   "outputs": [
    {
     "name": "stdout",
     "output_type": "stream",
     "text": [
      "Sales details for ProdCount, mean= 3.1666666666666665,max= 6,min=1\n",
      "Sales details for ItemCount, mean= 7.333333333333333,max= 25,min=1\n",
      "Sales details for TotalPrice, mean= 37.458333333333336,max= 128,min=5\n",
      "Sales details for Discount, mean= 4.208333333333333,max= 15,min=0\n",
      "Sales details for NetPrice, mean= 33.25,max= 113,min=5\n"
     ]
    }
   ],
   "source": [
    "import unicodecsv\n",
    "def read_csv(filename):\n",
    "    with open(filename,'rb') as f:\n",
    "        reader = unicodecsv.DictReader(f)\n",
    "        return list(reader)\n",
    "fname='F:/DataScience/3 Handling CSV Files/1 shoping-cart.csv'\n",
    "salesdata=read_csv(fname)\n",
    "\n",
    "prodWiseSales = dict()\n",
    "prodWiseSales['CartId'] = dict()\n",
    "prodWiseSales['ProdCount'] = dict()\n",
    "prodWiseSales['ItemCount'] = dict()\n",
    "prodWiseSales['TotalPrice'] = dict()\n",
    "prodWiseSales['Discount'] = dict()\n",
    "prodWiseSales['NetPrice'] = dict()\n",
    "\n",
    "for data in salesdata:\n",
    "    dayno = int(data['CartId'])\n",
    "    prodWiseSales['ProdCount'][dayno]=int(data['ProdCount'])\n",
    "    prodWiseSales['ItemCount'][dayno]=int(data['ItemCount'])\n",
    "    prodWiseSales['TotalPrice'][dayno]=int(data['TotalPrice'])\n",
    "    prodWiseSales['Discount'][dayno]=int(data['Discount'])\n",
    "    prodWiseSales['NetPrice'][dayno]=int(data['NetPrice'])\n",
    "    \n",
    "\n",
    "import numpy as np\n",
    "def sales_details(sales,prodname):\n",
    "    mean1 = np.mean(sales)\n",
    "    max1 = np.max(sales)\n",
    "    min1 = np.min(sales)\n",
    "    print(\"Sales details for {}, mean= {},max= {},min={}\".format(prodname,mean1,max1,min1))\n",
    "    \n",
    "salesXYZ = list(prodWiseSales['ProdCount'].values())\n",
    "salesXYZ_arr = np.array(salesXYZ)\n",
    "sales_details(salesXYZ_arr,'ProdCount')\n",
    "\n",
    "salesXYZ = list(prodWiseSales['ItemCount'].values())\n",
    "salesXYZ_arr = np.array(salesXYZ)\n",
    "sales_details(salesXYZ_arr,'ItemCount')\n",
    "\n",
    "salesXYZ = list(prodWiseSales['TotalPrice'].values())\n",
    "salesXYZ_arr = np.array(salesXYZ)\n",
    "sales_details(salesXYZ_arr,'TotalPrice')\n",
    "\n",
    "salesXYZ = list(prodWiseSales['Discount'].values())\n",
    "salesXYZ_arr = np.array(salesXYZ)\n",
    "sales_details(salesXYZ_arr,'Discount')\n",
    "\n",
    "salesXYZ = list(prodWiseSales['NetPrice'].values())\n",
    "salesXYZ_arr = np.array(salesXYZ)\n",
    "sales_details(salesXYZ_arr,'NetPrice')\n"
   ]
  },
  {
   "cell_type": "code",
   "execution_count": 1,
   "metadata": {},
   "outputs": [
    {
     "name": "stdout",
     "output_type": "stream",
     "text": [
      "Sales details for ProdCount, mean= 3.1666666666666665,max= 6,min=1\n",
      "Sales details for ItemCount, mean= 7.333333333333333,max= 25,min=1\n",
      "Sales details for TotalPrice, mean= 37.458333333333336,max= 128,min=5\n",
      "Sales details for Discount, mean= 4.208333333333333,max= 15,min=0\n",
      "Sales details for NetPrice, mean= 33.25,max= 113,min=5\n"
     ]
    }
   ],
   "source": [
    "import unicodecsv\n",
    "def read_csv(filename):\n",
    "    with open(filename,'rb') as f:\n",
    "        reader = unicodecsv.DictReader(f)\n",
    "        return list(reader)\n",
    "fname='F:/DataScience/3 Handling CSV Files/1 shoping-cart.csv'\n",
    "salesdata=read_csv(fname)\n",
    "\n",
    "prodWiseSales = dict()\n",
    "prodWiseSales['ProdCount'] = dict()\n",
    "prodWiseSales['ItemCount'] = dict()\n",
    "prodWiseSales['TotalPrice'] = dict()\n",
    "prodWiseSales['Discount'] = dict()\n",
    "prodWiseSales['NetPrice'] = dict()\n",
    "\n",
    "for data in salesdata:\n",
    "    dayno = int(data['CartId'])\n",
    "    prodWiseSales['ProdCount'][dayno]=int(data['ProdCount'])\n",
    "    prodWiseSales['ItemCount'][dayno]=int(data['ItemCount'])\n",
    "    prodWiseSales['TotalPrice'][dayno]=int(data['TotalPrice'])\n",
    "    prodWiseSales['Discount'][dayno]=int(data['Discount'])\n",
    "    prodWiseSales['NetPrice'][dayno]=int(data['NetPrice'])\n",
    "    \n",
    "\n",
    "import numpy as np\n",
    "def sales_details(sales,prodname):\n",
    "    mean1 = np.mean(sales)\n",
    "    max1 = np.max(sales)\n",
    "    min1 = np.min(sales)\n",
    "    print(\"Sales details for {}, mean= {},max= {},min={}\".format(prodname,mean1,max1,min1))\n",
    "    \n",
    "prods = list(prodWiseSales.keys())\n",
    "for prod in prods :\n",
    "    salesProd = list(prodWiseSales[prod].values())\n",
    "    sales_arr = np.array(salesProd)\n",
    "    sales_details(sales_arr,prod)\n"
   ]
  },
  {
   "cell_type": "code",
   "execution_count": 6,
   "metadata": {},
   "outputs": [
    {
     "name": "stdout",
     "output_type": "stream",
     "text": [
      "Sales details for Home, mean= 101.08571428571429,max= 139,min=70\n",
      "Sales details for Prod1, mean= 85.08571428571429,max= 120,min=56\n",
      "Sales details for Prod2, mean= 88.94285714285714,max= 118,min=62\n",
      "Sales details for Sales, mean= 89.97142857142858,max= 126,min=62\n",
      "Sales details for Refer, mean= 95.91428571428571,max= 126,min=63\n",
      "Sales details for Home, mean= 101.08571428571429,max= 139,min=70\n",
      "Sales details for Prod1, mean= 85.08571428571429,max= 120,min=56\n",
      "Sales details for Prod2, mean= 88.94285714285714,max= 118,min=62\n",
      "Sales details for Sales, mean= 89.97142857142858,max= 126,min=62\n",
      "Sales details for Refer, mean= 95.91428571428571,max= 126,min=63\n"
     ]
    },
    {
     "data": {
      "image/png": "[encoded data removed]",
      "text/plain": [
       "<Figure size 432x288 with 1 Axes>"
      ]
     },
     "metadata": {
      "needs_background": "light"
     },
     "output_type": "display_data"
    }
   ],
   "source": [
    "%matplotlib inline\n",
    "import matplotlib.pyplot as plt\n",
    "import unicodecsv\n",
    "def read_csv(filename):\n",
    "    with open(filename,'rb') as f:\n",
    "        reader = unicodecsv.DictReader(f)\n",
    "        return list(reader)\n",
    "fname='F:/DataScience/4 Matplotlib/1 daily-traffic.csv'\n",
    "salesdata=read_csv(fname)\n",
    "\n",
    "prodWiseSales = dict()\n",
    "prodWiseSales['Home'] = dict()\n",
    "prodWiseSales['Prod1'] = dict()\n",
    "prodWiseSales['Prod2'] = dict()\n",
    "prodWiseSales['Sales'] = dict()\n",
    "prodWiseSales['Refer'] = dict()\n",
    "\n",
    "for data in salesdata:\n",
    "    dayno = int(data['DayNo'])\n",
    "    prodWiseSales['Home'][dayno]=int(data['Home'])\n",
    "    prodWiseSales['Prod1'][dayno]=int(data['Prod1'])\n",
    "    prodWiseSales['Prod2'][dayno]=int(data['Prod2'])\n",
    "    prodWiseSales['Sales'][dayno]=int(data['Sales'])\n",
    "    prodWiseSales['Refer'][dayno]=int(data['Refer'])\n",
    "\n",
    "import numpy as np\n",
    "def sales_details(sales,prodname):\n",
    "    mean1 = np.mean(sales)\n",
    "    max1 = np.max(sales)\n",
    "    min1 = np.min(sales)\n",
    "    print(\"Sales details for {}, mean= {},max= {},min={}\".format(prodname,mean1,max1,min1))\n",
    "    \n",
    "salesHome = list(prodWiseSales['Home'].values())\n",
    "salesHome_arr = np.array(salesHome)\n",
    "sales_details(salesHome_arr,'Home')\n",
    "    \n",
    "salesProd1 = list(prodWiseSales['Prod1'].values())\n",
    "salesProd1_arr = np.array(salesProd1)\n",
    "sales_details(salesProd1_arr,'Prod1')\n",
    "\n",
    "salesProd2 = list(prodWiseSales['Prod2'].values())\n",
    "salesProd2_arr = np.array(salesProd2)\n",
    "sales_details(salesProd2_arr,'Prod2')\n",
    "\n",
    "salesSales = list(prodWiseSales['Sales'].values())\n",
    "salesSales_arr = np.array(salesSales)\n",
    "sales_details(salesSales_arr,'Sales')\n",
    "\n",
    "salesRefer = list(prodWiseSales['Refer'].values())\n",
    "salesRefer_arr = np.array(salesRefer)\n",
    "sales_details(salesRefer_arr,'Refer')\n",
    "\n",
    "prods = list(prodWiseSales.keys())\n",
    "for prod in prods :\n",
    "    salesProd = list(prodWiseSales[prod].values())\n",
    "    sales_arr = np.array(salesProd)\n",
    "    sales_details(sales_arr,prod)\n",
    "    \n",
    "%matplotlib inline\n",
    "import matplotlib.pyplot as plt\n",
    "days = prodWiseSales['Home'].keys()\n",
    "plt.plot(days,salesHome,label='Home')\n",
    "plt.plot(days,salesProd1,label='Prod1')\n",
    "plt.plot(days,salesProd2,label='Prod2')\n",
    "plt.plot(days,salesSales,label='Sales')\n",
    "plt.plot(days,salesRefer,label='Refer')\n",
    "plt.legend()\n",
    "plt.show()\n",
    "\n"
   ]
  },
  {
   "cell_type": "code",
   "execution_count": 7,
   "metadata": {},
   "outputs": [
    {
     "data": {
      "image/png": "[encoded data removed]",
      "text/plain": [
       "<Figure size 432x288 with 1 Axes>"
      ]
     },
     "metadata": {
      "needs_background": "light"
     },
     "output_type": "display_data"
    }
   ],
   "source": [
    "%matplotlib inline\n",
    "import matplotlib.pyplot as plt\n",
    "days = prodWiseSales['Home'].keys()\n",
    "plt.plot(days,salesHome,label='Home')\n",
    "plt.plot(days,salesProd1,label='Prod1')\n",
    "plt.plot(days,salesProd2,label='Prod2')\n",
    "plt.plot(days,salesSales,label='Sales')\n",
    "plt.plot(days,salesRefer,label='Refer')\n",
    "plt.legend()\n",
    "plt.show()"
   ]
  },
  {
   "cell_type": "code",
   "execution_count": 9,
   "metadata": {},
   "outputs": [
    {
     "data": {
      "image/png": "[encoded data removed]",
      "text/plain": [
       "<Figure size 432x288 with 1 Axes>"
      ]
     },
     "metadata": {
      "needs_background": "light"
     },
     "output_type": "display_data"
    }
   ],
   "source": [
    "%matplotlib inline\n",
    "import matplotlib.pyplot as plt\n",
    "days = prodWiseSales['Home'].keys()\n",
    "plt.plot(days,salesHome,label='Home')\n",
    "plt.legend()\n",
    "plt.show()"
   ]
  },
  {
   "cell_type": "code",
   "execution_count": 15,
   "metadata": {},
   "outputs": [
    {
     "data": {
      "image/png": "[encoded data removed]",
      "text/plain": [
       "<Figure size 432x288 with 1 Axes>"
      ]
     },
     "metadata": {
      "needs_background": "light"
     },
     "output_type": "display_data"
    }
   ],
   "source": [
    "p1=plt.bar(days,salesHome_arr)\n",
    "p2=plt.bar(days,salesProd1_arr,bottom=salesHome_arr)\n",
    "p3=plt.bar(days,salesProd2_arr,bottom=salesHome_arr+salesProd1_arr)\n",
    "p4=plt.bar(days,salesSales_arr,bottom=salesHome_arr+salesProd1_arr+salesProd2_arr)\n",
    "p5=plt.bar(days,salesRefer_arr,bottom=salesHome_arr+salesProd1_arr+salesProd2_arr+salesSales_arr)\n",
    "\n",
    "plt.legend((p1[0],p2[0],p3[0],p4[0],p5[0]),('Home','Prod1','Prod2','Sales','Refer'))\n",
    "plt.show()\n"
   ]
  },
  {
   "cell_type": "code",
   "execution_count": 1,
   "metadata": {},
   "outputs": [
    {
     "name": "stdout",
     "output_type": "stream",
     "text": [
      "0    10\n",
      "1    20\n",
      "2    30\n",
      "3    15\n",
      "4    25\n",
      "5     5\n",
      "dtype: int64\n",
      "count     6.000000\n",
      "mean     17.500000\n",
      "std       9.354143\n",
      "min       5.000000\n",
      "25%      11.250000\n",
      "50%      17.500000\n",
      "75%      23.750000\n",
      "max      30.000000\n",
      "dtype: float64\n",
      "mean=17.5,max=30,min=5\n"
     ]
    }
   ],
   "source": [
    "import pandas as pd\n",
    "list1 = [10,20,30,15,25,5]\n",
    "series1 = pd.Series(list1)\n",
    "print(series1)\n",
    "print(series1.describe())\n",
    "print(\"mean={},max={},min={}\".format(series1.mean(),series1.max(),series1.min()))"
   ]
  },
  {
   "cell_type": "code",
   "execution_count": 2,
   "metadata": {},
   "outputs": [
    {
     "name": "stdout",
     "output_type": "stream",
     "text": [
      "0    12\n",
      "1     3\n",
      "2     4\n",
      "3     5\n",
      "4     6\n",
      "5     7\n",
      "dtype: int64\n",
      "count     6.000000\n",
      "mean      6.166667\n",
      "std       3.188521\n",
      "min       3.000000\n",
      "25%       4.250000\n",
      "50%       5.500000\n",
      "75%       6.750000\n",
      "max      12.000000\n",
      "dtype: float64\n",
      "mean=6.166666666666667,max=12,min=3\n"
     ]
    }
   ],
   "source": [
    "import pandas as pd\n",
    "list1 = [12,3,4,5,6,7]\n",
    "series1 = pd.Series(list1)\n",
    "print(series1)\n",
    "print(series1.describe())\n",
    "print(\"mean={},max={},min={}\".format(series1.mean(),series1.max(),series1.min()))"
   ]
  },
  {
   "cell_type": "code",
   "execution_count": 7,
   "metadata": {},
   "outputs": [
    {
     "name": "stdout",
     "output_type": "stream",
     "text": [
      "Element : 10\n",
      "Element : 20\n",
      "Element : 30\n",
      "Element : 15\n",
      "Element : 25\n",
      "Element : 5\n"
     ]
    }
   ],
   "source": [
    "import pandas as pd\n",
    "list1 = [10,20,30,15,25,5]\n",
    "series1 = pd.Series(list1)\n",
    "for x in series1 : \n",
    "    print(\"Element : {}\".format(x))"
   ]
  },
  {
   "cell_type": "code",
   "execution_count": 16,
   "metadata": {},
   "outputs": [
    {
     "name": "stdout",
     "output_type": "stream",
     "text": [
      "Element : 0    10\n",
      "1    20\n",
      "2    30\n",
      "3    15\n",
      "4    25\n",
      "dtype: int64\n"
     ]
    }
   ],
   "source": [
    "import pandas as pd\n",
    "list1 = [10,20,30,15,25,5]\n",
    "series1 = pd.Series(list1)\n",
    "series2 = series1[0:5]\n",
    "print(\"Element : {}\".format(series2))"
   ]
  },
  {
   "cell_type": "code",
   "execution_count": 17,
   "metadata": {},
   "outputs": [
    {
     "name": "stdout",
     "output_type": "stream",
     "text": [
      "0    10\n",
      "1    20\n",
      "2    30\n",
      "3    15\n",
      "4    25\n",
      "dtype: int64\n"
     ]
    }
   ],
   "source": [
    "import pandas as pd\n",
    "list1 = [10,20,30,15,25,5]\n",
    "series1 = pd.Series(list1)\n",
    "series2 = series1[0:5]\n",
    "print(series2)"
   ]
  },
  {
   "cell_type": "code",
   "execution_count": 2,
   "metadata": {},
   "outputs": [
    {
     "name": "stdout",
     "output_type": "stream",
     "text": [
      "0    10\n",
      "1    20\n",
      "2    30\n",
      "dtype: int64\n",
      "mean=20.0,max=30,min=10\n"
     ]
    }
   ],
   "source": [
    "import pandas as pd\n",
    "list1 = [10,20,30,15,25,5]\n",
    "series1 = pd.Series(list1)\n",
    "series2 = series1[0:3]\n",
    "print(series2)\n",
    "print(\"mean={},max={},min={}\".format(series2.mean(),series2.max(),series2.min()))"
   ]
  },
  {
   "cell_type": "code",
   "execution_count": 4,
   "metadata": {},
   "outputs": [
    {
     "name": "stdout",
     "output_type": "stream",
     "text": [
      "2    30\n",
      "3    15\n",
      "4    25\n",
      "5     5\n",
      "dtype: int64\n",
      "mean=18.75,max=30,min=5\n"
     ]
    }
   ],
   "source": [
    "import pandas as pd\n",
    "list1 = [10,20,30,15,25,5]\n",
    "series1 = pd.Series(list1)\n",
    "series2 = series1[2:]\n",
    "print(series2)\n",
    "print(\"mean={},max={},min={}\".format(series2.mean(),series2.max(),series2.min()))"
   ]
  },
  {
   "cell_type": "code",
   "execution_count": 5,
   "metadata": {},
   "outputs": [
    {
     "name": "stdout",
     "output_type": "stream",
     "text": [
      "2    30\n",
      "3    15\n",
      "4    25\n",
      "5     5\n",
      "dtype: int64\n",
      "mean=18.75,max=30,min=5\n"
     ]
    }
   ],
   "source": [
    "import pandas as pd\n",
    "list1 = [10,20,30,15,25,5]\n",
    "a1=len(list1)\n",
    "series1 = pd.Series(list1)\n",
    "series2 = series1[a1-4:a1]\n",
    "print(series2)\n",
    "print(\"mean={},max={},min={}\".format(series2.mean(),series2.max(),series2.min()))"
   ]
  },
  {
   "cell_type": "code",
   "execution_count": 6,
   "metadata": {},
   "outputs": [
    {
     "name": "stdout",
     "output_type": "stream",
     "text": [
      "2    30\n",
      "3    15\n",
      "4    25\n",
      "5     5\n",
      "dtype: int64\n",
      "mean=18.75,max=30,min=5\n"
     ]
    }
   ],
   "source": [
    "import pandas as pd\n",
    "list1 = [10,20,30,15,25,5]\n",
    "series1 = pd.Series(list1)\n",
    "series2 = series1[-4:]\n",
    "print(series2)\n",
    "print(\"mean={},max={},min={}\".format(series2.mean(),series2.max(),series2.min()))"
   ]
  },
  {
   "cell_type": "code",
   "execution_count": 9,
   "metadata": {},
   "outputs": [
    {
     "name": "stdout",
     "output_type": "stream",
     "text": [
      "Coke     40\n",
      "Pepsi    60\n",
      "Mars     37\n",
      "5Star    80\n",
      "dtype: int64\n",
      "60\n",
      "60\n",
      "60\n"
     ]
    }
   ],
   "source": [
    "import pandas as pd\n",
    "list1=[40,60,37,80]\n",
    "list2=['Coke','Pepsi','Mars','5Star']\n",
    "series1=pd.Series(list1,index=list2)\n",
    "print(series1)\n",
    "print(series1.loc['Pepsi'])\n",
    "print(series1[1])\n",
    "print(series1.iloc[1])"
   ]
  },
  {
   "cell_type": "code",
   "execution_count": 10,
   "metadata": {},
   "outputs": [
    {
     "name": "stdout",
     "output_type": "stream",
     "text": [
      "Coke     40\n",
      "Pepsi    60\n",
      "Mars     37\n",
      "5Star    80\n",
      "dtype: int64\n",
      "37\n",
      "37\n",
      "37\n"
     ]
    }
   ],
   "source": [
    "import pandas as pd\n",
    "list1=[40,60,37,80]\n",
    "list2=['Coke','Pepsi','Mars','5Star']\n",
    "series1=pd.Series(list1,index=list2)\n",
    "print(series1)\n",
    "print(series1.loc['Mars'])\n",
    "print(series1[2])\n",
    "print(series1.iloc[2])"
   ]
  },
  {
   "cell_type": "code",
   "execution_count": 40,
   "metadata": {},
   "outputs": [
    {
     "name": "stdout",
     "output_type": "stream",
     "text": [
      "Mon    23\n",
      "Tue    25\n",
      "Wed    21\n",
      "Thu    22\n",
      "Fri    18\n",
      "dtype: int64\n",
      "loc:Mon:23,index:0:23,iloc:0:23\n",
      "loc:Tue:25,index:1:25,iloc:1:25\n",
      "loc:Wed:21,index:2:21,iloc:2:21\n",
      "loc:Thu:22,index:3:22,iloc:3:22\n",
      "loc:Fri:18,index:4:18,iloc:4:18\n"
     ]
    }
   ],
   "source": [
    "import pandas as pd\n",
    "list1=[23,25,21,22,18]\n",
    "list2=['Mon','Tue','Wed','Thu','Fri']\n",
    "series1=pd.Series(list1,index=list2)\n",
    "print(series1)\n",
    "z=-1\n",
    "for x in list2:\n",
    " z=z+1\n",
    " print(\"loc:{}:{},index:{}:{},iloc:{}:{}\".format(x,series1.loc[x],z,series1.loc[x],z,series1.iloc[z]))"
   ]
  },
  {
   "cell_type": "code",
   "execution_count": 3,
   "metadata": {},
   "outputs": [
    {
     "name": "stdout",
     "output_type": "stream",
     "text": [
      "Max=80,index is 5Star\n",
      "Min=37,index is Mars\n"
     ]
    }
   ],
   "source": [
    "import pandas as pd\n",
    "list1=[45,60,37,80]\n",
    "list2=['Coke','Pepsi','Mars','5Star']\n",
    "series1=pd.Series(list1,index=list2)\n",
    "max1=series1.idxmax()\n",
    "print(\"Max={},index is {}\".format(series1.loc[max1],max1))\n",
    "min1=series1.idxmin()\n",
    "print(\"Min={},index is {}\".format(series1.loc[min1],min1))"
   ]
  },
  {
   "cell_type": "code",
   "execution_count": 4,
   "metadata": {},
   "outputs": [
    {
     "name": "stdout",
     "output_type": "stream",
     "text": [
      "Max=60,index is Pepsi\n",
      "Min=25,index is Coke\n"
     ]
    }
   ],
   "source": [
    "import pandas as pd\n",
    "list1=[25,60,25,60]\n",
    "list2=['Coke','Pepsi','Mars','5Star']\n",
    "series1=pd.Series(list1,index=list2)\n",
    "max1=series1.idxmax()\n",
    "print(\"Max={},index is {}\".format(series1.loc[max1],max1))\n",
    "min1=series1.idxmin()\n",
    "print(\"Min={},index is {}\".format(series1.loc[min1],min1))"
   ]
  },
  {
   "cell_type": "code",
   "execution_count": 7,
   "metadata": {},
   "outputs": [
    {
     "name": "stdout",
     "output_type": "stream",
     "text": [
      "Max attendence on Tue: 25\n",
      "Min attendence on Fri: 18\n"
     ]
    }
   ],
   "source": [
    "import pandas as pd\n",
    "list1=[23,25,21,22,18]\n",
    "list2=['Mon','Tue','Wed','Thu','Fri']\n",
    "series1=pd.Series(list1,index=list2)\n",
    "max1=series1.idxmax()\n",
    "print(\"Max attendence on {}: {}\".format(max1,series1.loc[max1]))\n",
    "min1=series1.idxmin()\n",
    "print(\"Min attendence on {}: {}\".format(min1,series1.loc[min1]))"
   ]
  },
  {
   "cell_type": "code",
   "execution_count": 1,
   "metadata": {},
   "outputs": [
    {
     "name": "stdout",
     "output_type": "stream",
     "text": [
      "     Pepsi  Coke  Bisleri\n",
      "Mon      2     3       10\n",
      "Tue      1     4       10\n",
      "Wed      2     3       10\n",
      "Thu      1    14       20\n",
      "Fri      2     5       20\n",
      "Pepsi       2\n",
      "Coke        3\n",
      "Bisleri    10\n",
      "Name: Mon, dtype: int64\n",
      "Pepsi       2\n",
      "Coke        5\n",
      "Bisleri    20\n",
      "Name: Fri, dtype: int64\n",
      "Mon     3\n",
      "Tue     4\n",
      "Wed     3\n",
      "Thu    14\n",
      "Fri     5\n",
      "Name: Coke, dtype: int64\n",
      "Mon    2\n",
      "Tue    1\n",
      "Wed    2\n",
      "Thu    1\n",
      "Fri    2\n",
      "Name: Pepsi, dtype: int64\n",
      "10\n",
      "     Pepsi  Coke\n",
      "Mon      2     3\n",
      "Tue      1     4\n",
      "Wed      2     3\n",
      "Thu      1    14\n"
     ]
    }
   ],
   "source": [
    "import pandas as pd\n",
    "list1 = [[2,3,10],[1,4,10],[2,3,10],[1,14,20],[2,5,20]]\n",
    "week=['Mon','Tue','Wed','Thu','Fri']\n",
    "prod=['Pepsi','Coke','Bisleri']\n",
    "sales=pd.DataFrame(data=list1,index=week,columns=prod)\n",
    "print(sales)\n",
    "print(sales.loc['Mon'])\n",
    "print(sales.loc['Fri'])\n",
    "print(sales['Coke'])\n",
    "print(sales['Pepsi'])\n",
    "print(sales.iloc[0,2])\n",
    "print(sales.iloc[0:4,0:2])"
   ]
  },
  {
   "cell_type": "code",
   "execution_count": 1,
   "metadata": {},
   "outputs": [
    {
     "name": "stdout",
     "output_type": "stream",
     "text": [
      "   Pepsi  Coke  Bisleri\n",
      "0      8    10       15\n",
      "1      7    14       14\n",
      "2      9     9       15\n",
      "3      8    12       13\n",
      "4     12    13       14\n",
      "5     14    18       15\n",
      "6     20    22       14\n"
     ]
    }
   ],
   "source": [
    "import pandas as pd\n",
    "list1=[[8,10,15],[7,14,14],[9,9,15],[8,12,13],[12,13,14],[14,18,15],[20,22,14]]\n",
    "week=['Mon','Tue','Wed','Thu','Fri']\n",
    "prod=['Pepsi','Coke','Bisleri']\n",
    "sales= pd.DataFrame(data=list1,columns=prod)\n",
    "print(sales)"
   ]
  },
  {
   "cell_type": "code",
   "execution_count": 2,
   "metadata": {},
   "outputs": [
    {
     "name": "stdout",
     "output_type": "stream",
     "text": [
      "    A  B\n",
      "0   1  2\n",
      "1   4  4\n",
      "2   9  6\n",
      "3  16  8\n"
     ]
    }
   ],
   "source": [
    "import pandas as pd\n",
    "dfr1=pd.DataFrame({'A':[1,4,9,16],'B':[2,4,6,8]})\n",
    "print(dfr1)"
   ]
  },
  {
   "cell_type": "code",
   "execution_count": 3,
   "metadata": {},
   "outputs": [
    {
     "name": "stdout",
     "output_type": "stream",
     "text": [
      "    M   N   O   P\n",
      "0  12  15  17  25\n",
      "1   3   5   7   9\n"
     ]
    }
   ],
   "source": [
    "import pandas as pd\n",
    "dfr1=pd.DataFrame([[12,15,17,25],[3,5,7,9]],columns=['M','N','O','P'])\n",
    "print(dfr1)"
   ]
  },
  {
   "cell_type": "code",
   "execution_count": 2,
   "metadata": {},
   "outputs": [
    {
     "name": "stdout",
     "output_type": "stream",
     "text": [
      "     Pepsi  Coke  Bisleri\n",
      "Mon      2     3       10\n",
      "Tue      1     4       10\n",
      "Wed      2     3       10\n",
      "Thu      1     4       20\n",
      "Fri      2     3       20\n",
      "Pepsi       8\n",
      "Coke       17\n",
      "Bisleri    70\n",
      "dtype: int64\n",
      "8\n",
      "8\n",
      "Mon    15\n",
      "Tue    15\n",
      "Wed    15\n",
      "Thu    25\n",
      "Fri    25\n",
      "dtype: int64\n",
      "15\n",
      "15\n",
      "Pepsi       8\n",
      "Coke       17\n",
      "Bisleri    70\n",
      "dtype: int64\n",
      "Pepsi       1\n",
      "Coke        3\n",
      "Bisleri    10\n",
      "dtype: int64\n"
     ]
    }
   ],
   "source": [
    "import pandas as pd\n",
    "list1 = [[2,3,10],[1,4,10],[2,3,10],[1,4,20],[2,3,20]]\n",
    "week=['Mon','Tue','Wed','Thu','Fri']\n",
    "prod=['Pepsi','Coke','Bisleri']\n",
    "dfrl=pd.DataFrame(data=list1,index=week,columns=prod)\n",
    "print(dfrl)\n",
    "print(dfrl.sum())\n",
    "print(dfrl.sum()['Pepsi'])\n",
    "print(dfrl.sum().iloc[0])\n",
    "print(dfrl.sum(axis=1))\n",
    "print(dfrl.sum(axis=1).iloc[0])\n",
    "print(dfrl.sum(axis=1).iloc[1])\n",
    "print(dfrl.sum(axis=0))\n",
    "print(dfrl.min())"
   ]
  },
  {
   "cell_type": "code",
   "execution_count": 27,
   "metadata": {},
   "outputs": [
    {
     "name": "stdout",
     "output_type": "stream",
     "text": [
      "180\n",
      "A    50\n",
      "B    10\n",
      "dtype: int64\n",
      "10\n",
      "150\n",
      "50\n",
      "10\n",
      "0    12\n",
      "1    24\n",
      "2    36\n",
      "3    48\n",
      "4    60\n",
      "dtype: int64\n",
      "12\n",
      "24\n"
     ]
    }
   ],
   "source": [
    "import pandas as pd\n",
    "dfr1=pd.DataFrame({'A':[10,20,30,40,50],'B':[2,4,6,8,10]})\n",
    "print(dfrl.values.sum())\n",
    "print(dfrl.max())\n",
    "print(dfrl.max()['B'])\n",
    "print(dfrl.sum().iloc[0])\n",
    "print(dfrl.max().iloc[0])\n",
    "print(dfrl.min().iloc[0])\n",
    "print(dfrl.sum(axis=1))\n",
    "print(dfrl.sum(axis=1).iloc[0])\n",
    "print(dfrl.sum(axis=1).iloc[1])"
   ]
  },
  {
   "cell_type": "code",
   "execution_count": null,
   "metadata": {},
   "outputs": [],
   "source": []
  }
 ],
 "metadata": {
  "kernelspec": {
   "display_name": "Python 3",
   "language": "python",
   "name": "python3"
  },
  "language_info": {
   "codemirror_mode": {
    "name": "ipython",
    "version": 3
   },
   "file_extension": ".py",
   "mimetype": "text/x-python",
   "name": "python",
   "nbconvert_exporter": "python",
   "pygments_lexer": "ipython3",
   "version": "3.7.5"
  }
 },
 "nbformat": 4,
 "nbformat_minor": 4
}
