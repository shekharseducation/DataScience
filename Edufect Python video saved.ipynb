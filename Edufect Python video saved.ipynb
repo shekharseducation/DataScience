{
 "cells": [
  {
   "cell_type": "code",
   "execution_count": 1,
   "metadata": {},
   "outputs": [
    {
     "name": "stdout",
     "output_type": "stream",
     "text": [
      "[1 2 3 4]\n"
     ]
    }
   ],
   "source": [
    "import numpy as np\n",
    "list1 = [1,2,3,4]\n",
    "ar1 = np.array(list1)\n",
    "print(ar1)"
   ]
  },
  {
   "cell_type": "code",
   "execution_count": 2,
   "metadata": {},
   "outputs": [
    {
     "name": "stdout",
     "output_type": "stream",
     "text": [
      "[1 2 3 4]\n",
      "[7 2 3 4]\n"
     ]
    }
   ],
   "source": [
    "import numpy as np\n",
    "list1 = [1,2,3,4]\n",
    "ar1 = np.array(list1)\n",
    "print(ar1)\n",
    "ar1[0] = 7\n",
    "print(ar1)"
   ]
  },
  {
   "cell_type": "code",
   "execution_count": 3,
   "metadata": {},
   "outputs": [
    {
     "name": "stdout",
     "output_type": "stream",
     "text": [
      "[1 2 3 4]\n",
      "[7 2 3 4]\n",
      "[7 6 3 4]\n"
     ]
    }
   ],
   "source": [
    "import numpy as np\n",
    "list1 = [1,2,3,4]\n",
    "ar1 = np.array(list1)\n",
    "print(ar1)\n",
    "ar1[0] = 7\n",
    "print(ar1)\n",
    "ar1[1] = 6\n",
    "print(ar1)"
   ]
  },
  {
   "cell_type": "code",
   "execution_count": 4,
   "metadata": {},
   "outputs": [
    {
     "name": "stdout",
     "output_type": "stream",
     "text": [
      "[1 2 3 4]\n",
      "[7 2 3 4]\n",
      "[7 6 3 4]\n",
      "Length of the numpy array = 4\n"
     ]
    }
   ],
   "source": [
    "import numpy as np\n",
    "list1 = [1,2,3,4]\n",
    "ar1 = np.array(list1)\n",
    "print(ar1)\n",
    "ar1[0] = 7\n",
    "print(ar1)\n",
    "ar1[1] = 6\n",
    "print(ar1)\n",
    "print(\"Length of the numpy array = {}\".format(len(ar1)))"
   ]
  },
  {
   "cell_type": "code",
   "execution_count": 6,
   "metadata": {},
   "outputs": [
    {
     "name": "stdout",
     "output_type": "stream",
     "text": [
      "[1 2 3 5]\n",
      "Length of the numpy array = 4\n",
      "1\n",
      "2\n",
      "3\n",
      "5\n"
     ]
    }
   ],
   "source": [
    "import numpy as np\n",
    "list1 = [1,2,3,5]\n",
    "ar1 = np.array(list1)\n",
    "print(ar1)\n",
    "print(\"Length of the numpy array = {}\".format(len(ar1)))\n",
    "for i in ar1 :\n",
    "    print(i)"
   ]
  },
  {
   "cell_type": "code",
   "execution_count": 1,
   "metadata": {},
   "outputs": [
    {
     "name": "stdout",
     "output_type": "stream",
     "text": [
      "Sum of numbers = 11\n"
     ]
    }
   ],
   "source": [
    "import numpy as np\n",
    "list1 = [1,2,3,5]\n",
    "ar1 = np.array(list1)\n",
    "sum_ar1 = np.sum(ar1)\n",
    "print(\"Sum of numbers = {}\".format(sum_ar1))"
   ]
  },
  {
   "cell_type": "code",
   "execution_count": 2,
   "metadata": {},
   "outputs": [
    {
     "name": "stdout",
     "output_type": "stream",
     "text": [
      "Sum of numbers = 11\n",
      "mean of numbers = 2.75\n"
     ]
    }
   ],
   "source": [
    "import numpy as np\n",
    "list1 = [1,2,3,5]\n",
    "ar1 = np.array(list1)\n",
    "sum_ar1 = np.sum(ar1)\n",
    "print(\"Sum of numbers = {}\".format(sum_ar1))\n",
    "mean_ar1 = np.mean(ar1)\n",
    "print(\"mean of numbers = {}\".format(mean_ar1))"
   ]
  },
  {
   "cell_type": "code",
   "execution_count": 4,
   "metadata": {},
   "outputs": [
    {
     "name": "stdout",
     "output_type": "stream",
     "text": [
      "Sum of numbers = 10\n",
      "mean of numbers = 2.5\n",
      "Standard deviation of numbers = 1.118033988749895\n"
     ]
    }
   ],
   "source": [
    "import numpy as np\n",
    "list1 = [1,2,3,4]\n",
    "ar1 = np.array(list1)\n",
    "sum_ar1 = np.sum(ar1)\n",
    "print(\"Sum of numbers = {}\".format(sum_ar1))\n",
    "mean_ar1 = np.mean(ar1)\n",
    "print(\"mean of numbers = {}\".format(mean_ar1))\n",
    "std_ar1 = np.std(ar1)\n",
    "print(\"Standard deviation of numbers = {}\".format(std_ar1))\n"
   ]
  },
  {
   "cell_type": "code",
   "execution_count": 5,
   "metadata": {},
   "outputs": [
    {
     "name": "stdout",
     "output_type": "stream",
     "text": [
      "Sum of numbers = 10\n",
      "mean of numbers = 2.5\n",
      "Standard deviation of numbers = 1.118033988749895\n",
      "Max of numbers = 4\n"
     ]
    }
   ],
   "source": [
    "import numpy as np\n",
    "list1 = [1,2,3,4]\n",
    "ar1 = np.array(list1)\n",
    "sum_ar1 = np.sum(ar1)\n",
    "print(\"Sum of numbers = {}\".format(sum_ar1))\n",
    "mean_ar1 = np.mean(ar1)\n",
    "print(\"mean of numbers = {}\".format(mean_ar1))\n",
    "std_ar1 = np.std(ar1)\n",
    "print(\"Standard deviation of numbers = {}\".format(std_ar1))\n",
    "print(\"Max of numbers = {}\".format(np.max(ar1)))\n"
   ]
  },
  {
   "cell_type": "code",
   "execution_count": 6,
   "metadata": {},
   "outputs": [
    {
     "name": "stdout",
     "output_type": "stream",
     "text": [
      "Sum of numbers = 10\n",
      "mean of numbers = 2.5\n",
      "Standard deviation of numbers = 1.118033988749895\n",
      "Max of numbers = 4\n",
      "Min of numbers = 1\n"
     ]
    }
   ],
   "source": [
    "import numpy as np\n",
    "list1 = [1,2,3,4]\n",
    "ar1 = np.array(list1)\n",
    "sum_ar1 = np.sum(ar1)\n",
    "print(\"Sum of numbers = {}\".format(sum_ar1))\n",
    "mean_ar1 = np.mean(ar1)\n",
    "print(\"mean of numbers = {}\".format(mean_ar1))\n",
    "std_ar1 = np.std(ar1)\n",
    "print(\"Standard deviation of numbers = {}\".format(std_ar1))\n",
    "print(\"Max of numbers = {}\".format(np.max(ar1)))\n",
    "print(\"Min of numbers = {}\".format(np.min(ar1)))"
   ]
  },
  {
   "cell_type": "code",
   "execution_count": 7,
   "metadata": {},
   "outputs": [
    {
     "name": "stdout",
     "output_type": "stream",
     "text": [
      "Sum of numbers = 30\n",
      "mean of numbers = 6.0\n",
      "Standard deviation of numbers = 2.8284271247461903\n",
      "Max of numbers = 10\n",
      "Min of numbers = 2\n"
     ]
    }
   ],
   "source": [
    "import numpy as np\n",
    "list1 = [2,4,6,8,10]\n",
    "ar1 = np.array(list1)\n",
    "sum_ar1 = np.sum(ar1)\n",
    "print(\"Sum of numbers = {}\".format(sum_ar1))\n",
    "mean_ar1 = np.mean(ar1)\n",
    "print(\"mean of numbers = {}\".format(mean_ar1))\n",
    "std_ar1 = np.std(ar1)\n",
    "print(\"Standard deviation of numbers = {}\".format(std_ar1))\n",
    "print(\"Max of numbers = {}\".format(np.max(ar1)))\n",
    "print(\"Min of numbers = {}\".format(np.min(ar1)))"
   ]
  },
  {
   "cell_type": "code",
   "execution_count": 12,
   "metadata": {},
   "outputs": [
    {
     "name": "stdout",
     "output_type": "stream",
     "text": [
      "[3 4 5 6]\n",
      "[0 1 2 3]\n",
      "[2 4 6 8]\n",
      "[0.5 1.  1.5 2. ]\n",
      "[ 1  8 27 64]\n"
     ]
    }
   ],
   "source": [
    "import numpy as np\n",
    "a= np.array([1,2,3,4])\n",
    "b=a+2\n",
    "print(b)\n",
    "b = a-1\n",
    "print(b)\n",
    "b=a*2\n",
    "print(b)\n",
    "b=a/2\n",
    "print(b)\n",
    "b=a**3\n",
    "print(b)"
   ]
  },
  {
   "cell_type": "code",
   "execution_count": 13,
   "metadata": {},
   "outputs": [
    {
     "name": "stdout",
     "output_type": "stream",
     "text": [
      "[3 4 5 6]\n",
      "[2 3 4 5]\n",
      "[ 4  6  8 10]\n",
      "[2. 3. 4. 5.]\n",
      "[  8.  27.  64. 125.]\n"
     ]
    }
   ],
   "source": [
    "import numpy as np\n",
    "a= np.array([1,2,3,4])\n",
    "a=a+2\n",
    "print(a)\n",
    "a = a-1\n",
    "print(a)\n",
    "a=a*2\n",
    "print(a)\n",
    "a=a/2\n",
    "print(a)\n",
    "a=a**3\n",
    "print(a)"
   ]
  },
  {
   "cell_type": "code",
   "execution_count": 1,
   "metadata": {},
   "outputs": [
    {
     "name": "stdout",
     "output_type": "stream",
     "text": [
      "[ 4  6  8 10]\n"
     ]
    }
   ],
   "source": [
    "import numpy as np\n",
    "a = np.array([3,4,5,6])\n",
    "b = np.array([1,2,3,4])\n",
    "c=a+b\n",
    "print(c)"
   ]
  },
  {
   "cell_type": "code",
   "execution_count": 2,
   "metadata": {},
   "outputs": [
    {
     "name": "stdout",
     "output_type": "stream",
     "text": [
      "[ 4  6  8 10]\n",
      "[2 2 2 2]\n",
      "[ 3  8 15 24]\n",
      "[3.         2.         1.66666667 1.5       ]\n",
      "[   3   16  125 1296]\n"
     ]
    }
   ],
   "source": [
    "import numpy as np\n",
    "a = np.array([3,4,5,6])\n",
    "b = np.array([1,2,3,4])\n",
    "c=a+b\n",
    "print(c)\n",
    "c=a-b\n",
    "print(c)\n",
    "c=a*b\n",
    "print(c)\n",
    "c=a/b\n",
    "print(c)\n",
    "c=a**b\n",
    "print(c)"
   ]
  },
  {
   "cell_type": "code",
   "execution_count": 3,
   "metadata": {},
   "outputs": [
    {
     "name": "stdout",
     "output_type": "stream",
     "text": [
      "Mean of a=4.5 Standard Deviation of a=1.118033988749895\n"
     ]
    }
   ],
   "source": [
    "import numpy as np\n",
    "a = np.array([3,4,5,6])\n",
    "m1 = np.mean(a)\n",
    "s1=np.std(a)\n",
    "print(\"Mean of a={}\".format(m1),\"Standard Deviation of a={}\".format(s1))"
   ]
  },
  {
   "cell_type": "code",
   "execution_count": 4,
   "metadata": {},
   "outputs": [
    {
     "name": "stdout",
     "output_type": "stream",
     "text": [
      "Mean of a=4.5 Standard Deviation of a=1.118033988749895\n",
      "Mean of b=0.0 Standard Deviation of b=1.118033988749895\n"
     ]
    }
   ],
   "source": [
    "import numpy as np\n",
    "a = np.array([3,4,5,6])\n",
    "m1 = np.mean(a)\n",
    "s1=np.std(a)\n",
    "print(\"Mean of a={}\".format(m1),\"Standard Deviation of a={}\".format(s1))\n",
    "b=a-m1\n",
    "m2=np.mean(b)\n",
    "s2=np.std(b)\n",
    "print(\"Mean of b={}\".format(m2),\"Standard Deviation of b={}\".format(s2))"
   ]
  },
  {
   "cell_type": "code",
   "execution_count": 5,
   "metadata": {},
   "outputs": [
    {
     "name": "stdout",
     "output_type": "stream",
     "text": [
      "Mean of a=4.5 Standard Deviation of a=1.118033988749895\n",
      "Mean of b=0.0 Standard Deviation of b=1.0\n"
     ]
    }
   ],
   "source": [
    "import numpy as np\n",
    "a = np.array([3,4,5,6])\n",
    "m1 = np.mean(a)\n",
    "s1=np.std(a)\n",
    "print(\"Mean of a={}\".format(m1),\"Standard Deviation of a={}\".format(s1))\n",
    "b=(a-m1)/s1\n",
    "m2=np.mean(b)\n",
    "s2=np.std(b)\n",
    "print(\"Mean of b={}\".format(m2),\"Standard Deviation of b={}\".format(s2))"
   ]
  },
  {
   "cell_type": "code",
   "execution_count": 1,
   "metadata": {},
   "outputs": [
    {
     "name": "stdout",
     "output_type": "stream",
     "text": [
      "[False False  True  True]\n"
     ]
    }
   ],
   "source": [
    "import numpy as np \n",
    "a=np.array([3,4,5,6])\n",
    "b=a>4\n",
    "print(b)"
   ]
  },
  {
   "cell_type": "code",
   "execution_count": 2,
   "metadata": {},
   "outputs": [
    {
     "name": "stdout",
     "output_type": "stream",
     "text": [
      "[False  True  True  True]\n"
     ]
    }
   ],
   "source": [
    "import numpy as np \n",
    "a=np.array([3,4,5,6])\n",
    "b=a>=4\n",
    "print(b)"
   ]
  },
  {
   "cell_type": "code",
   "execution_count": 3,
   "metadata": {},
   "outputs": [
    {
     "name": "stdout",
     "output_type": "stream",
     "text": [
      "[ True False False False]\n"
     ]
    }
   ],
   "source": [
    "import numpy as np \n",
    "a=np.array([3,4,5,6])\n",
    "b=a<4\n",
    "print(b)"
   ]
  },
  {
   "cell_type": "code",
   "execution_count": 4,
   "metadata": {},
   "outputs": [
    {
     "name": "stdout",
     "output_type": "stream",
     "text": [
      "[ True  True False False]\n"
     ]
    }
   ],
   "source": [
    "import numpy as np \n",
    "a=np.array([3,4,5,6])\n",
    "b=a<=4\n",
    "print(b)"
   ]
  },
  {
   "cell_type": "code",
   "execution_count": 5,
   "metadata": {},
   "outputs": [
    {
     "name": "stdout",
     "output_type": "stream",
     "text": [
      "[False  True False False]\n"
     ]
    }
   ],
   "source": [
    "import numpy as np \n",
    "a=np.array([3,4,5,6])\n",
    "b=a==4\n",
    "print(b)"
   ]
  },
  {
   "cell_type": "code",
   "execution_count": 13,
   "metadata": {},
   "outputs": [
    {
     "name": "stdout",
     "output_type": "stream",
     "text": [
      "[ True False  True  True]\n"
     ]
    }
   ],
   "source": [
    "import numpy as np \n",
    "a=np.array([3,4,5,6])\n",
    "b=a!=4\n",
    "print(b)"
   ]
  },
  {
   "cell_type": "code",
   "execution_count": 14,
   "metadata": {},
   "outputs": [
    {
     "name": "stdout",
     "output_type": "stream",
     "text": [
      "[ True False False False]\n"
     ]
    }
   ],
   "source": [
    "import numpy as np \n",
    "a=np.array([3,4,5,6])\n",
    "b=np.array([2,4,6,8])\n",
    "c=a>b\n",
    "print(c)"
   ]
  },
  {
   "cell_type": "code",
   "execution_count": 15,
   "metadata": {},
   "outputs": [
    {
     "name": "stdout",
     "output_type": "stream",
     "text": [
      "[ True  True False False]\n"
     ]
    }
   ],
   "source": [
    "import numpy as np \n",
    "a=np.array([3,4,5,6])\n",
    "b=np.array([2,4,6,8])\n",
    "c=a>=b\n",
    "print(c)\n"
   ]
  },
  {
   "cell_type": "code",
   "execution_count": 16,
   "metadata": {},
   "outputs": [
    {
     "name": "stdout",
     "output_type": "stream",
     "text": [
      "[False False  True  True]\n"
     ]
    }
   ],
   "source": [
    "import numpy as np \n",
    "a=np.array([3,4,5,6])\n",
    "b=np.array([2,4,6,8])\n",
    "c=a<b\n",
    "print(c)"
   ]
  },
  {
   "cell_type": "code",
   "execution_count": 17,
   "metadata": {},
   "outputs": [
    {
     "name": "stdout",
     "output_type": "stream",
     "text": [
      "[False  True  True  True]\n"
     ]
    }
   ],
   "source": [
    "import numpy as np \n",
    "a=np.array([3,4,5,6])\n",
    "b=np.array([2,4,6,8])\n",
    "c=a<=b\n",
    "print(c)"
   ]
  },
  {
   "cell_type": "code",
   "execution_count": 18,
   "metadata": {},
   "outputs": [
    {
     "name": "stdout",
     "output_type": "stream",
     "text": [
      "[False  True False False]\n"
     ]
    }
   ],
   "source": [
    "import numpy as np \n",
    "a=np.array([3,4,5,6])\n",
    "b=np.array([2,4,6,8])\n",
    "c=a==b\n",
    "print(c)"
   ]
  },
  {
   "cell_type": "code",
   "execution_count": 19,
   "metadata": {},
   "outputs": [
    {
     "name": "stdout",
     "output_type": "stream",
     "text": [
      "[ True False  True  True]\n"
     ]
    }
   ],
   "source": [
    "import numpy as np \n",
    "a=np.array([3,4,5,6])\n",
    "b=np.array([2,4,6,8])\n",
    "c=a!=b\n",
    "print(c)"
   ]
  },
  {
   "cell_type": "code",
   "execution_count": 21,
   "metadata": {},
   "outputs": [
    {
     "name": "stdout",
     "output_type": "stream",
     "text": [
      "[ True False  True False]\n"
     ]
    }
   ],
   "source": [
    "import numpy as np \n",
    "a = np.array([10,6,12,4])\n",
    "b=a>8\n",
    "print(b)"
   ]
  },
  {
   "cell_type": "code",
   "execution_count": 22,
   "metadata": {},
   "outputs": [
    {
     "name": "stdout",
     "output_type": "stream",
     "text": [
      "[ True False  True False]\n",
      "[10 12]\n"
     ]
    }
   ],
   "source": [
    "import numpy as np \n",
    "a = np.array([10,6,12,4])\n",
    "b=a>8\n",
    "print(b)\n",
    "c=a[b]\n",
    "print(c)"
   ]
  },
  {
   "cell_type": "code",
   "execution_count": 23,
   "metadata": {},
   "outputs": [
    {
     "name": "stdout",
     "output_type": "stream",
     "text": [
      "[10  4]\n"
     ]
    }
   ],
   "source": [
    "import numpy as np \n",
    "a = np.array([10,6,12,4])\n",
    "b = np.array([True,False,False,True])\n",
    "c=a[b]\n",
    "print(c)"
   ]
  },
  {
   "cell_type": "code",
   "execution_count": 24,
   "metadata": {},
   "outputs": [
    {
     "name": "stdout",
     "output_type": "stream",
     "text": [
      "[10 12]\n"
     ]
    }
   ],
   "source": [
    "import numpy as np \n",
    "a = np.array([10,6,12,4])\n",
    "c=a[a>8]\n",
    "print(c)"
   ]
  },
  {
   "cell_type": "code",
   "execution_count": 25,
   "metadata": {},
   "outputs": [
    {
     "name": "stdout",
     "output_type": "stream",
     "text": [
      "[12]\n"
     ]
    }
   ],
   "source": [
    "import numpy as np \n",
    "a = np.array([10,6,12,4])\n",
    "c=a[a>10]\n",
    "print(c)"
   ]
  },
  {
   "cell_type": "code",
   "execution_count": 26,
   "metadata": {},
   "outputs": [
    {
     "name": "stdout",
     "output_type": "stream",
     "text": [
      "[]\n"
     ]
    }
   ],
   "source": [
    "import numpy as np \n",
    "a = np.array([10,6,12,4])\n",
    "c=a[a>15]\n",
    "print(c)"
   ]
  },
  {
   "cell_type": "code",
   "execution_count": 27,
   "metadata": {},
   "outputs": [
    {
     "name": "stdout",
     "output_type": "stream",
     "text": [
      "[10  6 12  4]\n"
     ]
    }
   ],
   "source": [
    "import numpy as np \n",
    "a = np.array([10,6,12,4])\n",
    "c=a[a>1]\n",
    "print(c)"
   ]
  },
  {
   "cell_type": "code",
   "execution_count": 28,
   "metadata": {},
   "outputs": [
    {
     "name": "stdout",
     "output_type": "stream",
     "text": [
      "[10  6  4]\n",
      "Number of elements less than 11 = 3\n"
     ]
    }
   ],
   "source": [
    "import numpy as np \n",
    "a = np.array([10,6,12,4])\n",
    "c=a[a<11]\n",
    "print(c)\n",
    "print(\"Number of elements less than 11 = {}\".format(len(c)))"
   ]
  },
  {
   "cell_type": "code",
   "execution_count": 2,
   "metadata": {},
   "outputs": [
    {
     "name": "stdout",
     "output_type": "stream",
     "text": [
      "a=[1 2 3 4 5 6 7],b=[1 2 3 4 5 6 7]\n"
     ]
    }
   ],
   "source": [
    "import numpy as np\n",
    "a=np.array([1,2,3,4,5,6,7])\n",
    "b=a\n",
    "print(\"a={},b={}\".format(a,b))"
   ]
  },
  {
   "cell_type": "code",
   "execution_count": 3,
   "metadata": {},
   "outputs": [
    {
     "name": "stdout",
     "output_type": "stream",
     "text": [
      "a=[1 2 3 4 5 6 7],b=[1 2 3 4 5 6 7]\n",
      "a=[8 2 3 4 5 6 7],b=[8 2 3 4 5 6 7]\n"
     ]
    }
   ],
   "source": [
    "import numpy as np\n",
    "a=np.array([1,2,3,4,5,6,7])\n",
    "b=a\n",
    "print(\"a={},b={}\".format(a,b))\n",
    "b[0] = 8\n",
    "print(\"a={},b={}\".format(a,b))"
   ]
  },
  {
   "cell_type": "code",
   "execution_count": 4,
   "metadata": {},
   "outputs": [
    {
     "name": "stdout",
     "output_type": "stream",
     "text": [
      "a=[1 2 3 4 5 6 7],b=[1 2 3 4 5 6 7]\n",
      "a=[1 2 3 4 5 6 7],b=[1 2 3 4 5 6 7]\n",
      "a=[1 2 3 4 5 6 7],b=[8 2 3 4 5 6 7]\n"
     ]
    }
   ],
   "source": [
    "import numpy as np\n",
    "a=np.array([1,2,3,4,5,6,7])\n",
    "b=a\n",
    "print(\"a={},b={}\".format(a,b))\n",
    "b=np.copy(a)\n",
    "print(\"a={},b={}\".format(a,b))\n",
    "b[0] = 8\n",
    "print(\"a={},b={}\".format(a,b))"
   ]
  },
  {
   "cell_type": "code",
   "execution_count": 5,
   "metadata": {},
   "outputs": [
    {
     "name": "stdout",
     "output_type": "stream",
     "text": [
      "[ True  True False  True]\n"
     ]
    }
   ],
   "source": [
    "import numpy as np\n",
    "a1 = np.array([True,False,False,True])\n",
    "b1= np.array([True,True,False,False])\n",
    "c1=a1|b1\n",
    "print (c1)"
   ]
  },
  {
   "cell_type": "code",
   "execution_count": 6,
   "metadata": {},
   "outputs": [
    {
     "name": "stdout",
     "output_type": "stream",
     "text": [
      "[ True False False False]\n"
     ]
    }
   ],
   "source": [
    "import numpy as np\n",
    "a1 = np.array([True,False,False,True])\n",
    "b1= np.array([True,True,False,False])\n",
    "c1=a1 & b1\n",
    "print (c1)"
   ]
  },
  {
   "cell_type": "code",
   "execution_count": 7,
   "metadata": {},
   "outputs": [
    {
     "name": "stdout",
     "output_type": "stream",
     "text": [
      "[ True  True False  True]\n",
      "[ True False  True False]\n",
      "[ True False False False]\n",
      "[10]\n"
     ]
    }
   ],
   "source": [
    "import numpy as np\n",
    "a1 = np.array([10,15,8,11])\n",
    "b1 = np.array([14,7,10,8])\n",
    "c1 = a1 >= 10\n",
    "d1 = b1>=10\n",
    "print(c1)\n",
    "print(d1)\n",
    "e1=c1&d1\n",
    "print(e1)\n",
    "f1=a1[e1]\n",
    "print(f1)"
   ]
  },
  {
   "cell_type": "code",
   "execution_count": 8,
   "metadata": {},
   "outputs": [
    {
     "name": "stdout",
     "output_type": "stream",
     "text": [
      "[ True  True False  True]\n",
      "[ True False  True False]\n",
      "[ True False False False]\n",
      "Both values are greater than or equal to 10 for =1 numbers\n"
     ]
    }
   ],
   "source": [
    "import numpy as np\n",
    "a1 = np.array([10,15,8,11])\n",
    "b1 = np.array([14,7,10,8])\n",
    "c1 = a1 >= 10\n",
    "d1 = b1>=10\n",
    "print(c1)\n",
    "print(d1)\n",
    "e1=c1&d1\n",
    "print(e1)\n",
    "f1=a1[e1]\n",
    "print(\"Both values are greater than or equal to 10 for ={} numbers\".format(len(f1)))"
   ]
  },
  {
   "cell_type": "code",
   "execution_count": 1,
   "metadata": {},
   "outputs": [
    {
     "name": "stdout",
     "output_type": "stream",
     "text": [
      "[ True  True False  True]\n",
      "[ True  True  True False]\n",
      "[ True  True False False]\n",
      "Both values are greater than or equal to 10 for =2 numbers\n"
     ]
    }
   ],
   "source": [
    "import numpy as np\n",
    "a1 = np.array([10,15,8,11])\n",
    "b1 = np.array([14,87,10,8])\n",
    "c1 = a1 >= 10\n",
    "d1 = b1>=10\n",
    "print(c1)\n",
    "print(d1)\n",
    "e1=c1&d1\n",
    "print(e1)\n",
    "f1=a1[e1]\n",
    "print(\"Both values are greater than or equal to 10 for ={} numbers\".format(len(f1)))"
   ]
  },
  {
   "cell_type": "code",
   "execution_count": 13,
   "metadata": {},
   "outputs": [
    {
     "name": "stdout",
     "output_type": "stream",
     "text": [
      "[ True  True  True  True]\n",
      "[ True  True  True False]\n",
      "[ True  True  True False]\n",
      "Both values are greater than or equal to 10 for =3 numbers\n"
     ]
    }
   ],
   "source": [
    "import numpy as np\n",
    "a1 = np.array([10,15,18,11])\n",
    "b1 = np.array([14,87,10,8])\n",
    "c1 = a1 >= 10\n",
    "d1 = b1>=10\n",
    "print(c1)\n",
    "print(d1)\n",
    "e1=c1&d1\n",
    "print(e1)\n",
    "f1=a1[e1]\n",
    "print(\"Both values are greater than or equal to 10 for ={} numbers\".format(len(f1)))"
   ]
  },
  {
   "cell_type": "code",
   "execution_count": 2,
   "metadata": {},
   "outputs": [
    {
     "name": "stdout",
     "output_type": "stream",
     "text": [
      "[2 3 4]\n"
     ]
    }
   ],
   "source": [
    "import numpy as np\n",
    "a=np.array([1,2,3,4,5,6,7])\n",
    "b=a[1:4]\n",
    "print(b)\n"
   ]
  },
  {
   "cell_type": "code",
   "execution_count": 3,
   "metadata": {},
   "outputs": [
    {
     "name": "stdout",
     "output_type": "stream",
     "text": [
      "[2 3 4 5 6 7]\n"
     ]
    }
   ],
   "source": [
    "import numpy as np\n",
    "a=np.array([1,2,3,4,5,6,7])\n",
    "b=a[1:]\n",
    "print(b)"
   ]
  },
  {
   "cell_type": "code",
   "execution_count": 4,
   "metadata": {},
   "outputs": [
    {
     "name": "stdout",
     "output_type": "stream",
     "text": [
      "[1 2 3 4]\n"
     ]
    }
   ],
   "source": [
    "import numpy as np\n",
    "a=np.array([1,2,3,4,5,6,7])\n",
    "b=a[:4]\n",
    "print(b)"
   ]
  },
  {
   "cell_type": "code",
   "execution_count": 6,
   "metadata": {},
   "outputs": [
    {
     "name": "stdout",
     "output_type": "stream",
     "text": [
      "[1 2 3 4]\n",
      "a=[8 2 3 4 5 6 7],b=[8 2 3 4]\n"
     ]
    }
   ],
   "source": [
    "import numpy as np\n",
    "a=np.array([1,2,3,4,5,6,7])\n",
    "b=a[:4]\n",
    "print(b)\n",
    "b[0]=8\n",
    "print(\"a={},b={}\".format(a,b))"
   ]
  },
  {
   "cell_type": "code",
   "execution_count": 7,
   "metadata": {},
   "outputs": [
    {
     "name": "stdout",
     "output_type": "stream",
     "text": [
      "[3 4]\n",
      "a=[1 2 8 4 5 6 7],b=[8 4]\n"
     ]
    }
   ],
   "source": [
    "import numpy as np\n",
    "a=np.array([1,2,3,4,5,6,7])\n",
    "b=a[2:4]\n",
    "print(b)\n",
    "b[0]=8\n",
    "print(\"a={},b={}\".format(a,b))"
   ]
  },
  {
   "cell_type": "code",
   "execution_count": 8,
   "metadata": {},
   "outputs": [
    {
     "name": "stdout",
     "output_type": "stream",
     "text": [
      "[3 4]\n",
      "a=[1 2 3 4 5 6 7],b=[3 4],c=[3 4]\n",
      "a=[1 2 3 4 5 6 7],b=[3 4],c=[8 4]\n"
     ]
    }
   ],
   "source": [
    "import numpy as np\n",
    "a=np.array([1,2,3,4,5,6,7])\n",
    "b=a[2:4]\n",
    "print(b)\n",
    "c=np.copy(b)\n",
    "print(\"a={},b={},c={}\".format(a,b,c))\n",
    "c[0]=8\n",
    "print(\"a={},b={},c={}\".format(a,b,c))"
   ]
  },
  {
   "cell_type": "code",
   "execution_count": 1,
   "metadata": {},
   "outputs": [
    {
     "name": "stdout",
     "output_type": "stream",
     "text": [
      "[OrderedDict([('Day', '1'), ('XYZ', '80'), ('ABC', '67'), ('GHI', '85')]), OrderedDict([('Day', '2'), ('XYZ', '87'), ('ABC', '71'), ('GHI', '87')]), OrderedDict([('Day', '3'), ('XYZ', '79'), ('ABC', '69'), ('GHI', '82')]), OrderedDict([('Day', '4'), ('XYZ', '79'), ('ABC', '70'), ('GHI', '84')]), OrderedDict([('Day', '5'), ('XYZ', '75'), ('ABC', '63'), ('GHI', '80')]), OrderedDict([('Day', '6'), ('XYZ', '78'), ('ABC', '72'), ('GHI', '80')]), OrderedDict([('Day', '7'), ('XYZ', '69'), ('ABC', '54'), ('GHI', '80')]), OrderedDict([('Day', '8'), ('XYZ', '69'), ('ABC', '70'), ('GHI', '81')]), OrderedDict([('Day', '9'), ('XYZ', '69'), ('ABC', '64'), ('GHI', '76')]), OrderedDict([('Day', '10'), ('XYZ', '75'), ('ABC', '71'), ('GHI', '77')]), OrderedDict([('Day', '11'), ('XYZ', '71'), ('ABC', '58'), ('GHI', '76')]), OrderedDict([('Day', '12'), ('XYZ', '74'), ('ABC', '58'), ('GHI', '76')]), OrderedDict([('Day', '13'), ('XYZ', '67'), ('ABC', '43'), ('GHI', '73')]), OrderedDict([('Day', '14'), ('XYZ', '76'), ('ABC', '57'), ('GHI', '76')]), OrderedDict([('Day', '15'), ('XYZ', '72'), ('ABC', '40'), ('GHI', '72')]), OrderedDict([('Day', '16'), ('XYZ', '72'), ('ABC', '53'), ('GHI', '75')]), OrderedDict([('Day', '17'), ('XYZ', '69'), ('ABC', '39'), ('GHI', '69')]), OrderedDict([('Day', '18'), ('XYZ', '78'), ('ABC', '53'), ('GHI', '73')]), OrderedDict([('Day', '19'), ('XYZ', '70'), ('ABC', '45'), ('GHI', '67')]), OrderedDict([('Day', '20'), ('XYZ', '72'), ('ABC', '60'), ('GHI', '67')]), OrderedDict([('Day', '21'), ('XYZ', '63'), ('ABC', '60'), ('GHI', '62')]), OrderedDict([('Day', '22'), ('XYZ', '65'), ('ABC', '61'), ('GHI', '63')]), OrderedDict([('Day', '23'), ('XYZ', '64'), ('ABC', '56'), ('GHI', '59')]), OrderedDict([('Day', '24'), ('XYZ', '73'), ('ABC', '74'), ('GHI', '63')]), OrderedDict([('Day', '25'), ('XYZ', '66'), ('ABC', '62'), ('GHI', '58')]), OrderedDict([('Day', '26'), ('XYZ', '73'), ('ABC', '79'), ('GHI', '60')]), OrderedDict([('Day', '27'), ('XYZ', '71'), ('ABC', '75'), ('GHI', '60')]), OrderedDict([('Day', '28'), ('XYZ', '72'), ('ABC', '92'), ('GHI', '64')]), OrderedDict([('Day', '29'), ('XYZ', '67'), ('ABC', '85'), ('GHI', '64')]), OrderedDict([('Day', '30'), ('XYZ', '68'), ('ABC', '88'), ('GHI', '61')])]\n"
     ]
    }
   ],
   "source": [
    "import unicodecsv\n",
    "def read_csv(filename):\n",
    "    with open(filename,'rb') as f:\n",
    "        reader = unicodecsv.DictReader(f)\n",
    "        return list(reader)\n",
    "fname='F:/DataScience/3 Handling CSV Files/1 edufect.csv'\n",
    "salesdata=read_csv(fname)\n",
    "print(salesdata)"
   ]
  },
  {
   "cell_type": "code",
   "execution_count": 1,
   "metadata": {},
   "outputs": [
    {
     "name": "stdout",
     "output_type": "stream",
     "text": [
      "[OrderedDict([('Day', 1), ('XYZ', 80), ('ABC', 67), ('GHI', 85)]), OrderedDict([('Day', 2), ('XYZ', 87), ('ABC', 71), ('GHI', 87)]), OrderedDict([('Day', 3), ('XYZ', 79), ('ABC', 69), ('GHI', 82)]), OrderedDict([('Day', 4), ('XYZ', 79), ('ABC', 70), ('GHI', 84)]), OrderedDict([('Day', 5), ('XYZ', 75), ('ABC', 63), ('GHI', 80)]), OrderedDict([('Day', 6), ('XYZ', 78), ('ABC', 72), ('GHI', 80)]), OrderedDict([('Day', 7), ('XYZ', 69), ('ABC', 54), ('GHI', 80)]), OrderedDict([('Day', 8), ('XYZ', 69), ('ABC', 70), ('GHI', 81)]), OrderedDict([('Day', 9), ('XYZ', 69), ('ABC', 64), ('GHI', 76)]), OrderedDict([('Day', 10), ('XYZ', 75), ('ABC', 71), ('GHI', 77)]), OrderedDict([('Day', 11), ('XYZ', 71), ('ABC', 58), ('GHI', 76)]), OrderedDict([('Day', 12), ('XYZ', 74), ('ABC', 58), ('GHI', 76)]), OrderedDict([('Day', 13), ('XYZ', 67), ('ABC', 43), ('GHI', 73)]), OrderedDict([('Day', 14), ('XYZ', 76), ('ABC', 57), ('GHI', 76)]), OrderedDict([('Day', 15), ('XYZ', 72), ('ABC', 40), ('GHI', 72)]), OrderedDict([('Day', 16), ('XYZ', 72), ('ABC', 53), ('GHI', 75)]), OrderedDict([('Day', 17), ('XYZ', 69), ('ABC', 39), ('GHI', 69)]), OrderedDict([('Day', 18), ('XYZ', 78), ('ABC', 53), ('GHI', 73)]), OrderedDict([('Day', 19), ('XYZ', 70), ('ABC', 45), ('GHI', 67)]), OrderedDict([('Day', 20), ('XYZ', 72), ('ABC', 60), ('GHI', 67)]), OrderedDict([('Day', 21), ('XYZ', 63), ('ABC', 60), ('GHI', 62)]), OrderedDict([('Day', 22), ('XYZ', 65), ('ABC', 61), ('GHI', 63)]), OrderedDict([('Day', 23), ('XYZ', 64), ('ABC', 56), ('GHI', 59)]), OrderedDict([('Day', 24), ('XYZ', 73), ('ABC', 74), ('GHI', 63)]), OrderedDict([('Day', 25), ('XYZ', 66), ('ABC', 62), ('GHI', 58)]), OrderedDict([('Day', 26), ('XYZ', 73), ('ABC', 79), ('GHI', 60)]), OrderedDict([('Day', 27), ('XYZ', 71), ('ABC', 75), ('GHI', 60)]), OrderedDict([('Day', 28), ('XYZ', 72), ('ABC', 92), ('GHI', 64)]), OrderedDict([('Day', 29), ('XYZ', 67), ('ABC', 85), ('GHI', 64)]), OrderedDict([('Day', 30), ('XYZ', 68), ('ABC', 88), ('GHI', 61)])]\n"
     ]
    }
   ],
   "source": [
    "import unicodecsv\n",
    "def read_csv(filename):\n",
    "    with open(filename,'rb') as f:\n",
    "        reader = unicodecsv.DictReader(f)\n",
    "        return list(reader)\n",
    "fname='F:/DataScience/3 Handling CSV Files/1 edufect.csv'\n",
    "salesdata=read_csv(fname)\n",
    "\n",
    "for data in salesdata:\n",
    "    data['Day'] = int(data['Day'])\n",
    "    data['XYZ'] = int(data['XYZ'])\n",
    "    data['ABC'] = int(data['ABC'])\n",
    "    data['GHI'] = int(data['GHI'])\n",
    "print(salesdata)"
   ]
  },
  {
   "cell_type": "code",
   "execution_count": 2,
   "metadata": {},
   "outputs": [
    {
     "name": "stdout",
     "output_type": "stream",
     "text": [
      "{'1': '80', '2': '87', '3': '79', '4': '79', '5': '75', '6': '78', '7': '69', '8': '69', '9': '69', '10': '75', '11': '71', '12': '74', '13': '67', '14': '76', '15': '72', '16': '72', '17': '69', '18': '78', '19': '70', '20': '72', '21': '63', '22': '65', '23': '64', '24': '73', '25': '66', '26': '73', '27': '71', '28': '72', '29': '67', '30': '68'}\n"
     ]
    }
   ],
   "source": [
    "import unicodecsv\n",
    "def read_csv(filename):\n",
    "    with open(filename,'rb') as f:\n",
    "        reader = unicodecsv.DictReader(f)\n",
    "        return list(reader)\n",
    "fname='F:/DataScience/3 Handling CSV Files/1 edufect.csv'\n",
    "salesdata=read_csv(fname)\n",
    "\n",
    "prodWiseSales = dict()\n",
    "prodWiseSales['XYZ'] = dict()\n",
    "prodWiseSales['ABC'] = dict()\n",
    "prodWiseSales['GHI'] = dict()\n",
    "\n",
    "for data in salesdata:\n",
    "    dayno = data['Day']\n",
    "    prodWiseSales['XYZ'][dayno]=data['XYZ']\n",
    "    prodWiseSales['ABC'][dayno]=data['ABC']\n",
    "    prodWiseSales['GHI'][dayno]=data['GHI']\n",
    "    \n",
    "print(prodWiseSales['XYZ'])"
   ]
  },
  {
   "cell_type": "code",
   "execution_count": 3,
   "metadata": {},
   "outputs": [
    {
     "name": "stdout",
     "output_type": "stream",
     "text": [
      "{'1': '80', '2': '87', '3': '79', '4': '79', '5': '75', '6': '78', '7': '69', '8': '69', '9': '69', '10': '75', '11': '71', '12': '74', '13': '67', '14': '76', '15': '72', '16': '72', '17': '69', '18': '78', '19': '70', '20': '72', '21': '63', '22': '65', '23': '64', '24': '73', '25': '66', '26': '73', '27': '71', '28': '72', '29': '67', '30': '68'}\n"
     ]
    }
   ],
   "source": [
    "prodWiseSales = dict()\n",
    "prodWiseSales['XYZ'] = dict()\n",
    "prodWiseSales['ABC'] = dict()\n",
    "prodWiseSales['GHI'] = dict()\n",
    "\n",
    "for data in salesdata:\n",
    "    dayno = data['Day']\n",
    "    prodWiseSales['XYZ'][dayno]=data['XYZ']\n",
    "    prodWiseSales['ABC'][dayno]=data['ABC']\n",
    "    prodWiseSales['GHI'][dayno]=data['GHI']\n",
    "    \n",
    "print(prodWiseSales['XYZ'])"
   ]
  },
  {
   "cell_type": "code",
   "execution_count": 4,
   "metadata": {},
   "outputs": [
    {
     "name": "stdout",
     "output_type": "stream",
     "text": [
      "{'XYZ': {'1': '80', '2': '87', '3': '79', '4': '79', '5': '75', '6': '78', '7': '69', '8': '69', '9': '69', '10': '75', '11': '71', '12': '74', '13': '67', '14': '76', '15': '72', '16': '72', '17': '69', '18': '78', '19': '70', '20': '72', '21': '63', '22': '65', '23': '64', '24': '73', '25': '66', '26': '73', '27': '71', '28': '72', '29': '67', '30': '68'}, 'ABC': {'1': '67', '2': '71', '3': '69', '4': '70', '5': '63', '6': '72', '7': '54', '8': '70', '9': '64', '10': '71', '11': '58', '12': '58', '13': '43', '14': '57', '15': '40', '16': '53', '17': '39', '18': '53', '19': '45', '20': '60', '21': '60', '22': '61', '23': '56', '24': '74', '25': '62', '26': '79', '27': '75', '28': '92', '29': '85', '30': '88'}, 'GHI': {'1': '85', '2': '87', '3': '82', '4': '84', '5': '80', '6': '80', '7': '80', '8': '81', '9': '76', '10': '77', '11': '76', '12': '76', '13': '73', '14': '76', '15': '72', '16': '75', '17': '69', '18': '73', '19': '67', '20': '67', '21': '62', '22': '63', '23': '59', '24': '63', '25': '58', '26': '60', '27': '60', '28': '64', '29': '64', '30': '61'}}\n"
     ]
    }
   ],
   "source": [
    "prodWiseSales = dict()\n",
    "prodWiseSales['XYZ'] = dict()\n",
    "prodWiseSales['ABC'] = dict()\n",
    "prodWiseSales['GHI'] = dict()\n",
    "\n",
    "for data in salesdata:\n",
    "    dayno = data['Day']\n",
    "    prodWiseSales['XYZ'][dayno]=data['XYZ']\n",
    "    prodWiseSales['ABC'][dayno]=data['ABC']\n",
    "    prodWiseSales['GHI'][dayno]=data['GHI']\n",
    "    \n",
    "print(prodWiseSales)"
   ]
  },
  {
   "cell_type": "code",
   "execution_count": 5,
   "metadata": {},
   "outputs": [
    {
     "name": "stdout",
     "output_type": "stream",
     "text": [
      "a={'1': '80', '2': '87', '3': '79', '4': '79', '5': '75', '6': '78', '7': '69', '8': '69', '9': '69', '10': '75', '11': '71', '12': '74', '13': '67', '14': '76', '15': '72', '16': '72', '17': '69', '18': '78', '19': '70', '20': '72', '21': '63', '22': '65', '23': '64', '24': '73', '25': '66', '26': '73', '27': '71', '28': '72', '29': '67', '30': '68'},b={'1': '67', '2': '71', '3': '69', '4': '70', '5': '63', '6': '72', '7': '54', '8': '70', '9': '64', '10': '71', '11': '58', '12': '58', '13': '43', '14': '57', '15': '40', '16': '53', '17': '39', '18': '53', '19': '45', '20': '60', '21': '60', '22': '61', '23': '56', '24': '74', '25': '62', '26': '79', '27': '75', '28': '92', '29': '85', '30': '88'}\n"
     ]
    }
   ],
   "source": [
    "prodWiseSales = dict()\n",
    "prodWiseSales['XYZ'] = dict()\n",
    "prodWiseSales['ABC'] = dict()\n",
    "prodWiseSales['GHI'] = dict()\n",
    "\n",
    "for data in salesdata:\n",
    "    dayno = data['Day']\n",
    "    prodWiseSales['XYZ'][dayno]=data['XYZ']\n",
    "    prodWiseSales['ABC'][dayno]=data['ABC']\n",
    "    prodWiseSales['GHI'][dayno]=data['GHI']\n",
    "\n",
    "print(\"a={},b={}\".format(prodWiseSales['XYZ'],prodWiseSales['ABC']))"
   ]
  },
  {
   "cell_type": "code",
   "execution_count": 4,
   "metadata": {},
   "outputs": [
    {
     "name": "stdout",
     "output_type": "stream",
     "text": [
      "Sales details for XYZ,mean=72.1,max=87,min=63\n"
     ]
    }
   ],
   "source": [
    "import unicodecsv\n",
    "def read_csv(filename):\n",
    "    with open(filename,'rb') as f:\n",
    "        reader = unicodecsv.DictReader(f)\n",
    "        return list(reader)\n",
    "fname='F:/DataScience/3 Handling CSV Files/1 edufect.csv'\n",
    "salesdata=read_csv(fname)\n",
    "\n",
    "prodWiseSales = dict()\n",
    "prodWiseSales['XYZ'] = dict()\n",
    "prodWiseSales['ABC'] = dict()\n",
    "prodWiseSales['GHI'] = dict()\n",
    "\n",
    "for data in salesdata:\n",
    "    dayno = int(data['Day'])\n",
    "    prodWiseSales['XYZ'][dayno]=int(data['XYZ'])\n",
    "    prodWiseSales['ABC'][dayno]=int(data['ABC'])\n",
    "    prodWiseSales['GHI'][dayno]=int(data['GHI'])\n",
    "\n",
    "import numpy as np\n",
    "def sales_details(sales,prodname):\n",
    "    mean1 = np.mean(sales)\n",
    "    max1 = np.max(sales)\n",
    "    min1 = np.min(sales)\n",
    "    print(\"Sales details for {},mean={},max={},min={}\".format(prodname,mean1,max1,min1))\n",
    "    \n",
    "salesXYZ = list(prodWiseSales['XYZ'].values())\n",
    "salesXYZ_arr = np.array(salesXYZ)\n",
    "sales_details(salesXYZ_arr,'XYZ')"
   ]
  },
  {
   "cell_type": "code",
   "execution_count": 5,
   "metadata": {},
   "outputs": [
    {
     "name": "stdout",
     "output_type": "stream",
     "text": [
      "Sales details for XYZ, mean= 72.1,max= 87,min=63\n",
      "Sales details for ABC, mean= 63.63333333333333,max= 92,min=39\n"
     ]
    }
   ],
   "source": [
    "import unicodecsv\n",
    "def read_csv(filename):\n",
    "    with open(filename,'rb') as f:\n",
    "        reader = unicodecsv.DictReader(f)\n",
    "        return list(reader)\n",
    "fname='F:/DataScience/3 Handling CSV Files/1 edufect.csv'\n",
    "salesdata=read_csv(fname)\n",
    "\n",
    "prodWiseSales = dict()\n",
    "prodWiseSales['XYZ'] = dict()\n",
    "prodWiseSales['ABC'] = dict()\n",
    "prodWiseSales['GHI'] = dict()\n",
    "\n",
    "for data in salesdata:\n",
    "    dayno = int(data['Day'])\n",
    "    prodWiseSales['XYZ'][dayno]=int(data['XYZ'])\n",
    "    prodWiseSales['ABC'][dayno]=int(data['ABC'])\n",
    "    prodWiseSales['GHI'][dayno]=int(data['GHI'])\n",
    "    \n",
    "import numpy as np\n",
    "def sales_details(sales,prodname):\n",
    "    mean1 = np.mean(sales)\n",
    "    max1 = np.max(sales)\n",
    "    min1 = np.min(sales)\n",
    "    print(\"Sales details for {}, mean= {},max= {},min={}\".format(prodname,mean1,max1,min1))\n",
    "    \n",
    "salesXYZ = list(prodWiseSales['XYZ'].values())\n",
    "salesXYZ_arr = np.array(salesXYZ)\n",
    "sales_details(salesXYZ_arr,'XYZ')\n",
    "    \n",
    "salesABC = list(prodWiseSales['ABC'].values())\n",
    "salesABC_arr = np.array(salesABC)\n",
    "sales_details(salesABC_arr,'ABC')"
   ]
  },
  {
   "cell_type": "code",
   "execution_count": 9,
   "metadata": {},
   "outputs": [
    {
     "name": "stdout",
     "output_type": "stream",
     "text": [
      "Sales details for XYZ, mean= 72.1,max= 87,min=63\n",
      "Sales details for ABC, mean= 63.63333333333333,max= 92,min=39\n",
      "Sales details for XYZ, mean= 15.5,max= 30,min=1\n",
      "Sales details for ABC, mean= 15.5,max= 30,min=1\n",
      "Sales details for GHI, mean= 15.5,max= 30,min=1\n"
     ]
    }
   ],
   "source": [
    "import unicodecsv\n",
    "def read_csv(filename):\n",
    "    with open(filename,'rb') as f:\n",
    "        reader = unicodecsv.DictReader(f)\n",
    "        return list(reader)\n",
    "fname='F:/DataScience/3 Handling CSV Files/1 edufect.csv'\n",
    "salesdata=read_csv(fname)\n",
    "\n",
    "prodWiseSales = dict()\n",
    "prodWiseSales['XYZ'] = dict()\n",
    "prodWiseSales['ABC'] = dict()\n",
    "prodWiseSales['GHI'] = dict()\n",
    "\n",
    "for data in salesdata:\n",
    "    dayno = int(data['Day'])\n",
    "    prodWiseSales['XYZ'][dayno]=int(data['XYZ'])\n",
    "    prodWiseSales['ABC'][dayno]=int(data['ABC'])\n",
    "    prodWiseSales['GHI'][dayno]=int(data['GHI'])\n",
    "\n",
    "import numpy as np\n",
    "def sales_details(sales,prodname):\n",
    "    mean1 = np.mean(sales)\n",
    "    max1 = np.max(sales)\n",
    "    min1 = np.min(sales)\n",
    "    print(\"Sales details for {}, mean= {},max= {},min={}\".format(prodname,mean1,max1,min1))\n",
    "    \n",
    "salesXYZ = list(prodWiseSales['XYZ'].values())\n",
    "salesXYZ_arr = np.array(salesXYZ)\n",
    "sales_details(salesXYZ_arr,'XYZ')\n",
    "    \n",
    "salesABC = list(prodWiseSales['ABC'].values())\n",
    "salesABC_arr = np.array(salesABC)\n",
    "sales_details(salesABC_arr,'ABC')\n",
    "\n",
    "prods = list(prodWiseSales.keys())\n",
    "for prod in prods :\n",
    "    salesProd = list(prodWiseSales[prod])\n",
    "    sales_arr = np.array(salesProd)\n",
    "    sales_details(sales_arr,prod)"
   ]
  },
  {
   "cell_type": "code",
   "execution_count": 6,
   "metadata": {},
   "outputs": [
    {
     "name": "stdout",
     "output_type": "stream",
     "text": [
      "Sales details for XYZ, mean= 72.1,max= 87,min=63\n",
      "Sales details for ABC, mean= 63.63333333333333,max= 92,min=39\n",
      "Sales details for XYZ, mean= 72.1,max= 87,min=63\n",
      "Sales details for ABC, mean= 63.63333333333333,max= 92,min=39\n",
      "Sales details for GHI, mean= 71.66666666666667,max= 87,min=58\n"
     ]
    }
   ],
   "source": [
    "import unicodecsv\n",
    "def read_csv(filename):\n",
    "    with open(filename,'rb') as f:\n",
    "        reader = unicodecsv.DictReader(f)\n",
    "        return list(reader)\n",
    "fname='F:/DataScience/3 Handling CSV Files/1 edufect.csv'\n",
    "salesdata=read_csv(fname)\n",
    "\n",
    "prodWiseSales = dict()\n",
    "prodWiseSales['XYZ'] = dict()\n",
    "prodWiseSales['ABC'] = dict()\n",
    "prodWiseSales['GHI'] = dict()\n",
    "\n",
    "for data in salesdata:\n",
    "    dayno = int(data['Day'])\n",
    "    prodWiseSales['XYZ'][dayno]=int(data['XYZ'])\n",
    "    prodWiseSales['ABC'][dayno]=int(data['ABC'])\n",
    "    prodWiseSales['GHI'][dayno]=int(data['GHI'])\n",
    "\n",
    "import numpy as np\n",
    "def sales_details(sales,prodname):\n",
    "    mean1 = np.mean(sales)\n",
    "    max1 = np.max(sales)\n",
    "    min1 = np.min(sales)\n",
    "    print(\"Sales details for {}, mean= {},max= {},min={}\".format(prodname,mean1,max1,min1))\n",
    "    \n",
    "salesXYZ = list(prodWiseSales['XYZ'].values())\n",
    "salesXYZ_arr = np.array(salesXYZ)\n",
    "sales_details(salesXYZ_arr,'XYZ')\n",
    "    \n",
    "salesABC = list(prodWiseSales['ABC'].values())\n",
    "salesABC_arr = np.array(salesABC)\n",
    "sales_details(salesABC_arr,'ABC')\n",
    "\n",
    "prods = list(prodWiseSales.keys())\n",
    "for prod in prods :\n",
    "    salesProd = list(prodWiseSales[prod].values())\n",
    "    sales_arr = np.array(salesProd)\n",
    "    sales_details(sales_arr,prod)"
   ]
  },
  {
   "cell_type": "code",
   "execution_count": 10,
   "metadata": {},
   "outputs": [
    {
     "name": "stdout",
     "output_type": "stream",
     "text": [
      "{'XYZ': {1: 80, 2: 87, 3: 79, 4: 79, 5: 75, 6: 78, 7: 69, 8: 69, 9: 69, 10: 75, 11: 71, 12: 74, 13: 67, 14: 76, 15: 72, 16: 72, 17: 69, 18: 78, 19: 70, 20: 72, 21: 63, 22: 65, 23: 64, 24: 73, 25: 66, 26: 73, 27: 71, 28: 72, 29: 67, 30: 68}, 'ABC': {1: 67, 2: 71, 3: 69, 4: 70, 5: 63, 6: 72, 7: 54, 8: 70, 9: 64, 10: 71, 11: 58, 12: 58, 13: 43, 14: 57, 15: 40, 16: 53, 17: 39, 18: 53, 19: 45, 20: 60, 21: 60, 22: 61, 23: 56, 24: 74, 25: 62, 26: 79, 27: 75, 28: 92, 29: 85, 30: 88}, 'GHI': {1: 85, 2: 87, 3: 82, 4: 84, 5: 80, 6: 80, 7: 80, 8: 81, 9: 76, 10: 77, 11: 76, 12: 76, 13: 73, 14: 76, 15: 72, 16: 75, 17: 69, 18: 73, 19: 67, 20: 67, 21: 62, 22: 63, 23: 59, 24: 63, 25: 58, 26: 60, 27: 60, 28: 64, 29: 64, 30: 61}}\n"
     ]
    }
   ],
   "source": [
    "import unicodecsv\n",
    "def read_csv(filename):\n",
    "    with open(filename,'rb') as f:\n",
    "        reader = unicodecsv.DictReader(f)\n",
    "        return list(reader)\n",
    "fname='F:/DataScience/3 Handling CSV Files/1 edufect.csv'\n",
    "salesdata=read_csv(fname)\n",
    "\n",
    "prodWiseSales = dict()\n",
    "prodWiseSales['XYZ'] = dict()\n",
    "prodWiseSales['ABC'] = dict()\n",
    "prodWiseSales['GHI'] = dict()\n",
    "\n",
    "for data in salesdata:\n",
    "    dayno = int(data['Day'])\n",
    "    prodWiseSales['XYZ'][dayno]=int(data['XYZ'])\n",
    "    prodWiseSales['ABC'][dayno]=int(data['ABC'])\n",
    "    prodWiseSales['GHI'][dayno]=int(data['GHI'])\n",
    "print(prodWiseSales)"
   ]
  },
  {
   "cell_type": "code",
   "execution_count": 4,
   "metadata": {},
   "outputs": [
    {
     "name": "stdout",
     "output_type": "stream",
     "text": [
      "Sales details for XYZ, mean= 72.1,max= 87,min=63\n",
      "Sales details for ABC, mean= 63.63333333333333,max= 92,min=39\n",
      "Sales details for XYZ, mean= 72.1,max= 87,min=63\n",
      "Sales details for ABC, mean= 63.63333333333333,max= 92,min=39\n",
      "Sales details for GHI, mean= 71.66666666666667,max= 87,min=58\n"
     ]
    }
   ],
   "source": [
    "import numpy as np\n",
    "def sales_details(sales,prodname):\n",
    "    mean1 = np.mean(sales)\n",
    "    max1 = np.max(sales)\n",
    "    min1 = np.min(sales)\n",
    "    print(\"Sales details for {}, mean= {},max= {},min={}\".format(prodname,mean1,max1,min1))\n",
    "    \n",
    "salesXYZ = list(prodWiseSales['XYZ'].values())\n",
    "salesXYZ_arr = np.array(salesXYZ)\n",
    "sales_details(salesXYZ_arr,'XYZ')\n",
    "    \n",
    "salesABC = list(prodWiseSales['ABC'].values())\n",
    "salesABC_arr = np.array(salesABC)\n",
    "sales_details(salesABC_arr,'ABC')\n",
    "\n",
    "prods = list(prodWiseSales.keys())\n",
    "for prod in prods :\n",
    "    salesProd = list(prodWiseSales[prod].values())\n",
    "    sales_arr = np.array(salesProd)\n",
    "    sales_details(sales_arr,prod)"
   ]
  },
  {
   "cell_type": "code",
   "execution_count": 1,
   "metadata": {},
   "outputs": [
    {
     "name": "stdout",
     "output_type": "stream",
     "text": [
      "Sales details for XYZ, mean= 72.1,max= 87,min=63\n",
      "Sales details for ABC, mean= 63.63333333333333,max= 92,min=39\n",
      "Sales details for XYZ, mean= 72.1,max= 87,min=63\n",
      "Sales details for ABC, mean= 63.63333333333333,max= 92,min=39\n",
      "Sales details for GHI, mean= 71.66666666666667,max= 87,min=58\n"
     ]
    },
    {
     "data": {
      "image/png": "[encoded data removed]",
      "text/plain": [
       "<Figure size 432x288 with 1 Axes>"
      ]
     },
     "metadata": {
      "needs_background": "light"
     },
     "output_type": "display_data"
    }
   ],
   "source": [
    "import unicodecsv\n",
    "def read_csv(filename):\n",
    "    with open(filename,'rb') as f:\n",
    "        reader = unicodecsv.DictReader(f)\n",
    "        return list(reader)\n",
    "fname='F:/DataScience/4 Matplotlib/1 edufect.csv'\n",
    "salesdata=read_csv(fname)\n",
    "\n",
    "prodWiseSales = dict()\n",
    "prodWiseSales['XYZ'] = dict()\n",
    "prodWiseSales['ABC'] = dict()\n",
    "prodWiseSales['GHI'] = dict()\n",
    "\n",
    "for data in salesdata:\n",
    "    dayno = int(data['Day'])\n",
    "    prodWiseSales['XYZ'][dayno]=int(data['XYZ'])\n",
    "    prodWiseSales['ABC'][dayno]=int(data['ABC'])\n",
    "    prodWiseSales['GHI'][dayno]=int(data['GHI'])\n",
    "\n",
    "import numpy as np\n",
    "def sales_details(sales,prodname):\n",
    "    mean1 = np.mean(sales)\n",
    "    max1 = np.max(sales)\n",
    "    min1 = np.min(sales)\n",
    "    print(\"Sales details for {}, mean= {},max= {},min={}\".format(prodname,mean1,max1,min1))\n",
    "    \n",
    "salesXYZ = list(prodWiseSales['XYZ'].values())\n",
    "salesXYZ_arr = np.array(salesXYZ)\n",
    "sales_details(salesXYZ_arr,'XYZ')\n",
    "    \n",
    "salesABC = list(prodWiseSales['ABC'].values())\n",
    "salesABC_arr = np.array(salesABC)\n",
    "sales_details(salesABC_arr,'ABC')\n",
    "\n",
    "prods = list(prodWiseSales.keys())\n",
    "for prod in prods :\n",
    "    salesProd = list(prodWiseSales[prod].values())\n",
    "    sales_arr = np.array(salesProd)\n",
    "    sales_details(sales_arr,prod)\n",
    "    \n",
    "\n",
    "%matplotlib inline\n",
    "import matplotlib.pyplot as plt\n",
    "days = prodWiseSales['XYZ'].keys()\n",
    "plt.plot(days,salesXYZ,label='XYZ')\n",
    "plt.legend()\n",
    "plt.show()"
   ]
  },
  {
   "cell_type": "code",
   "execution_count": 9,
   "metadata": {},
   "outputs": [
    {
     "name": "stdout",
     "output_type": "stream",
     "text": [
      "Sales details for XYZ, mean= 72.1,max= 87,min=63\n",
      "Sales details for ABC, mean= 63.63333333333333,max= 92,min=39\n",
      "Sales details for GHI, mean= 71.66666666666667,max= 87,min=58\n",
      "Sales details for XYZ, mean= 72.1,max= 87,min=63\n",
      "Sales details for ABC, mean= 63.63333333333333,max= 92,min=39\n",
      "Sales details for GHI, mean= 71.66666666666667,max= 87,min=58\n"
     ]
    },
    {
     "data": {
      "image/png": "[encoded data removed]",
      "text/plain": [
       "<Figure size 432x288 with 1 Axes>"
      ]
     },
     "metadata": {
      "needs_background": "light"
     },
     "output_type": "display_data"
    }
   ],
   "source": [
    "\n",
    "    \n",
    "\n",
    "%matplotlib inline\n",
    "import matplotlib.pyplot as plt\n",
    "days = prodWiseSales['XYZ'].keys()\n",
    "import unicodecsv\n",
    "def read_csv(filename):\n",
    "    with open(filename,'rb') as f:\n",
    "        reader = unicodecsv.DictReader(f)\n",
    "        return list(reader)\n",
    "fname='F:/DataScience/4 Matplotlib/1 edufect.csv'\n",
    "salesdata=read_csv(fname)\n",
    "\n",
    "prodWiseSales = dict()\n",
    "prodWiseSales['XYZ'] = dict()\n",
    "prodWiseSales['ABC'] = dict()\n",
    "prodWiseSales['GHI'] = dict()\n",
    "\n",
    "for data in salesdata:\n",
    "    dayno = int(data['Day'])\n",
    "    prodWiseSales['XYZ'][dayno]=int(data['XYZ'])\n",
    "    prodWiseSales['ABC'][dayno]=int(data['ABC'])\n",
    "    prodWiseSales['GHI'][dayno]=int(data['GHI'])\n",
    "\n",
    "import numpy as np\n",
    "def sales_details(sales,prodname):\n",
    "    mean1 = np.mean(sales)\n",
    "    max1 = np.max(sales)\n",
    "    min1 = np.min(sales)\n",
    "    print(\"Sales details for {}, mean= {},max= {},min={}\".format(prodname,mean1,max1,min1))\n",
    "    \n",
    "salesXYZ = list(prodWiseSales['XYZ'].values())\n",
    "salesXYZ_arr = np.array(salesXYZ)\n",
    "sales_details(salesXYZ_arr,'XYZ')\n",
    "    \n",
    "salesABC = list(prodWiseSales['ABC'].values())\n",
    "salesABC_arr = np.array(salesABC)\n",
    "sales_details(salesABC_arr,'ABC')\n",
    "\n",
    "salesGHI = list(prodWiseSales['GHI'].values())\n",
    "salesGHI_arr = np.array(salesGHI)\n",
    "sales_details(salesGHI_arr,'GHI')\n",
    "\n",
    "prods = list(prodWiseSales.keys())\n",
    "for prod in prods :\n",
    "    salesProd = list(prodWiseSales[prod].values())\n",
    "    sales_arr = np.array(salesProd)\n",
    "    sales_details(sales_arr,prod)\n",
    "    \n",
    "\n",
    "%matplotlib inline\n",
    "import matplotlib.pyplot as plt\n",
    "days = prodWiseSales['XYZ'].keys()\n",
    "plt.plot(days,salesXYZ,label='XYZ')\n",
    "plt.legend()\n",
    "plt.show()\n"
   ]
  },
  {
   "cell_type": "code",
   "execution_count": 5,
   "metadata": {},
   "outputs": [
    {
     "data": {
      "image/png": "[encoded data removed]",
      "text/plain": [
       "<Figure size 432x288 with 1 Axes>"
      ]
     },
     "metadata": {
      "needs_background": "light"
     },
     "output_type": "display_data"
    }
   ],
   "source": [
    "%matplotlib inline\n",
    "import matplotlib.pyplot as plt\n",
    "days = prodWiseSales['XYZ'].keys()\n",
    "plt.plot(days,salesXYZ,label='XYZ')\n",
    "plt.legend()\n",
    "plt.show()\n"
   ]
  },
  {
   "cell_type": "code",
   "execution_count": 5,
   "metadata": {},
   "outputs": [
    {
     "name": "stdout",
     "output_type": "stream",
     "text": [
      "Sales details for XYZ, mean= 72.1,max= 87,min=63\n",
      "Sales details for ABC, mean= 63.63333333333333,max= 92,min=39\n",
      "Sales details for GHI, mean= 71.66666666666667,max= 87,min=58\n",
      "Sales details for XYZ, mean= 72.1,max= 87,min=63\n",
      "Sales details for ABC, mean= 63.63333333333333,max= 92,min=39\n",
      "Sales details for GHI, mean= 71.66666666666667,max= 87,min=58\n"
     ]
    },
    {
     "data": {
      "image/png": "[encoded data removed]",
      "text/plain": [
       "<Figure size 432x288 with 1 Axes>"
      ]
     },
     "metadata": {
      "needs_background": "light"
     },
     "output_type": "display_data"
    }
   ],
   "source": [
    "%matplotlib inline\n",
    "import matplotlib.pyplot as plt\n",
    "import unicodecsv\n",
    "def read_csv(filename):\n",
    "    with open(filename,'rb') as f:\n",
    "        reader = unicodecsv.DictReader(f)\n",
    "        return list(reader)\n",
    "fname='F:/DataScience/4 Matplotlib/1 edufect.csv'\n",
    "salesdata=read_csv(fname)\n",
    "\n",
    "prodWiseSales = dict()\n",
    "prodWiseSales['XYZ'] = dict()\n",
    "prodWiseSales['ABC'] = dict()\n",
    "prodWiseSales['GHI'] = dict()\n",
    "\n",
    "for data in salesdata:\n",
    "    dayno = int(data['Day'])\n",
    "    prodWiseSales['XYZ'][dayno]=int(data['XYZ'])\n",
    "    prodWiseSales['ABC'][dayno]=int(data['ABC'])\n",
    "    prodWiseSales['GHI'][dayno]=int(data['GHI'])\n",
    "\n",
    "import numpy as np\n",
    "def sales_details(sales,prodname):\n",
    "    mean1 = np.mean(sales)\n",
    "    max1 = np.max(sales)\n",
    "    min1 = np.min(sales)\n",
    "    print(\"Sales details for {}, mean= {},max= {},min={}\".format(prodname,mean1,max1,min1))\n",
    "    \n",
    "salesXYZ = list(prodWiseSales['XYZ'].values())\n",
    "salesXYZ_arr = np.array(salesXYZ)\n",
    "sales_details(salesXYZ_arr,'XYZ')\n",
    "    \n",
    "salesABC = list(prodWiseSales['ABC'].values())\n",
    "salesABC_arr = np.array(salesABC)\n",
    "sales_details(salesABC_arr,'ABC')\n",
    "\n",
    "salesGHI = list(prodWiseSales['GHI'].values())\n",
    "salesGHI_arr = np.array(salesGHI)\n",
    "sales_details(salesGHI_arr,'GHI')\n",
    "\n",
    "prods = list(prodWiseSales.keys())\n",
    "for prod in prods :\n",
    "    salesProd = list(prodWiseSales[prod].values())\n",
    "    sales_arr = np.array(salesProd)\n",
    "    sales_details(sales_arr,prod)\n",
    "    \n",
    "%matplotlib inline\n",
    "import matplotlib.pyplot as plt\n",
    "days = prodWiseSales['XYZ'].keys()\n",
    "plt.plot(days,salesXYZ,label='XYZ')\n",
    "plt.plot(days,salesABC,label='ABC')\n",
    "plt.plot(days,salesGHI,label='GHI')\n",
    "plt.legend()\n",
    "plt.show()"
   ]
  },
  {
   "cell_type": "code",
   "execution_count": 3,
   "metadata": {},
   "outputs": [
    {
     "name": "stdout",
     "output_type": "stream",
     "text": [
      "Sales details for XYZ, mean= 72.1,max= 87,min=63\n",
      "Sales details for ABC, mean= 63.63333333333333,max= 92,min=39\n",
      "Sales details for GHI, mean= 71.66666666666667,max= 87,min=58\n",
      "Sales details for XYZ, mean= 72.1,max= 87,min=63\n",
      "Sales details for ABC, mean= 63.63333333333333,max= 92,min=39\n",
      "Sales details for GHI, mean= 71.66666666666667,max= 87,min=58\n"
     ]
    },
    {
     "data": {
      "image/png": "[encoded data removed]",
      "text/plain": [
       "<Figure size 432x288 with 1 Axes>"
      ]
     },
     "metadata": {
      "needs_background": "light"
     },
     "output_type": "display_data"
    },
    {
     "data": {
      "image/png": "[encoded data removed]",
      "text/plain": [
       "<Figure size 432x288 with 1 Axes>"
      ]
     },
     "metadata": {
      "needs_background": "light"
     },
     "output_type": "display_data"
    }
   ],
   "source": [
    "%matplotlib inline\n",
    "import matplotlib.pyplot as plt\n",
    "import unicodecsv\n",
    "def read_csv(filename):\n",
    "    with open(filename,'rb') as f:\n",
    "        reader = unicodecsv.DictReader(f)\n",
    "        return list(reader)\n",
    "fname='F:/DataScience/4 Matplotlib/1 edufect.csv'\n",
    "salesdata=read_csv(fname)\n",
    "\n",
    "prodWiseSales = dict()\n",
    "prodWiseSales['XYZ'] = dict()\n",
    "prodWiseSales['ABC'] = dict()\n",
    "prodWiseSales['GHI'] = dict()\n",
    "\n",
    "for data in salesdata:\n",
    "    dayno = int(data['Day'])\n",
    "    prodWiseSales['XYZ'][dayno]=int(data['XYZ'])\n",
    "    prodWiseSales['ABC'][dayno]=int(data['ABC'])\n",
    "    prodWiseSales['GHI'][dayno]=int(data['GHI'])\n",
    "\n",
    "import numpy as np\n",
    "def sales_details(sales,prodname):\n",
    "    mean1 = np.mean(sales)\n",
    "    max1 = np.max(sales)\n",
    "    min1 = np.min(sales)\n",
    "    print(\"Sales details for {}, mean= {},max= {},min={}\".format(prodname,mean1,max1,min1))\n",
    "    \n",
    "salesXYZ = list(prodWiseSales['XYZ'].values())\n",
    "salesXYZ_arr = np.array(salesXYZ)\n",
    "sales_details(salesXYZ_arr,'XYZ')\n",
    "    \n",
    "salesABC = list(prodWiseSales['ABC'].values())\n",
    "salesABC_arr = np.array(salesABC)\n",
    "sales_details(salesABC_arr,'ABC')\n",
    "\n",
    "salesGHI = list(prodWiseSales['GHI'].values())\n",
    "salesGHI_arr = np.array(salesGHI)\n",
    "sales_details(salesGHI_arr,'GHI')\n",
    "\n",
    "prods = list(prodWiseSales.keys())\n",
    "for prod in prods :\n",
    "    salesProd = list(prodWiseSales[prod].values())\n",
    "    sales_arr = np.array(salesProd)\n",
    "    sales_details(sales_arr,prod)\n",
    "    \n",
    "%matplotlib inline\n",
    "import matplotlib.pyplot as plt\n",
    "days = prodWiseSales['XYZ'].keys()\n",
    "plt.plot(days,salesXYZ,label='XYZ')\n",
    "plt.plot(days,salesABC,label='ABC')\n",
    "plt.plot(days,salesGHI,label='GHI')\n",
    "plt.legend()\n",
    "plt.show()\n",
    "\n",
    "p1=plt.bar(days,salesXYZ)"
   ]
  },
  {
   "cell_type": "code",
   "execution_count": 6,
   "metadata": {},
   "outputs": [
    {
     "data": {
      "image/png": "[encoded data removed]",
      "text/plain": [
       "<Figure size 432x288 with 1 Axes>"
      ]
     },
     "metadata": {
      "needs_background": "light"
     },
     "output_type": "display_data"
    }
   ],
   "source": [
    "p1=plt.bar(days,salesABC)"
   ]
  },
  {
   "cell_type": "code",
   "execution_count": 7,
   "metadata": {},
   "outputs": [
    {
     "data": {
      "image/png": "[encoded data removed]",
      "text/plain": [
       "<Figure size 432x288 with 1 Axes>"
      ]
     },
     "metadata": {
      "needs_background": "light"
     },
     "output_type": "display_data"
    }
   ],
   "source": [
    "p1=plt.bar(days,salesXYZ)\n",
    "p2=plt.bar(days,salesABC,bottom=salesXYZ)"
   ]
  },
  {
   "cell_type": "code",
   "execution_count": 8,
   "metadata": {},
   "outputs": [
    {
     "data": {
      "image/png": "[encoded data removed]",
      "text/plain": [
       "<Figure size 432x288 with 1 Axes>"
      ]
     },
     "metadata": {
      "needs_background": "light"
     },
     "output_type": "display_data"
    }
   ],
   "source": [
    "p1=plt.bar(days,salesXYZ)\n",
    "p2=plt.bar(days,salesABC,bottom=salesXYZ)\n",
    "plt.legend((p1[0],p2[0]),('XYZ','ABC'))\n",
    "plt.show()"
   ]
  },
  {
   "cell_type": "code",
   "execution_count": 9,
   "metadata": {},
   "outputs": [
    {
     "data": {
      "image/png": "[encoded data removed]",
      "text/plain": [
       "<Figure size 432x288 with 1 Axes>"
      ]
     },
     "metadata": {
      "needs_background": "light"
     },
     "output_type": "display_data"
    }
   ],
   "source": [
    "p1=plt.bar(days,salesXYZ_arr)\n",
    "p2=plt.bar(days,salesABC_arr,bottom=salesXYZ_arr)\n",
    "p3=plt.bar(days,salesGHI_arr,bottom=salesXYZ_arr+salesABC_arr)\n",
    "plt.legend((p1[0],p2[0],p3[0]),('XYZ','ABC','GHI'))\n",
    "plt.show()"
   ]
  },
  {
   "cell_type": "code",
   "execution_count": 1,
   "metadata": {},
   "outputs": [
    {
     "name": "stdout",
     "output_type": "stream",
     "text": [
      "0     2\n",
      "1     5\n",
      "2    10\n",
      "3    12\n",
      "4    25\n",
      "dtype: int64\n"
     ]
    }
   ],
   "source": [
    "import pandas as pd\n",
    "list1 = [2,5,10,12,25]\n",
    "series1 = pd.Series(list1)\n",
    "print(series1)"
   ]
  },
  {
   "cell_type": "code",
   "execution_count": 2,
   "metadata": {},
   "outputs": [
    {
     "name": "stdout",
     "output_type": "stream",
     "text": [
      "0     2\n",
      "1     5\n",
      "2    10\n",
      "3    12\n",
      "4    25\n",
      "dtype: int64\n",
      "count     5.000000\n",
      "mean     10.800000\n",
      "std       8.871302\n",
      "min       2.000000\n",
      "25%       5.000000\n",
      "50%      10.000000\n",
      "75%      12.000000\n",
      "max      25.000000\n",
      "dtype: float64\n"
     ]
    }
   ],
   "source": [
    "import pandas as pd\n",
    "list1 = [2,5,10,12,25]\n",
    "series1 = pd.Series(list1)\n",
    "print(series1)\n",
    "print(series1.describe())"
   ]
  },
  {
   "cell_type": "code",
   "execution_count": 8,
   "metadata": {},
   "outputs": [
    {
     "name": "stdout",
     "output_type": "stream",
     "text": [
      "0     2\n",
      "1     5\n",
      "2    10\n",
      "3    12\n",
      "4    25\n",
      "dtype: int64\n",
      "count     5.000000\n",
      "mean     10.800000\n",
      "std       8.871302\n",
      "min       2.000000\n",
      "25%       5.000000\n",
      "50%      10.000000\n",
      "75%      12.000000\n",
      "max      25.000000\n",
      "dtype: float64\n",
      "mean=10.8,max=25\n"
     ]
    }
   ],
   "source": [
    "import pandas as pd\n",
    "list1 = [2,5,10,12,25]\n",
    "series1 = pd.Series(list1)\n",
    "print(series1)\n",
    "print(series1.describe())\n",
    "print(\"mean={},max={}\".format(series1.mean(),series1.max()))\n"
   ]
  },
  {
   "cell_type": "code",
   "execution_count": 9,
   "metadata": {},
   "outputs": [
    {
     "name": "stdout",
     "output_type": "stream",
     "text": [
      "0     2\n",
      "1     5\n",
      "2    10\n",
      "3    12\n",
      "4    25\n",
      "dtype: int64\n",
      "count     5.000000\n",
      "mean     10.800000\n",
      "std       8.871302\n",
      "min       2.000000\n",
      "25%       5.000000\n",
      "50%      10.000000\n",
      "75%      12.000000\n",
      "max      25.000000\n",
      "dtype: float64\n",
      "mean=10.8,max=25,min=2\n"
     ]
    }
   ],
   "source": [
    "import pandas as pd\n",
    "list1 = [2,5,10,12,25]\n",
    "series1 = pd.Series(list1)\n",
    "print(series1)\n",
    "print(series1.describe())\n",
    "print(\"mean={},max={},min={}\".format(series1.mean(),series1.max(),series1.min()))"
   ]
  },
  {
   "cell_type": "code",
   "execution_count": 11,
   "metadata": {},
   "outputs": [
    {
     "name": "stdout",
     "output_type": "stream",
     "text": [
      "2\n",
      "5\n",
      "10\n",
      "12\n",
      "25\n"
     ]
    }
   ],
   "source": [
    "for x in series1 : \n",
    "    print(x)"
   ]
  },
  {
   "cell_type": "code",
   "execution_count": 12,
   "metadata": {},
   "outputs": [
    {
     "name": "stdout",
     "output_type": "stream",
     "text": [
      "5\n",
      "2\n",
      "5\n",
      "10\n",
      "12\n",
      "25\n"
     ]
    }
   ],
   "source": [
    "len1 = len(series1)\n",
    "print(len1)\n",
    "for x in series1:\n",
    "    print(x)"
   ]
  },
  {
   "cell_type": "code",
   "execution_count": 14,
   "metadata": {},
   "outputs": [
    {
     "name": "stdout",
     "output_type": "stream",
     "text": [
      "5\n",
      "2\n",
      "5\n",
      "10\n",
      "12\n",
      "25\n"
     ]
    }
   ],
   "source": [
    "len1 = len(series1)\n",
    "print(len1)\n",
    "for x in range(0,len1):\n",
    "    print(series1[x])"
   ]
  },
  {
   "cell_type": "code",
   "execution_count": 15,
   "metadata": {},
   "outputs": [
    {
     "name": "stdout",
     "output_type": "stream",
     "text": [
      "2    10\n",
      "3    12\n",
      "dtype: int64\n"
     ]
    }
   ],
   "source": [
    "series2 = series1[2:4]\n",
    "print(series2)"
   ]
  },
  {
   "cell_type": "code",
   "execution_count": 2,
   "metadata": {},
   "outputs": [
    {
     "name": "stdout",
     "output_type": "stream",
     "text": [
      "num           2\n",
      "sq            4\n",
      "cube          8\n",
      "4th-power    16\n",
      "dtype: int64\n"
     ]
    }
   ],
   "source": [
    "import pandas as pd\n",
    "list1=[2,4,8,16]\n",
    "list2=['num','sq','cube','4th-power']\n",
    "series1 = pd.Series(list1, index=list2)\n",
    "print(series1)"
   ]
  },
  {
   "cell_type": "code",
   "execution_count": 3,
   "metadata": {},
   "outputs": [
    {
     "name": "stdout",
     "output_type": "stream",
     "text": [
      "num           2\n",
      "sq            4\n",
      "cube          8\n",
      "4th-power    16\n",
      "dtype: int64\n",
      "4\n"
     ]
    }
   ],
   "source": [
    "import pandas as pd\n",
    "list1=[2,4,8,16]\n",
    "list2=['num','sq','cube','4th-power']\n",
    "series1 = pd.Series(list1, index=list2)\n",
    "print(series1)\n",
    "print(series1.loc['sq'])"
   ]
  },
  {
   "cell_type": "code",
   "execution_count": 4,
   "metadata": {},
   "outputs": [
    {
     "name": "stdout",
     "output_type": "stream",
     "text": [
      "num           2\n",
      "sq            4\n",
      "cube          8\n",
      "4th-power    16\n",
      "dtype: int64\n",
      "4\n",
      "4\n"
     ]
    }
   ],
   "source": [
    "import pandas as pd\n",
    "list1=[2,4,8,16]\n",
    "list2=['num','sq','cube','4th-power']\n",
    "series1 = pd.Series(list1, index=list2)\n",
    "print(series1)\n",
    "print(series1.loc['sq'])\n",
    "print(series1[1])"
   ]
  },
  {
   "cell_type": "code",
   "execution_count": 5,
   "metadata": {},
   "outputs": [
    {
     "name": "stdout",
     "output_type": "stream",
     "text": [
      "num           2\n",
      "sq            4\n",
      "cube          8\n",
      "4th-power    16\n",
      "dtype: int64\n",
      "4\n",
      "4\n",
      "4\n"
     ]
    }
   ],
   "source": [
    "import pandas as pd\n",
    "list1=[2,4,8,16]\n",
    "list2=['num','sq','cube','4th-power']\n",
    "series1 = pd.Series(list1, index=list2)\n",
    "print(series1)\n",
    "print(series1.loc['sq'])\n",
    "print(series1[1])\n",
    "print(series1.iloc[1])"
   ]
  },
  {
   "cell_type": "code",
   "execution_count": 6,
   "metadata": {},
   "outputs": [
    {
     "name": "stdout",
     "output_type": "stream",
     "text": [
      "num           2\n",
      "sq            4\n",
      "cube          8\n",
      "4th-power    16\n",
      "dtype: int64\n",
      "8\n",
      "8\n",
      "8\n"
     ]
    }
   ],
   "source": [
    "import pandas as pd\n",
    "list1=[2,4,8,16]\n",
    "list2=['num','sq','cube','4th-power']\n",
    "series1 = pd.Series(list1, index=list2)\n",
    "print(series1)\n",
    "print(series1.loc['cube'])\n",
    "print(series1[2])\n",
    "print(series1.iloc[2])"
   ]
  },
  {
   "cell_type": "code",
   "execution_count": 1,
   "metadata": {},
   "outputs": [
    {
     "name": "stdout",
     "output_type": "stream",
     "text": [
      "Mon     6\n",
      "Tue     8\n",
      "Wed    10\n",
      "Thu     9\n",
      "Fri    11\n",
      "Sat    15\n",
      "Sun    10\n",
      "dtype: int64\n"
     ]
    }
   ],
   "source": [
    "import pandas as pd\n",
    "list1 = [6,8,10,9,11,15,10]\n",
    "list2 = ['Mon','Tue','Wed','Thu','Fri','Sat','Sun']\n",
    "custs = pd.Series(list1,index=list2)\n",
    "print(custs)"
   ]
  },
  {
   "cell_type": "code",
   "execution_count": 2,
   "metadata": {},
   "outputs": [
    {
     "name": "stdout",
     "output_type": "stream",
     "text": [
      "Mon     6\n",
      "Tue     8\n",
      "Wed    10\n",
      "Thu     9\n",
      "Fri    11\n",
      "Sat    15\n",
      "Sun    10\n",
      "dtype: int64\n",
      "15\n"
     ]
    }
   ],
   "source": [
    "import pandas as pd\n",
    "list1 = [6,8,10,9,11,15,10]\n",
    "list2 = ['Mon','Tue','Wed','Thu','Fri','Sat','Sun']\n",
    "custs = pd.Series(list1,index=list2)\n",
    "print(custs)\n",
    "print(custs.max())"
   ]
  },
  {
   "cell_type": "code",
   "execution_count": 4,
   "metadata": {},
   "outputs": [
    {
     "name": "stdout",
     "output_type": "stream",
     "text": [
      "Mon     6\n",
      "Tue     8\n",
      "Wed    10\n",
      "Thu     9\n",
      "Fri    11\n",
      "Sat    15\n",
      "Sun    10\n",
      "dtype: int64\n",
      "15\n",
      "Sat\n"
     ]
    }
   ],
   "source": [
    "import pandas as pd\n",
    "list1 = [6,8,10,9,11,15,10]\n",
    "list2 = ['Mon','Tue','Wed','Thu','Fri','Sat','Sun']\n",
    "custs = pd.Series(list1,index=list2)\n",
    "print(custs)\n",
    "print(custs.max())\n",
    "maxday = custs.idxmax()\n",
    "print(maxday)"
   ]
  },
  {
   "cell_type": "code",
   "execution_count": 5,
   "metadata": {},
   "outputs": [
    {
     "name": "stdout",
     "output_type": "stream",
     "text": [
      "Mon     6\n",
      "Tue     8\n",
      "Wed    10\n",
      "Thu     9\n",
      "Fri    11\n",
      "Sat    15\n",
      "Sun    10\n",
      "dtype: int64\n",
      "15\n",
      "Sat\n",
      "Min=6,day is Mon\n"
     ]
    }
   ],
   "source": [
    "import pandas as pd\n",
    "list1 = [6,8,10,9,11,15,10]\n",
    "list2 = ['Mon','Tue','Wed','Thu','Fri','Sat','Sun']\n",
    "custs = pd.Series(list1,index=list2)\n",
    "print(custs)\n",
    "print(custs.max())\n",
    "maxday = custs.idxmax()\n",
    "print(maxday)\n",
    "minday=custs.idxmin()\n",
    "print(\"Min={},day is {}\".format(custs.loc[minday],minday))"
   ]
  },
  {
   "cell_type": "code",
   "execution_count": 6,
   "metadata": {},
   "outputs": [
    {
     "name": "stdout",
     "output_type": "stream",
     "text": [
      "Mon     6\n",
      "Tue     8\n",
      "Wed    15\n",
      "Thu     9\n",
      "Fri    11\n",
      "Sat    15\n",
      "Sun    10\n",
      "dtype: int64\n",
      "15\n",
      "Wed\n",
      "Min=6,day is Mon\n"
     ]
    }
   ],
   "source": [
    "import pandas as pd\n",
    "list1 = [6,8,15,9,11,15,10]\n",
    "list2 = ['Mon','Tue','Wed','Thu','Fri','Sat','Sun']\n",
    "custs = pd.Series(list1,index=list2)\n",
    "print(custs)\n",
    "print(custs.max())\n",
    "maxday = custs.idxmax()\n",
    "print(maxday)\n",
    "minday=custs.idxmin()\n",
    "print(\"Min={},day is {}\".format(custs.loc[minday],minday))"
   ]
  },
  {
   "cell_type": "code",
   "execution_count": 7,
   "metadata": {},
   "outputs": [
    {
     "name": "stdout",
     "output_type": "stream",
     "text": [
      "Mon     6\n",
      "Tue     8\n",
      "Wed    15\n",
      "Thu     9\n",
      "Fri    11\n",
      "Sat    15\n",
      "Sun     6\n",
      "dtype: int64\n",
      "15\n",
      "Wed\n",
      "Min=6,day is Mon\n"
     ]
    }
   ],
   "source": [
    "import pandas as pd\n",
    "list1 = [6,8,15,9,11,15,6]\n",
    "list2 = ['Mon','Tue','Wed','Thu','Fri','Sat','Sun']\n",
    "custs = pd.Series(list1,index=list2)\n",
    "print(custs)\n",
    "print(custs.max())\n",
    "maxday = custs.idxmax()\n",
    "print(maxday)\n",
    "minday=custs.idxmin()\n",
    "print(\"Min={},day is {}\".format(custs.loc[minday],minday))"
   ]
  },
  {
   "cell_type": "code",
   "execution_count": 8,
   "metadata": {},
   "outputs": [
    {
     "name": "stdout",
     "output_type": "stream",
     "text": [
      "Mon     7\n",
      "Tue     8\n",
      "Wed    15\n",
      "Thu     9\n",
      "Fri    11\n",
      "Sat    15\n",
      "Sun     6\n",
      "dtype: int64\n",
      "15\n",
      "Wed\n",
      "Min=6,day is Sun\n"
     ]
    }
   ],
   "source": [
    "import pandas as pd\n",
    "list1 = [7,8,15,9,11,15,6]\n",
    "list2 = ['Mon','Tue','Wed','Thu','Fri','Sat','Sun']\n",
    "custs = pd.Series(list1,index=list2)\n",
    "print(custs)\n",
    "print(custs.max())\n",
    "maxday = custs.idxmax()\n",
    "print(maxday)\n",
    "minday=custs.idxmin()\n",
    "print(\"Min={},day is {}\".format(custs.loc[minday],minday))"
   ]
  },
  {
   "cell_type": "code",
   "execution_count": 2,
   "metadata": {},
   "outputs": [
    {
     "name": "stdout",
     "output_type": "stream",
     "text": [
      "     Coke  Pepsi\n",
      "Mon     8     10\n",
      "Tue     5      6\n",
      "Wed     4      9\n",
      "Thu    11      9\n",
      "Fri    11      9\n",
      "Sat    12     15\n",
      "Sun    15     18\n"
     ]
    }
   ],
   "source": [
    "import pandas as pd\n",
    "list1 = [[8,10],[5,6],[4,9],[11,9],[11,9],[12,15],[15,18]]\n",
    "week=['Mon','Tue','Wed','Thu','Fri','Sat','Sun']\n",
    "prods=['Coke','Pepsi']\n",
    "sales = pd.DataFrame(data=list1,index=week,columns=prods)\n",
    "print(sales)"
   ]
  },
  {
   "cell_type": "code",
   "execution_count": 3,
   "metadata": {},
   "outputs": [
    {
     "name": "stdout",
     "output_type": "stream",
     "text": [
      "Coke      8\n",
      "Pepsi    10\n",
      "Name: Mon, dtype: int64\n"
     ]
    }
   ],
   "source": [
    "import pandas as pd\n",
    "list1 = [[8,10],[5,6],[4,9],[11,9],[11,9],[12,15],[15,18]]\n",
    "week=['Mon','Tue','Wed','Thu','Fri','Sat','Sun']\n",
    "prods=['Coke','Pepsi']\n",
    "sales = pd.DataFrame(data=list1,index=week,columns=prods)\n",
    "print(sales.loc['Mon'])"
   ]
  },
  {
   "cell_type": "code",
   "execution_count": 5,
   "metadata": {},
   "outputs": [
    {
     "name": "stdout",
     "output_type": "stream",
     "text": [
      "Mon     8\n",
      "Tue     5\n",
      "Wed     4\n",
      "Thu    11\n",
      "Fri    11\n",
      "Sat    12\n",
      "Sun    15\n",
      "Name: Coke, dtype: int64\n"
     ]
    }
   ],
   "source": [
    "import pandas as pd\n",
    "list1 = [[8,10],[5,6],[4,9],[11,9],[11,9],[12,15],[15,18]]\n",
    "week=['Mon','Tue','Wed','Thu','Fri','Sat','Sun']\n",
    "prods=['Coke','Pepsi']\n",
    "sales = pd.DataFrame(data=list1,index=week,columns=prods)\n",
    "print(sales['Coke'])"
   ]
  },
  {
   "cell_type": "code",
   "execution_count": 6,
   "metadata": {},
   "outputs": [
    {
     "name": "stdout",
     "output_type": "stream",
     "text": [
      "9\n"
     ]
    }
   ],
   "source": [
    "import pandas as pd\n",
    "list1 = [[8,10],[5,6],[4,9],[11,9],[11,9],[12,15],[15,18]]\n",
    "week=['Mon','Tue','Wed','Thu','Fri','Sat','Sun']\n",
    "prods=['Coke','Pepsi']\n",
    "sales = pd.DataFrame(data=list1,index=week,columns=prods)\n",
    "print(sales.iloc[2,1])"
   ]
  },
  {
   "cell_type": "code",
   "execution_count": 7,
   "metadata": {},
   "outputs": [
    {
     "name": "stdout",
     "output_type": "stream",
     "text": [
      "4\n"
     ]
    }
   ],
   "source": [
    "import pandas as pd\n",
    "list1 = [[8,10],[5,6],[4,9],[11,9],[11,9],[12,15],[15,18]]\n",
    "week=['Mon','Tue','Wed','Thu','Fri','Sat','Sun']\n",
    "prods=['Coke','Pepsi']\n",
    "sales = pd.DataFrame(data=list1,index=week,columns=prods)\n",
    "print(sales.iloc[2,0])"
   ]
  },
  {
   "cell_type": "code",
   "execution_count": 8,
   "metadata": {},
   "outputs": [
    {
     "name": "stdout",
     "output_type": "stream",
     "text": [
      "6\n"
     ]
    }
   ],
   "source": [
    "import pandas as pd\n",
    "list1 = [[8,10],[5,6],[4,9],[11,9],[11,9],[12,15],[15,18]]\n",
    "week=['Mon','Tue','Wed','Thu','Fri','Sat','Sun']\n",
    "prods=['Coke','Pepsi']\n",
    "sales = pd.DataFrame(data=list1,index=week,columns=prods)\n",
    "print(sales.iloc[1,1])"
   ]
  },
  {
   "cell_type": "code",
   "execution_count": 9,
   "metadata": {},
   "outputs": [
    {
     "name": "stdout",
     "output_type": "stream",
     "text": [
      "     Coke  Pepsi\n",
      "Mon     8     10\n",
      "Tue     5      6\n",
      "Wed     4      9\n",
      "Thu    11      9\n"
     ]
    }
   ],
   "source": [
    "import pandas as pd\n",
    "list1 = [[8,10],[5,6],[4,9],[11,9],[11,9],[12,15],[15,18]]\n",
    "week=['Mon','Tue','Wed','Thu','Fri','Sat','Sun']\n",
    "prods=['Coke','Pepsi']\n",
    "sales = pd.DataFrame(data=list1,index=week,columns=prods)\n",
    "print(sales.iloc[0:4,0:2])"
   ]
  },
  {
   "cell_type": "code",
   "execution_count": 10,
   "metadata": {},
   "outputs": [
    {
     "name": "stdout",
     "output_type": "stream",
     "text": [
      "     Coke\n",
      "Mon     8\n",
      "Tue     5\n",
      "Wed     4\n",
      "Thu    11\n"
     ]
    }
   ],
   "source": [
    "import pandas as pd\n",
    "list1 = [[8,10],[5,6],[4,9],[11,9],[11,9],[12,15],[15,18]]\n",
    "week=['Mon','Tue','Wed','Thu','Fri','Sat','Sun']\n",
    "prods=['Coke','Pepsi']\n",
    "sales = pd.DataFrame(data=list1,index=week,columns=prods)\n",
    "print(sales.iloc[0:4,0:1])"
   ]
  },
  {
   "cell_type": "code",
   "execution_count": 11,
   "metadata": {},
   "outputs": [
    {
     "name": "stdout",
     "output_type": "stream",
     "text": [
      "     Pepsi\n",
      "Mon     10\n",
      "Tue      6\n",
      "Wed      9\n",
      "Thu      9\n"
     ]
    }
   ],
   "source": [
    "import pandas as pd\n",
    "list1 = [[8,10],[5,6],[4,9],[11,9],[11,9],[12,15],[15,18]]\n",
    "week=['Mon','Tue','Wed','Thu','Fri','Sat','Sun']\n",
    "prods=['Coke','Pepsi']\n",
    "sales = pd.DataFrame(data=list1,index=week,columns=prods)\n",
    "print(sales.iloc[0:4,1:2])"
   ]
  },
  {
   "cell_type": "code",
   "execution_count": 12,
   "metadata": {},
   "outputs": [
    {
     "name": "stdout",
     "output_type": "stream",
     "text": [
      "Mon    10\n",
      "Tue     6\n",
      "Wed     9\n",
      "Thu     9\n",
      "Name: Pepsi, dtype: int64\n"
     ]
    }
   ],
   "source": [
    "import pandas as pd\n",
    "list1 = [[8,10],[5,6],[4,9],[11,9],[11,9],[12,15],[15,18]]\n",
    "week=['Mon','Tue','Wed','Thu','Fri','Sat','Sun']\n",
    "prods=['Coke','Pepsi']\n",
    "sales = pd.DataFrame(data=list1,index=week,columns=prods)\n",
    "print(sales.iloc[0:4,1])"
   ]
  },
  {
   "cell_type": "code",
   "execution_count": 1,
   "metadata": {},
   "outputs": [
    {
     "name": "stdout",
     "output_type": "stream",
     "text": [
      "   X   Y\n",
      "0  4  10\n",
      "1  6  20\n",
      "2  8  30\n"
     ]
    }
   ],
   "source": [
    "import pandas as pd\n",
    "dfrl=pd.DataFrame({'X':[4,6,8],'Y':[10,20,30]})\n",
    "print(dfrl)"
   ]
  },
  {
   "cell_type": "code",
   "execution_count": 2,
   "metadata": {},
   "outputs": [
    {
     "name": "stdout",
     "output_type": "stream",
     "text": [
      "0    4\n",
      "1    6\n",
      "2    8\n",
      "Name: X, dtype: int64\n"
     ]
    }
   ],
   "source": [
    "print(dfrl['X'])"
   ]
  },
  {
   "cell_type": "code",
   "execution_count": 4,
   "metadata": {},
   "outputs": [
    {
     "name": "stdout",
     "output_type": "stream",
     "text": [
      "20\n"
     ]
    }
   ],
   "source": [
    "print(dfrl.iloc[1,1])"
   ]
  },
  {
   "cell_type": "code",
   "execution_count": 5,
   "metadata": {},
   "outputs": [
    {
     "name": "stdout",
     "output_type": "stream",
     "text": [
      "8\n"
     ]
    }
   ],
   "source": [
    "print(dfrl.iloc[2,0])"
   ]
  },
  {
   "cell_type": "code",
   "execution_count": 6,
   "metadata": {},
   "outputs": [
    {
     "name": "stdout",
     "output_type": "stream",
     "text": [
      "    A   B   C\n",
      "0   2   5   7\n",
      "1  30  60  80\n"
     ]
    }
   ],
   "source": [
    "dfr2=pd.DataFrame([[2,5,7],[30,60,80]],columns=['A','B','C'])\n",
    "print(dfr2)"
   ]
  },
  {
   "cell_type": "code",
   "execution_count": 7,
   "metadata": {},
   "outputs": [
    {
     "name": "stdout",
     "output_type": "stream",
     "text": [
      "0     5\n",
      "1    60\n",
      "Name: B, dtype: int64\n"
     ]
    }
   ],
   "source": [
    "print(dfr2['B'])"
   ]
  },
  {
   "cell_type": "code",
   "execution_count": 8,
   "metadata": {},
   "outputs": [
    {
     "name": "stdout",
     "output_type": "stream",
     "text": [
      "60\n"
     ]
    }
   ],
   "source": [
    "print(dfr2.iloc[1,1])"
   ]
  },
  {
   "cell_type": "code",
   "execution_count": 9,
   "metadata": {},
   "outputs": [
    {
     "name": "stdout",
     "output_type": "stream",
     "text": [
      "7\n"
     ]
    }
   ],
   "source": [
    "print(dfr2.iloc[0,2])"
   ]
  },
  {
   "cell_type": "code",
   "execution_count": 10,
   "metadata": {},
   "outputs": [
    {
     "name": "stdout",
     "output_type": "stream",
     "text": [
      "   B  C\n",
      "0  5  7\n"
     ]
    }
   ],
   "source": [
    "print(dfr2.iloc[0:1,1:3])"
   ]
  },
  {
   "cell_type": "code",
   "execution_count": 11,
   "metadata": {},
   "outputs": [
    {
     "name": "stdout",
     "output_type": "stream",
     "text": [
      "    B   C\n",
      "0   5   7\n",
      "1  60  80\n"
     ]
    }
   ],
   "source": [
    "print(dfr2.iloc[0:2,1:3])"
   ]
  },
  {
   "cell_type": "code",
   "execution_count": 4,
   "metadata": {},
   "outputs": [
    {
     "name": "stdout",
     "output_type": "stream",
     "text": [
      "    X   Y   Z\n",
      "0   6  10  25\n",
      "1   8  20  12\n",
      "2  50  12   9\n"
     ]
    }
   ],
   "source": [
    "import pandas as pd\n",
    "dfrl=pd.DataFrame({'X':[6,8,50],'Y':[10,20,12],'Z':[25,12,9]})\n",
    "print(dfrl)"
   ]
  },
  {
   "cell_type": "code",
   "execution_count": 6,
   "metadata": {},
   "outputs": [
    {
     "name": "stdout",
     "output_type": "stream",
     "text": [
      "152\n"
     ]
    }
   ],
   "source": [
    "print(dfrl.values.sum())"
   ]
  },
  {
   "cell_type": "code",
   "execution_count": 7,
   "metadata": {},
   "outputs": [
    {
     "name": "stdout",
     "output_type": "stream",
     "text": [
      "50\n"
     ]
    }
   ],
   "source": [
    "print(dfrl.values.max())"
   ]
  },
  {
   "cell_type": "code",
   "execution_count": 8,
   "metadata": {},
   "outputs": [
    {
     "name": "stdout",
     "output_type": "stream",
     "text": [
      "6\n"
     ]
    }
   ],
   "source": [
    "print(dfrl.values.min())"
   ]
  },
  {
   "cell_type": "code",
   "execution_count": 9,
   "metadata": {},
   "outputs": [
    {
     "name": "stdout",
     "output_type": "stream",
     "text": [
      "16.88888888888889\n"
     ]
    }
   ],
   "source": [
    "print(dfrl.values.mean())"
   ]
  },
  {
   "cell_type": "code",
   "execution_count": 10,
   "metadata": {},
   "outputs": [
    {
     "name": "stdout",
     "output_type": "stream",
     "text": [
      "X    64\n",
      "Y    42\n",
      "Z    46\n",
      "dtype: int64\n"
     ]
    }
   ],
   "source": [
    "print(dfrl.sum())"
   ]
  },
  {
   "cell_type": "code",
   "execution_count": 11,
   "metadata": {},
   "outputs": [
    {
     "name": "stdout",
     "output_type": "stream",
     "text": [
      "64\n"
     ]
    }
   ],
   "source": [
    "print(dfrl.sum()['X'])"
   ]
  },
  {
   "cell_type": "code",
   "execution_count": 12,
   "metadata": {},
   "outputs": [
    {
     "name": "stdout",
     "output_type": "stream",
     "text": [
      "42\n"
     ]
    }
   ],
   "source": [
    "print(dfrl.sum().iloc[1])"
   ]
  },
  {
   "cell_type": "code",
   "execution_count": 13,
   "metadata": {},
   "outputs": [
    {
     "name": "stdout",
     "output_type": "stream",
     "text": [
      "20\n"
     ]
    }
   ],
   "source": [
    "print(dfrl.max().iloc[1])"
   ]
  },
  {
   "cell_type": "code",
   "execution_count": 14,
   "metadata": {},
   "outputs": [
    {
     "name": "stdout",
     "output_type": "stream",
     "text": [
      "50\n"
     ]
    }
   ],
   "source": [
    "print(dfrl.max().iloc[0])"
   ]
  },
  {
   "cell_type": "code",
   "execution_count": 15,
   "metadata": {},
   "outputs": [
    {
     "name": "stdout",
     "output_type": "stream",
     "text": [
      "6\n"
     ]
    }
   ],
   "source": [
    "print(dfrl.min().iloc[0])"
   ]
  },
  {
   "cell_type": "code",
   "execution_count": 17,
   "metadata": {},
   "outputs": [
    {
     "name": "stdout",
     "output_type": "stream",
     "text": [
      "9\n"
     ]
    }
   ],
   "source": [
    "print(dfrl.min()['Z'])"
   ]
  },
  {
   "cell_type": "code",
   "execution_count": 18,
   "metadata": {},
   "outputs": [
    {
     "name": "stdout",
     "output_type": "stream",
     "text": [
      "0    41\n",
      "1    40\n",
      "2    71\n",
      "dtype: int64\n"
     ]
    }
   ],
   "source": [
    "print(dfrl.sum(axis=1))"
   ]
  },
  {
   "cell_type": "code",
   "execution_count": 19,
   "metadata": {},
   "outputs": [
    {
     "name": "stdout",
     "output_type": "stream",
     "text": [
      "X    64\n",
      "Y    42\n",
      "Z    46\n",
      "dtype: int64\n"
     ]
    }
   ],
   "source": [
    "print(dfrl.sum(axis=0))"
   ]
  },
  {
   "cell_type": "code",
   "execution_count": 21,
   "metadata": {},
   "outputs": [
    {
     "name": "stdout",
     "output_type": "stream",
     "text": [
      "41\n"
     ]
    }
   ],
   "source": [
    "print(dfrl.sum(axis=1).iloc[0])"
   ]
  },
  {
   "cell_type": "code",
   "execution_count": 22,
   "metadata": {},
   "outputs": [
    {
     "name": "stdout",
     "output_type": "stream",
     "text": [
      "0    25\n",
      "1    20\n",
      "2    50\n",
      "dtype: int64\n"
     ]
    }
   ],
   "source": [
    "print(dfrl.max(axis=1))"
   ]
  },
  {
   "cell_type": "code",
   "execution_count": 23,
   "metadata": {},
   "outputs": [
    {
     "name": "stdout",
     "output_type": "stream",
     "text": [
      "0    6\n",
      "1    8\n",
      "2    9\n",
      "dtype: int64\n"
     ]
    }
   ],
   "source": [
    "print(dfrl.min(axis=1))"
   ]
  },
  {
   "cell_type": "code",
   "execution_count": null,
   "metadata": {},
   "outputs": [],
   "source": []
  }
 ],
 "metadata": {
  "kernelspec": {
   "display_name": "Python 3",
   "language": "python",
   "name": "python3"
  },
  "language_info": {
   "codemirror_mode": {
    "name": "ipython",
    "version": 3
   },
   "file_extension": ".py",
   "mimetype": "text/x-python",
   "name": "python",
   "nbconvert_exporter": "python",
   "pygments_lexer": "ipython3",
   "version": "3.7.5"
  }
 },
 "nbformat": 4,
 "nbformat_minor": 4
}
